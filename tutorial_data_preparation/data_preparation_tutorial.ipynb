{
 "cells": [
  {
   "cell_type": "markdown",
   "metadata": {},
   "source": [
    "To perform the subgraph sampling training in `Hist2Cell`, we need to prepare the dataset into certain data structure.\n",
    "\n",
    "In `./example_data/humanlung_cell2location` and `./example_data/humanlung_cell2location_2x`, we provide the processed data for the humanlung cell2location dataset in our study.\n",
    "In this tutorial, we will go through the data structure of the provided processed data.\n",
    "\n",
    "Then, we will show how to prepare your own raw data into this data structure."
   ]
  },
  {
   "cell_type": "markdown",
   "metadata": {
    "vscode": {
     "languageId": "plaintext"
    }
   },
   "source": [
    "First, let's see the data structure of process data for slide `WSA_LngSP9258467` from donor A50:"
   ]
  },
  {
   "cell_type": "code",
   "execution_count": 158,
   "metadata": {
    "ExecuteTime": {
     "end_time": "2024-08-09T17:38:34.724142Z",
     "start_time": "2024-08-09T17:38:34.700254800Z"
    }
   },
   "outputs": [
    {
     "data": {
      "text/plain": "Data(x=[2518, 3, 20, 20], edge_index=[2, 16608], y=[2518, 289], pos=[2518, 2])"
     },
     "execution_count": 158,
     "metadata": {},
     "output_type": "execute_result"
    }
   ],
   "source": [
    "import torch\n",
    "\n",
    "processed_data = torch.load(\"../patch/output/tissue_hires_image.pt\")\n",
    "#processed_data = torch.load(\"../example_data/humanlung_cell2location/WSA_LngSP8759311.pt\")\n",
    "processed_data"
   ]
  },
  {
   "cell_type": "markdown",
   "metadata": {},
   "source": [
    "In the processed  data, the following varibales are:\n",
    "- `x`: the 224*224*3 image patch for each spot in the ST data, each spot is considered as one node in the graphs representing the slide, there are in total 422 spots in this slide;\n",
    "- `edge_index`: graph connectivity in `COO` format with shape `[2, num_edges]`, there are 2732 edges in this slide;\n",
    "- `y`: the label for each spot, contains 250 highly expressed gene labels + 80 fine-grained cell abundance labels, resulting 330 labels for each spot;\n",
    "- `pos`: \"\"the x-y pixel coordinate of each spot on the original slide, used in visualization and calculating cell-colocalization metric;\"\""
   ]
  },
  {
   "cell_type": "code",
   "execution_count": 159,
   "metadata": {
    "ExecuteTime": {
     "end_time": "2024-08-09T17:38:38.873088Z",
     "start_time": "2024-08-09T17:38:38.859128400Z"
    }
   },
   "outputs": [
    {
     "data": {
      "text/plain": "torch.Size([3, 20, 20])"
     },
     "execution_count": 159,
     "metadata": {},
     "output_type": "execute_result"
    }
   ],
   "source": [
    "processed_data['x'][0].shape"
   ]
  },
  {
   "cell_type": "code",
   "execution_count": 160,
   "metadata": {
    "ExecuteTime": {
     "end_time": "2024-08-09T17:38:39.396882500Z",
     "start_time": "2024-08-09T17:38:39.381285900Z"
    }
   },
   "outputs": [
    {
     "data": {
      "text/plain": "tensor([0., 0., 0., 0., 0.])"
     },
     "execution_count": 160,
     "metadata": {},
     "output_type": "execute_result"
    }
   ],
   "source": [
    "processed_data['y'][0][:5]"
   ]
  },
  {
   "cell_type": "code",
   "execution_count": 161,
   "metadata": {
    "ExecuteTime": {
     "end_time": "2024-08-09T17:38:40.264980400Z",
     "start_time": "2024-08-09T17:38:40.246555800Z"
    }
   },
   "outputs": [
    {
     "data": {
      "text/plain": "tensor([[   0,    0,    0,  ..., 2517, 2517, 2517],\n        [   0,  248,  412,  ..., 2067, 2154, 2517]])"
     },
     "execution_count": 161,
     "metadata": {},
     "output_type": "execute_result"
    }
   ],
   "source": [
    "processed_data['edge_index']"
   ]
  },
  {
   "cell_type": "code",
   "execution_count": 162,
   "metadata": {
    "ExecuteTime": {
     "end_time": "2024-08-09T17:38:41.032617500Z",
     "start_time": "2024-08-09T17:38:41.015116300Z"
    }
   },
   "outputs": [
    {
     "data": {
      "text/plain": "tensor([[1092.7438, 1061.3435],\n        [ 522.9492, 1347.2244],\n        [ 834.7662,  512.0939],\n        [ 780.4167, 1410.3892],\n        [ 926.7085,  522.5849]])"
     },
     "execution_count": 162,
     "metadata": {},
     "output_type": "execute_result"
    }
   ],
   "source": [
    "processed_data['pos'][:5]"
   ]
  },
  {
   "cell_type": "code",
   "execution_count": 148,
   "outputs": [
    {
     "name": "stdout",
     "output_type": "stream",
     "text": [
      "<bound method Data.subgraph of Data(x=[2251, 3, 224, 224], edge_index=[2, 15033], y=[2251, 330], pos=[2251, 2])>\n"
     ]
    }
   ],
   "source": [
    "print(processed_data.subgraph)"
   ],
   "metadata": {
    "collapsed": false,
    "ExecuteTime": {
     "end_time": "2024-08-09T17:36:23.977284700Z",
     "start_time": "2024-08-09T17:36:23.961323400Z"
    }
   }
  },
  {
   "cell_type": "code",
   "execution_count": 163,
   "outputs": [
    {
     "name": "stdout",
     "output_type": "stream",
     "text": [
      "<bound method Data.subgraph of Data(x=[2518, 3, 20, 20], edge_index=[2, 16608], y=[2518, 289], pos=[2518, 2])>\n"
     ]
    }
   ],
   "source": [
    "print(processed_data.subgraph)"
   ],
   "metadata": {
    "collapsed": false,
    "ExecuteTime": {
     "end_time": "2024-08-09T17:38:48.000075100Z",
     "start_time": "2024-08-09T17:38:47.966405500Z"
    }
   }
  },
  {
   "cell_type": "markdown",
   "metadata": {},
   "source": [
    "For the `DataLoader`, we use `NeighborLoader` from `torch_geometric` , which supports subgraph sampling from some center nodes, here are 2 important parameters:\n",
    "- `hop`: this parameter define receptive field when sampling the subgraphs with a group of center nodes for training/testing, in our paper, we use 2-hop subgraphs to achieve a banlance between computation cost and performance, generally, bigger receptive field will contain more neighboring information.\n",
    "- `subgraph_bs`: this parameter define the number of subgraphs to be sampled during training/testing, which is the `subgraph batchsize`, we use `subgraph_bs=16` on our RTX 3090 GPU."
   ]
  },
  {
   "cell_type": "code",
   "execution_count": 164,
   "metadata": {
    "ExecuteTime": {
     "end_time": "2024-08-09T17:38:50.478901600Z",
     "start_time": "2024-08-09T17:38:50.463351100Z"
    }
   },
   "outputs": [],
   "source": [
    "from torch_geometric.loader import NeighborLoader\n",
    "import torch_geometric\n",
    "torch_geometric.typing.WITH_PYG_LIB = False\n",
    "\n",
    "\n",
    "hop = 2\n",
    "subgraph_bs = 16\n",
    "\n",
    "dataloader_loader = NeighborLoader(\n",
    "    processed_data,\n",
    "    num_neighbors=[-1]*hop,\n",
    "    batch_size=subgraph_bs,\n",
    "    directed=False,\n",
    "    input_nodes=None,\n",
    "    shuffle=True,\n",
    "    num_workers=2,\n",
    ")"
   ]
  },
  {
   "cell_type": "markdown",
   "metadata": {},
   "source": [
    "In `torch_geometric`, the sampled subgraphs are merged into a big graph for parallel training, for more details, please refer to the documentation of torch_geometric`."
   ]
  },
  {
   "cell_type": "code",
   "execution_count": 150,
   "metadata": {
    "ExecuteTime": {
     "end_time": "2024-08-09T17:36:34.543849700Z",
     "start_time": "2024-08-09T17:36:27.931207700Z"
    }
   },
   "outputs": [
    {
     "name": "stdout",
     "output_type": "stream",
     "text": [
      "Data(x=[250, 3, 224, 224], edge_index=[2, 1358], y=[250, 330], pos=[250, 2], n_id=[250], e_id=[1358], input_id=[16], batch_size=16)\n"
     ]
    }
   ],
   "source": [
    "for subgraphs in dataloader_loader:\n",
    "    print(subgraphs)\n",
    "    break"
   ]
  },
  {
   "cell_type": "code",
   "execution_count": 165,
   "outputs": [
    {
     "name": "stdout",
     "output_type": "stream",
     "text": [
      "Data(x=[216, 3, 20, 20], edge_index=[2, 1176], y=[216, 289], pos=[216, 2], n_id=[216], e_id=[1176], input_id=[16], batch_size=16)\n"
     ]
    }
   ],
   "source": [
    "for subgraphs in dataloader_loader:\n",
    "    print(subgraphs)\n",
    "    break"
   ],
   "metadata": {
    "collapsed": false,
    "ExecuteTime": {
     "end_time": "2024-08-09T17:39:06.064801400Z",
     "start_time": "2024-08-09T17:39:00.157156600Z"
    }
   }
  },
  {
   "cell_type": "markdown",
   "metadata": {},
   "source": [
    "Next, we show how to preprocess raw data into this structure for `Hist2Cell` training:\n",
    "\n",
    "We upload the raw data of slide `WSA_LngSP9258467` in `./example_data/example_raw_data/WSA_LngSP9258467` for preprocessing tutorial.\n",
    "\n",
    "We explain the files under this folder one by one:\n",
    "- `patch`: folder contain the image patches for each spot in the ST data, to crop the image patches from a WSI and obtain the coordinate, please refer to the pipeline in [DSMIL repository](https://github.com/binli123/dsmil-wsi);\n",
    "- `cell_ratio.csv`: contains the 80 fine-grained cell type abundances;\n",
    "- `stdata.csv`: contains the spatial gene expression for each spot;\n",
    "- `log1p_stdata.csv`: contains the log1p processed spatial gene expression for each spot;\n",
    "- `spots.csv`: contains the pixel coordinate for each spot;\n",
    "- `high_250_stdata.csv`: contains the top 250 highly expressed spatial gene expression for each spot;\n",
    "- `high_250_stdata_log1p.csv`: contains the log1p processed top 250 highly expressed spatial gene expression for each spot;\n",
    "- `WSA_LngSP9258467.jpg`: the original slide image;\n",
    "- `WSA_LngSP9258467_low_res.jpg`: the low-resolution slide image, for quick visualization and other processing;\n",
    "- `spot_view.jpg`: the original slide image with visualized spots;\n",
    "- `2x_patch`: folder contain the image patches for each spot in 2x super-resolved experiments;\n",
    "- `2x_spots.csv`: contains the pixel coordinate for each image patch in the 2x super-resolved experiments;\n",
    "- `2x_spot_view.jpg`: the original slide image with visualized 2x resolution spots;"
   ]
  },
  {
   "cell_type": "markdown",
   "metadata": {},
   "source": [
    "To process the raw data, we first define a `STDataset` to iterate the spots:"
   ]
  },
  {
   "cell_type": "code",
   "execution_count": 6,
   "metadata": {
    "ExecuteTime": {
     "end_time": "2024-08-05T15:31:22.246127400Z",
     "start_time": "2024-08-05T15:31:22.234071200Z"
    }
   },
   "outputs": [],
   "source": [
    "import os\n",
    "import numpy as np\n",
    "import pandas as pd\n",
    "from torchvision import transforms\n",
    "from PIL import Image\n",
    "import torch\n",
    "\n",
    "class STDataset(torch.utils.data.Dataset):\n",
    "    def __init__(self, root, slide,transform=None):\n",
    "        super(STDataset, self).__init__()\n",
    "        self.root = root\n",
    "        self.slide = slide\n",
    "        self.transform = transform\n",
    "\n",
    "        patch_path = os.path.join(root, slide, 'patches')\n",
    "        patch = os.listdir(patch_path)\n",
    "        patch_list = [x.split('.')[0] for x in patch]\n",
    "\n",
    "        cell_label = pd.read_csv(os.path.join(root, slide, 'cell_ratio.csv'), index_col=0)\n",
    "        gene_label = pd.read_csv(os.path.join(root, slide, 'high_250_stdata.csv'), index_col=0)\n",
    "        label_df = pd.merge(gene_label, cell_label, left_index=True, right_index=True)\n",
    "\n",
    "        label_index_set = set(label_df.index)\n",
    "        patch_index_set = set(patch_list)\n",
    "        and_set = label_index_set & patch_index_set\n",
    "\n",
    "        patch_list = list(and_set)\n",
    "        self.label_df = label_df.loc[patch_list]\n",
    "        self.patch = patch_list\n",
    "\n",
    "\n",
    "    def __getitem__(self, index):\n",
    "        patch_id = self.patch[index]\n",
    "        patch_path = os.path.join(self.root, self.slide, 'patches', patch_id)\n",
    "        patch = Image.open(patch_path+'.jpg').convert('RGB')\n",
    "        data = transforms.Resize((224, 224))(patch)\n",
    "        if self.transform is not None:\n",
    "            data = self.transform(data)\n",
    "        label = self.label_df.loc[patch_id].values\n",
    "        label = torch.Tensor(label)\n",
    "\n",
    "        return patch_id, data, label\n",
    "\n",
    "    def __len__(self):\n",
    "        return len(self.patch)"
   ]
  },
  {
   "cell_type": "code",
   "execution_count": 7,
   "metadata": {
    "ExecuteTime": {
     "end_time": "2024-08-05T15:31:23.044365800Z",
     "start_time": "2024-08-05T15:31:23.002957200Z"
    }
   },
   "outputs": [],
   "source": [
    "test_transform_pcam = transforms.Compose([\n",
    "        transforms.ToTensor(),\n",
    "        transforms.Normalize(mean=[0.485, 0.456, 0.406], std=[0.229, 0.224, 0.225])\n",
    "    ])\n",
    "\n",
    "test_data = STDataset(root=\"../example_data/example_raw_data\", slide=\"WSA_LngSP9258467\",transform=test_transform_pcam)\n",
    "test_loader = torch.utils.data.DataLoader(test_data, batch_size=512, shuffle=False, num_workers=0)"
   ]
  },
  {
   "cell_type": "markdown",
   "metadata": {},
   "source": [
    "We iterate this `STDataset`, save the spot image patch, the spot labels, and the spot id:"
   ]
  },
  {
   "cell_type": "code",
   "execution_count": 8,
   "metadata": {
    "ExecuteTime": {
     "end_time": "2024-08-05T15:31:27.010614200Z",
     "start_time": "2024-08-05T15:31:25.714531900Z"
    }
   },
   "outputs": [],
   "source": [
    "spot_data_array = []\n",
    "spot_label_array = []\n",
    "spot_id_array = []\n",
    "for name, data, label in test_loader:\n",
    "    spot_id_array.append(list(name))\n",
    "    label = label.float()\n",
    "    label = label.squeeze()\n",
    "    spot_label_array.append(label.detach().numpy())\n",
    "    spot_data_array.append(data.detach().numpy())\n",
    "for i in range(len(spot_data_array)):\n",
    "    if len(spot_data_array[i].shape) <= 1:\n",
    "        spot_data_array[i] = spot_data_array[i][np.newaxis, :]\n",
    "for i in range(len(spot_label_array)):\n",
    "    if len(spot_label_array[i].shape) <= 1:\n",
    "        spot_label_array[i] = spot_label_array[i][np.newaxis, :]\n",
    "        \n",
    "spot_data_array = np.concatenate(spot_data_array)\n",
    "spot_label_array = np.concatenate(spot_label_array)\n",
    "spot_ids = list()\n",
    "for ids in spot_id_array:\n",
    "    spot_ids=spot_ids+ids\n",
    "spot_id_array = spot_ids"
   ]
  },
  {
   "cell_type": "code",
   "execution_count": 9,
   "metadata": {
    "ExecuteTime": {
     "end_time": "2024-08-05T15:31:30.960374Z",
     "start_time": "2024-08-05T15:31:30.933425300Z"
    }
   },
   "outputs": [
    {
     "data": {
      "text/plain": "['WSA_LngSP9258467_CCATGGCCCTTGTACC-1',\n 'WSA_LngSP9258467_CATACCCGTACCCAGT-1',\n 'WSA_LngSP9258467_CACAATGAGCTGCTAT-1',\n 'WSA_LngSP9258467_AGACTAGCCTTCCAGA-1',\n 'WSA_LngSP9258467_CAGGCCGTTTGGGTGT-1',\n 'WSA_LngSP9258467_CTTGCCCAGGCTCTAC-1',\n 'WSA_LngSP9258467_CGGAACGTAAACATAG-1',\n 'WSA_LngSP9258467_ATAAGTTACCGCGACG-1',\n 'WSA_LngSP9258467_ATAAACGGACCCGTAA-1',\n 'WSA_LngSP9258467_ACCATCGTATATGGTA-1',\n 'WSA_LngSP9258467_TGATCGGTTTGACCCT-1',\n 'WSA_LngSP9258467_CGTGAAGTTAATTCAC-1',\n 'WSA_LngSP9258467_GTGCGAAATCGAACAC-1',\n 'WSA_LngSP9258467_GGTCAGTGGGTCCCAC-1',\n 'WSA_LngSP9258467_AACCAAGACTTCTCTG-1',\n 'WSA_LngSP9258467_GCGCCGTTCCACGATA-1',\n 'WSA_LngSP9258467_TCACGCATTGTAGATC-1',\n 'WSA_LngSP9258467_ATCGACCCAATACAGA-1',\n 'WSA_LngSP9258467_CAGGATATATCGTTGT-1',\n 'WSA_LngSP9258467_TAGGTGAGCCCTACTC-1',\n 'WSA_LngSP9258467_ATACCACGGGCAACTT-1',\n 'WSA_LngSP9258467_TTATGAATGAAAGGGA-1',\n 'WSA_LngSP9258467_AAATCGTGTACCACAA-1',\n 'WSA_LngSP9258467_AGATTATAGGACGTTT-1',\n 'WSA_LngSP9258467_GCCGGGTTAGGGTCGC-1',\n 'WSA_LngSP9258467_CGAGACCCTAGAGTGT-1',\n 'WSA_LngSP9258467_AGGCTTCCCGAAGAAG-1',\n 'WSA_LngSP9258467_TGGCGATCAAGTTATG-1',\n 'WSA_LngSP9258467_TGGAAGAAGGGAACGT-1',\n 'WSA_LngSP9258467_TACGCCATATTCTAAT-1',\n 'WSA_LngSP9258467_GCAGGACTATAGAATA-1',\n 'WSA_LngSP9258467_CGGCCACGCACAAAGT-1',\n 'WSA_LngSP9258467_GCGACGATAGTTGTAC-1',\n 'WSA_LngSP9258467_AGTGATATGAGTAGTT-1',\n 'WSA_LngSP9258467_GTGCCGCTTCAAAGGT-1',\n 'WSA_LngSP9258467_CGCTCTCCGTAGATTA-1',\n 'WSA_LngSP9258467_CGTGTCCCATTCGCGA-1',\n 'WSA_LngSP9258467_GAAGCTTGCTGACCGC-1',\n 'WSA_LngSP9258467_CATACGGCGTCTGGGC-1',\n 'WSA_LngSP9258467_ATCCAGAGCAACAACC-1',\n 'WSA_LngSP9258467_CCATTAGCGATAATCC-1',\n 'WSA_LngSP9258467_CAGTTCAAATTGACAC-1',\n 'WSA_LngSP9258467_GTCGGATATCTCAGAC-1',\n 'WSA_LngSP9258467_CACTCAAGAGCTATGG-1',\n 'WSA_LngSP9258467_AAATGGTCAATGTGCC-1',\n 'WSA_LngSP9258467_CTCCGCCCACATGAGG-1',\n 'WSA_LngSP9258467_GTGCCATCACACGGTG-1',\n 'WSA_LngSP9258467_GGCGCGTTCGAGTTTA-1',\n 'WSA_LngSP9258467_GACATCGATTTATAAC-1',\n 'WSA_LngSP9258467_TGTACGAACAAATCCG-1',\n 'WSA_LngSP9258467_TCTAGTTATCAGAAGA-1',\n 'WSA_LngSP9258467_CTAGTGAAGGACAGGA-1',\n 'WSA_LngSP9258467_ATGCACTACCGCATTG-1',\n 'WSA_LngSP9258467_GATCATTCCAAACATT-1',\n 'WSA_LngSP9258467_ATAATAGCTGTTGAAT-1',\n 'WSA_LngSP9258467_TACCAGAAGTAGGTTC-1',\n 'WSA_LngSP9258467_GATCTTTGCAGGGTAT-1',\n 'WSA_LngSP9258467_GTTCACAGGAGTCTAG-1',\n 'WSA_LngSP9258467_AATATTGGAGTATTGA-1',\n 'WSA_LngSP9258467_TGACCCACGTTAGACA-1',\n 'WSA_LngSP9258467_GACGTGTAGGGATTAT-1',\n 'WSA_LngSP9258467_TGATTTATTAGCTGTG-1',\n 'WSA_LngSP9258467_TAGTCCGCAGAGAATG-1',\n 'WSA_LngSP9258467_GGCACTCCACTGGGCA-1',\n 'WSA_LngSP9258467_AGTGCGTAGCTCGTAA-1',\n 'WSA_LngSP9258467_CCCTGAAATGAGTTGA-1',\n 'WSA_LngSP9258467_ACCCATCTTGAGGGTA-1',\n 'WSA_LngSP9258467_CTTCTATTAATGCTAG-1',\n 'WSA_LngSP9258467_CGAACCCGCATGCGTC-1',\n 'WSA_LngSP9258467_CTGTTACCCAATCTAG-1',\n 'WSA_LngSP9258467_TCACCCTCTTAAGATT-1',\n 'WSA_LngSP9258467_TAAGTAACATCTTGAC-1',\n 'WSA_LngSP9258467_TGCGAGAATATTACCC-1',\n 'WSA_LngSP9258467_ATAAATATTAGCAGCT-1',\n 'WSA_LngSP9258467_CGGTGCAGATAGAACG-1',\n 'WSA_LngSP9258467_CGTTGTTTCAATTCCC-1',\n 'WSA_LngSP9258467_ATAGGCGGCTATAGAA-1',\n 'WSA_LngSP9258467_GATCGACACTATCTGA-1',\n 'WSA_LngSP9258467_ACACTGATCAAGGTGT-1',\n 'WSA_LngSP9258467_ATCCTGCGTGGAATGG-1',\n 'WSA_LngSP9258467_GCCCGCGCGTAAACGG-1',\n 'WSA_LngSP9258467_TCCGGTTCGTCCGGTC-1',\n 'WSA_LngSP9258467_ATAGACGAAGAGAAAG-1',\n 'WSA_LngSP9258467_CGAAGTTGCTCTGTGT-1',\n 'WSA_LngSP9258467_ACAATCCATTTAAACC-1',\n 'WSA_LngSP9258467_AGGACGACCCATTAGA-1',\n 'WSA_LngSP9258467_CGATCCGACCCAGTGC-1',\n 'WSA_LngSP9258467_GATACGATGGGAGTCA-1',\n 'WSA_LngSP9258467_GGCATACAGGTAGCGG-1',\n 'WSA_LngSP9258467_TGAGTAAATTAGCGTA-1',\n 'WSA_LngSP9258467_AGCTCTTTACTCAGTT-1',\n 'WSA_LngSP9258467_CAGACGAACCTGATAC-1',\n 'WSA_LngSP9258467_TTGAAGAATTCCCAGG-1',\n 'WSA_LngSP9258467_GCGCTATGCCGAGGCA-1',\n 'WSA_LngSP9258467_GAATCTGAACATTCTC-1',\n 'WSA_LngSP9258467_CCTGGCTAGACCCGCC-1',\n 'WSA_LngSP9258467_ACCTAATCGACTTCCT-1',\n 'WSA_LngSP9258467_GTATCTTTCATAACCA-1',\n 'WSA_LngSP9258467_ATCTTGACCTGCAACG-1',\n 'WSA_LngSP9258467_GGGTATGTATGCACTT-1',\n 'WSA_LngSP9258467_ATCCAGGATTCGTGAA-1',\n 'WSA_LngSP9258467_TCACGTGCCCGATTCA-1',\n 'WSA_LngSP9258467_ACTGTAGCACTTTGGA-1',\n 'WSA_LngSP9258467_GTCCGGCTGAATTGCG-1',\n 'WSA_LngSP9258467_AAGGCTGTGCTCATCG-1',\n 'WSA_LngSP9258467_GTACTCCCTTATCGCT-1',\n 'WSA_LngSP9258467_CCAAGAAAGTGGGCGA-1',\n 'WSA_LngSP9258467_AAGGAGCGGTTGGTGC-1',\n 'WSA_LngSP9258467_TAGGTCCAAGTAAGGA-1',\n 'WSA_LngSP9258467_CACGCAGCGAGGCTTT-1',\n 'WSA_LngSP9258467_GTTATATTATCTCCCT-1',\n 'WSA_LngSP9258467_TGGCAGATTACGATCA-1',\n 'WSA_LngSP9258467_GCGTCTCTGCATTGGG-1',\n 'WSA_LngSP9258467_GCGGACCGCGTTGTGG-1',\n 'WSA_LngSP9258467_GACTAAGTAGGCTCAC-1',\n 'WSA_LngSP9258467_TTGCATGCTGATCACG-1',\n 'WSA_LngSP9258467_GAAGTTTCCACTCAAT-1',\n 'WSA_LngSP9258467_CATCGGACGGGTTAAT-1',\n 'WSA_LngSP9258467_TACGAGAACTTCACGT-1',\n 'WSA_LngSP9258467_CGTGCATTGTCGACGC-1',\n 'WSA_LngSP9258467_GTGCTCAAGTACTGTC-1',\n 'WSA_LngSP9258467_GCAGCACACAGCCCAG-1',\n 'WSA_LngSP9258467_CCGCGGGTACGAAGAA-1',\n 'WSA_LngSP9258467_TTACCATTGATTACCC-1',\n 'WSA_LngSP9258467_GGCGGAGTAATATTAG-1',\n 'WSA_LngSP9258467_TCCCAGCTTTAGTCTG-1',\n 'WSA_LngSP9258467_GATCGCGGGCTCTCCA-1',\n 'WSA_LngSP9258467_AACAACTGGTAGTTGC-1',\n 'WSA_LngSP9258467_CGATACCTCGCGGACA-1',\n 'WSA_LngSP9258467_TTAAGCGCCTGACCCA-1',\n 'WSA_LngSP9258467_GCAAGAATTCCTTGGC-1',\n 'WSA_LngSP9258467_GACCAGAGCCCTGTAG-1',\n 'WSA_LngSP9258467_GGGTGACACCTTAACT-1',\n 'WSA_LngSP9258467_GCATAGAGCACTCAGG-1',\n 'WSA_LngSP9258467_CGTTTCGCTCATTACA-1',\n 'WSA_LngSP9258467_CAAACGAGTATCGCAG-1',\n 'WSA_LngSP9258467_GCCGCTTGTGAGAAAC-1',\n 'WSA_LngSP9258467_TACCTGCTGCACTGTG-1',\n 'WSA_LngSP9258467_CCAGCTGATGGTACTT-1',\n 'WSA_LngSP9258467_CGGTGCGCGTTGGTCC-1',\n 'WSA_LngSP9258467_TGGTCTGTTGGGCGTA-1',\n 'WSA_LngSP9258467_CAAATGTCCTTCCGTG-1',\n 'WSA_LngSP9258467_TCCTAGCAAAGAAGCT-1',\n 'WSA_LngSP9258467_TATTCCACTCAGCTCG-1',\n 'WSA_LngSP9258467_GGAACCGTGTAAATTG-1',\n 'WSA_LngSP9258467_TTGATTATGCAGATGA-1',\n 'WSA_LngSP9258467_TCAGTAGGGACTATAA-1',\n 'WSA_LngSP9258467_AAATTAACGGGTAGCT-1',\n 'WSA_LngSP9258467_CCGCACGTGACCTCGG-1',\n 'WSA_LngSP9258467_GAAGTGATTTATCGTG-1',\n 'WSA_LngSP9258467_GTTACAATTGGTGACG-1',\n 'WSA_LngSP9258467_GTTTCATATCGTCGCT-1',\n 'WSA_LngSP9258467_GTGGTTTCCGCCTTTC-1',\n 'WSA_LngSP9258467_GTATTCTGAGAAACGA-1',\n 'WSA_LngSP9258467_TGTTCTTCCATTGACT-1',\n 'WSA_LngSP9258467_CTTTAGTGCTATTATT-1',\n 'WSA_LngSP9258467_TGCAGAGTACCGAGCA-1',\n 'WSA_LngSP9258467_TTCTTGAGCCGCGCTA-1',\n 'WSA_LngSP9258467_CACGAAAGTTAGTCCC-1',\n 'WSA_LngSP9258467_GGGAACGGGAGGTTAG-1',\n 'WSA_LngSP9258467_AACGTACTGTGGGTAC-1',\n 'WSA_LngSP9258467_CGAAACGCAATTCATG-1',\n 'WSA_LngSP9258467_CACTTAATCAGACGGA-1',\n 'WSA_LngSP9258467_GACACTGAGTTCAGTG-1',\n 'WSA_LngSP9258467_ATTGAAGATCTTAGTG-1',\n 'WSA_LngSP9258467_ATTCAGTAGCAGGGTC-1',\n 'WSA_LngSP9258467_CCTGCTATTTGAGAAG-1',\n 'WSA_LngSP9258467_ACCCGGTTACACTTCC-1',\n 'WSA_LngSP9258467_TACCGGTCGTTTCCAT-1',\n 'WSA_LngSP9258467_GGTATTGCCGAGTTTA-1',\n 'WSA_LngSP9258467_TAACGCTTTGAGAGCG-1',\n 'WSA_LngSP9258467_GTCGTACCATCTCGGG-1',\n 'WSA_LngSP9258467_ATTACGCGCTGGCAGG-1',\n 'WSA_LngSP9258467_CCTCTCTCCCATCTAG-1',\n 'WSA_LngSP9258467_TAGTGCCCTCCAGAGT-1',\n 'WSA_LngSP9258467_GAAACCGAATTACCTT-1',\n 'WSA_LngSP9258467_TCGCCGAAGTTGCGTC-1',\n 'WSA_LngSP9258467_GGTGCTGGTACACATT-1',\n 'WSA_LngSP9258467_TCCCTGGCTCGCTGGA-1',\n 'WSA_LngSP9258467_CGCGCATGTTTGATTG-1',\n 'WSA_LngSP9258467_TTGATCTAACTTTGTC-1',\n 'WSA_LngSP9258467_TGAGCCATACAGTCTC-1',\n 'WSA_LngSP9258467_CCTACTGCTTACACTT-1',\n 'WSA_LngSP9258467_TTCCGCGTGAGGCGAT-1',\n 'WSA_LngSP9258467_TGCGCGATTAACGGAG-1',\n 'WSA_LngSP9258467_CGGAGTTTGAGAGACA-1',\n 'WSA_LngSP9258467_AAGAGGATGTACGCGA-1',\n 'WSA_LngSP9258467_CTAAAGAATGCCTACT-1',\n 'WSA_LngSP9258467_CTGCGGGTGAAATGTT-1',\n 'WSA_LngSP9258467_GAGTCCGCTTACCGGA-1',\n 'WSA_LngSP9258467_TCCGATTACATTGCCG-1',\n 'WSA_LngSP9258467_AAGTAGTGACGCGAGG-1',\n 'WSA_LngSP9258467_TCCACAATGGTTTACG-1',\n 'WSA_LngSP9258467_CTAAAGGGAAATAGGA-1',\n 'WSA_LngSP9258467_AGTTAAACACTTGCGA-1',\n 'WSA_LngSP9258467_TGATCTCCGGCGCCAG-1',\n 'WSA_LngSP9258467_CTGAATCCGAGACCTC-1',\n 'WSA_LngSP9258467_AGCACTACCGGCCTGT-1',\n 'WSA_LngSP9258467_GTAATCTGATTCTTCG-1',\n 'WSA_LngSP9258467_TTATGACAAACTGGAT-1',\n 'WSA_LngSP9258467_GAGGAATGGAGAGGTT-1',\n 'WSA_LngSP9258467_TGGCAGCAGTAATAGT-1',\n 'WSA_LngSP9258467_GACAGGCACACACTAT-1',\n 'WSA_LngSP9258467_TCCTGCGTTGATACTC-1',\n 'WSA_LngSP9258467_AACTTGCCCGTATGCA-1',\n 'WSA_LngSP9258467_CATTTGAGTGGTACGT-1',\n 'WSA_LngSP9258467_CTACGACTAGCTATAA-1',\n 'WSA_LngSP9258467_GTTCGCCATAAGTGCC-1',\n 'WSA_LngSP9258467_TAGAGTCTAAGCGAAC-1',\n 'WSA_LngSP9258467_TCGTATTACCCATTGC-1',\n 'WSA_LngSP9258467_GATAGGTAACGTTGAC-1',\n 'WSA_LngSP9258467_GCGGTTCCCTATCATG-1',\n 'WSA_LngSP9258467_GCGGCTCTGACGTACC-1',\n 'WSA_LngSP9258467_GACCGACTGAAGCGTC-1',\n 'WSA_LngSP9258467_CTTCGTAGATAGGTGA-1',\n 'WSA_LngSP9258467_CGGTGAAGACTAAAGT-1',\n 'WSA_LngSP9258467_GTGAGCGTGCTGCACT-1',\n 'WSA_LngSP9258467_TTAGTAGGGCGGCGGG-1',\n 'WSA_LngSP9258467_GACGCTTGCTTCTAAA-1',\n 'WSA_LngSP9258467_TTGCACAATTCAGAAA-1',\n 'WSA_LngSP9258467_ACCACAAGTTTCTATC-1',\n 'WSA_LngSP9258467_ACGCGAAGTCAGACGA-1',\n 'WSA_LngSP9258467_CAGATACTAACATAGT-1',\n 'WSA_LngSP9258467_AACAATTACTCTACGC-1',\n 'WSA_LngSP9258467_TAACTCATCCGCGCGG-1',\n 'WSA_LngSP9258467_AGATACCGGTGTTCAC-1',\n 'WSA_LngSP9258467_CGGGAATTTATGTAAA-1',\n 'WSA_LngSP9258467_GAAGCGTGAGGAATTT-1',\n 'WSA_LngSP9258467_TTCACGAAAGGATCAC-1',\n 'WSA_LngSP9258467_TACTGGACAGCTCGGC-1',\n 'WSA_LngSP9258467_GAGTATGCCCGCCTTG-1',\n 'WSA_LngSP9258467_TTGCGTCGGCCAACCG-1',\n 'WSA_LngSP9258467_TCACAGGTTATTGGGC-1',\n 'WSA_LngSP9258467_GGGCGTCACCACGTAA-1',\n 'WSA_LngSP9258467_GTCTATCTGAGTTTCT-1',\n 'WSA_LngSP9258467_GGGCTGGTTAGTCGCG-1',\n 'WSA_LngSP9258467_TTGCTGATCATGTTCG-1',\n 'WSA_LngSP9258467_TCAGGTTCTTTGAGAA-1',\n 'WSA_LngSP9258467_CTTTGGCTTTAGTAAA-1',\n 'WSA_LngSP9258467_CGCGTTCATGAAATAC-1',\n 'WSA_LngSP9258467_CCGCTATCAGCACCAG-1',\n 'WSA_LngSP9258467_GAGAGGGCGCGAGGTT-1',\n 'WSA_LngSP9258467_GCTGTATTACTGGCCC-1',\n 'WSA_LngSP9258467_GTACTAAGATTTGGAG-1',\n 'WSA_LngSP9258467_GGTACAAACATGCTAT-1',\n 'WSA_LngSP9258467_TCCAACTTTAAATTCT-1',\n 'WSA_LngSP9258467_AGAAGGTTGCCGAATT-1',\n 'WSA_LngSP9258467_GGCGCAGGACATCTTC-1',\n 'WSA_LngSP9258467_AATAGAACAGAGTGGC-1',\n 'WSA_LngSP9258467_ACCATATCCGCAATAA-1',\n 'WSA_LngSP9258467_CAGCTTAGTAGGTAGC-1',\n 'WSA_LngSP9258467_TTGAGAGTACTGCTAA-1',\n 'WSA_LngSP9258467_ACATCGATCGTTTACC-1',\n 'WSA_LngSP9258467_TCTGGGTAGCGCTCAT-1',\n 'WSA_LngSP9258467_AACGGCCATCTCCGGT-1',\n 'WSA_LngSP9258467_CTTACACGGTATTCCA-1',\n 'WSA_LngSP9258467_ACAAGGACAAGAGGTT-1',\n 'WSA_LngSP9258467_GGCGCATGAATTGATG-1',\n 'WSA_LngSP9258467_AGGTAGGTACAAAGCT-1',\n 'WSA_LngSP9258467_CTAATTCGCACGCGCT-1',\n 'WSA_LngSP9258467_AACAGGATGGGCCGCG-1',\n 'WSA_LngSP9258467_GGGATGGTCGTAACCG-1',\n 'WSA_LngSP9258467_GGCGTCCTATCCGCTG-1',\n 'WSA_LngSP9258467_TTGCGGCATCAGAAAG-1',\n 'WSA_LngSP9258467_CCCTGCGCTACGCATA-1',\n 'WSA_LngSP9258467_TACGATGTTGATCATC-1',\n 'WSA_LngSP9258467_GCTAGCTTGAATAGCT-1',\n 'WSA_LngSP9258467_TGGAGTGATGCGATGA-1',\n 'WSA_LngSP9258467_CACTAAAGTTGCCTAT-1',\n 'WSA_LngSP9258467_ATAGAGTACTGGGACA-1',\n 'WSA_LngSP9258467_AGTCAACACCACCATC-1',\n 'WSA_LngSP9258467_CCGGGTTCGAGGTTAC-1',\n 'WSA_LngSP9258467_CCGACAAAGGGAGTGC-1',\n 'WSA_LngSP9258467_ACATCGGTCAGCCGCG-1',\n 'WSA_LngSP9258467_ACGTTAGATTTGCCCG-1',\n 'WSA_LngSP9258467_GGCTATTAAGTTGTAT-1',\n 'WSA_LngSP9258467_CGCAATTCTACAATAA-1',\n 'WSA_LngSP9258467_CCCAACATACGTCGCG-1',\n 'WSA_LngSP9258467_CAAGCAACGTCGGAGT-1',\n 'WSA_LngSP9258467_ATATTCAGTTAAACCT-1',\n 'WSA_LngSP9258467_GTCTGGGCGGTCGAGA-1',\n 'WSA_LngSP9258467_TACAACGCACAACTCA-1',\n 'WSA_LngSP9258467_CCTCCGACAATTCAAG-1',\n 'WSA_LngSP9258467_AAGAGATGAATCGGTA-1',\n 'WSA_LngSP9258467_ATAAAGGCTCGGTCGT-1',\n 'WSA_LngSP9258467_GAGATCTGCTTGGCAT-1',\n 'WSA_LngSP9258467_GATTACTGAATTTGGG-1',\n 'WSA_LngSP9258467_ATCATCCAATATTTGT-1',\n 'WSA_LngSP9258467_AGATAACTTCAGGGCC-1',\n 'WSA_LngSP9258467_ACGCGCTACACAGGGT-1',\n 'WSA_LngSP9258467_CCAGGGACGTGGCCTC-1',\n 'WSA_LngSP9258467_CTGGAAATGGATGCTT-1',\n 'WSA_LngSP9258467_ACAAGCAGTGCCTAGC-1',\n 'WSA_LngSP9258467_TACGACGCTTGCTGCG-1',\n 'WSA_LngSP9258467_GATGCGTCCTGCATTC-1',\n 'WSA_LngSP9258467_TACGTTTACCGGCAAT-1',\n 'WSA_LngSP9258467_AAACCGTTCGTCCAGG-1',\n 'WSA_LngSP9258467_ATCAGACGGCACGCCG-1',\n 'WSA_LngSP9258467_CCAACGATGCACTGAT-1',\n 'WSA_LngSP9258467_GCTGGCATATTCACCT-1',\n 'WSA_LngSP9258467_TCGAAATTTAGGACCA-1',\n 'WSA_LngSP9258467_TACGAACACGACTTCA-1',\n 'WSA_LngSP9258467_TTACTGGGATATTTCA-1',\n 'WSA_LngSP9258467_CAGCTCACTGAGACAT-1',\n 'WSA_LngSP9258467_GCCGATTGGCCAAGCT-1',\n 'WSA_LngSP9258467_TCGAGACCAACACCGT-1',\n 'WSA_LngSP9258467_GAATTCACCCGGGTGT-1',\n 'WSA_LngSP9258467_AGTTCCTACAGAATTA-1',\n 'WSA_LngSP9258467_ACTTATTAGGATCGGT-1',\n 'WSA_LngSP9258467_TAGTCTAACAACGAGA-1',\n 'WSA_LngSP9258467_GAAATATCACCATCAG-1',\n 'WSA_LngSP9258467_TATCTACAGAGGTAAT-1',\n 'WSA_LngSP9258467_CGGGCAGCTAAACCGC-1',\n 'WSA_LngSP9258467_AGTTCCTATTTATGTT-1',\n 'WSA_LngSP9258467_AACTCAAGTTAATTGC-1',\n 'WSA_LngSP9258467_ATAGTGAAGCGTTCTC-1',\n 'WSA_LngSP9258467_GGTTAGGCTTGGAGAA-1',\n 'WSA_LngSP9258467_AGGCCACCCGTTATGA-1',\n 'WSA_LngSP9258467_TCCAGGCGAGTACGGT-1',\n 'WSA_LngSP9258467_TTGCCCTGATCACGGG-1',\n 'WSA_LngSP9258467_GAAACTCGTGCGATGC-1',\n 'WSA_LngSP9258467_TAGATATGGACTGGAA-1',\n 'WSA_LngSP9258467_GTTACTTTGGGCCTAG-1',\n 'WSA_LngSP9258467_GAAAGCCCTTTGGACC-1',\n 'WSA_LngSP9258467_TATGGGACCGAGCAGG-1',\n 'WSA_LngSP9258467_TACATTTCTAACGTGC-1',\n 'WSA_LngSP9258467_TATGGGTACGTATCGT-1',\n 'WSA_LngSP9258467_CTGGATTTACACTTGA-1',\n 'WSA_LngSP9258467_ATTAAACATGCGGACC-1',\n 'WSA_LngSP9258467_CTAACCGCGCGCCCGT-1',\n 'WSA_LngSP9258467_TCGGAATGCGCTCTGA-1',\n 'WSA_LngSP9258467_TACAAGTCTCGTGCAT-1',\n 'WSA_LngSP9258467_TATCTACCACAGCGGG-1',\n 'WSA_LngSP9258467_TATGGATGTGCTACGC-1',\n 'WSA_LngSP9258467_TTGGATATCGTCTACG-1',\n 'WSA_LngSP9258467_GGGCCCGTCTTAAACA-1',\n 'WSA_LngSP9258467_GTTGGATTTGCGTTGG-1',\n 'WSA_LngSP9258467_ACGAAATGGGCGGCAC-1',\n 'WSA_LngSP9258467_CGCTACGGGACATTTA-1',\n 'WSA_LngSP9258467_ATCACGTGCTAATTAA-1',\n 'WSA_LngSP9258467_CGCAAACACGAGTTAC-1',\n 'WSA_LngSP9258467_GCGAGGCCCGAGCAGA-1',\n 'WSA_LngSP9258467_CGTATTAAGAGATCTA-1',\n 'WSA_LngSP9258467_AATTAAAGGTCGGCGT-1',\n 'WSA_LngSP9258467_TTCCACACAGATTTGA-1',\n 'WSA_LngSP9258467_CTTCATTGTCAGTGGA-1',\n 'WSA_LngSP9258467_TGTCCTAAGTCACCGC-1',\n 'WSA_LngSP9258467_ACTTGGGACCCGGTGG-1',\n 'WSA_LngSP9258467_GTCAGAATAGTCTATG-1',\n 'WSA_LngSP9258467_GAAATTGTCTCTATAA-1',\n 'WSA_LngSP9258467_TATGGCCCGGCCTCGC-1',\n 'WSA_LngSP9258467_TCACAGCAAACTCGAA-1',\n 'WSA_LngSP9258467_CTGCCATGCATCACAT-1',\n 'WSA_LngSP9258467_TGTAGTGATCTATAAT-1',\n 'WSA_LngSP9258467_CCATGCCTGTTTAGTA-1',\n 'WSA_LngSP9258467_CAAACGGTCGCACTTT-1',\n 'WSA_LngSP9258467_ACTGTCCAGGATTATA-1',\n 'WSA_LngSP9258467_GAGGCTATCAAAGTCG-1',\n 'WSA_LngSP9258467_CATATAGGTACAGTCA-1',\n 'WSA_LngSP9258467_GCCACAATTTAAGGAC-1',\n 'WSA_LngSP9258467_GTGGGCTTAGACACAC-1',\n 'WSA_LngSP9258467_CGCTATTCTTAGGCTC-1',\n 'WSA_LngSP9258467_CCATTCCCTGCCCACA-1',\n 'WSA_LngSP9258467_CTACTCTAGGCCCGGC-1',\n 'WSA_LngSP9258467_ATTCATATACTGTCCA-1',\n 'WSA_LngSP9258467_CCAATGTCACAGCAAG-1',\n 'WSA_LngSP9258467_TTGACTACCATATGGT-1',\n 'WSA_LngSP9258467_GTGACTTCAGTAGTGC-1',\n 'WSA_LngSP9258467_CATACTATGTAATTGT-1',\n 'WSA_LngSP9258467_TTCGTACTCCAGAACG-1',\n 'WSA_LngSP9258467_ATCCTACCTAAGCTCT-1',\n 'WSA_LngSP9258467_CCGTGTTAAATTCCAT-1',\n 'WSA_LngSP9258467_TACATAGGCATACACC-1',\n 'WSA_LngSP9258467_TTGTAATCCGTACTCG-1',\n 'WSA_LngSP9258467_AGGCTATGGTTAGCTT-1',\n 'WSA_LngSP9258467_TGCGTAAGAACCTGAT-1',\n 'WSA_LngSP9258467_TTCCAATCTGGCTATC-1',\n 'WSA_LngSP9258467_GAATTTCTCGCTGCAG-1',\n 'WSA_LngSP9258467_TGATTCGTCTATCACT-1',\n 'WSA_LngSP9258467_AGTGACCTACTTTACG-1',\n 'WSA_LngSP9258467_GGGCGGGTTCCCTACG-1',\n 'WSA_LngSP9258467_GGGTCACCGTGACGGT-1',\n 'WSA_LngSP9258467_ATGATGCAATGGTACA-1',\n 'WSA_LngSP9258467_ATTCGACGCCGGGCCT-1',\n 'WSA_LngSP9258467_GAGACTGATGGGTAGA-1',\n 'WSA_LngSP9258467_ATCCTGAATCGCTGCG-1',\n 'WSA_LngSP9258467_GATGTTCAATCCACGA-1',\n 'WSA_LngSP9258467_GGGTACTTCATGAACT-1',\n 'WSA_LngSP9258467_CCCAATTTCACAACTT-1',\n 'WSA_LngSP9258467_GCTGAGGCGTGAGTAT-1',\n 'WSA_LngSP9258467_GTTGAACCGGTTCCAT-1',\n 'WSA_LngSP9258467_GGGAGGATGCCCGAAA-1',\n 'WSA_LngSP9258467_TGCGACACCCTAGTGC-1',\n 'WSA_LngSP9258467_CCCTTTGACAGGTCTT-1',\n 'WSA_LngSP9258467_GGTGAAGTACAGGGAT-1',\n 'WSA_LngSP9258467_TGAGTGCCTCTTAAAT-1',\n 'WSA_LngSP9258467_TATGGTCTGAGTAACA-1',\n 'WSA_LngSP9258467_CTACGCACGGAGTACC-1',\n 'WSA_LngSP9258467_GAAATGGCGGTGTTAG-1',\n 'WSA_LngSP9258467_CGCAATTAGGGTAATA-1',\n 'WSA_LngSP9258467_ATATTTAACCCTCAAG-1',\n 'WSA_LngSP9258467_GGGCGGCAAATGAATT-1',\n 'WSA_LngSP9258467_GTGATCATAGATCTGC-1',\n 'WSA_LngSP9258467_TCCCGGGTGTGCTGCT-1',\n 'WSA_LngSP9258467_AATAACAACGCTCGGC-1',\n 'WSA_LngSP9258467_CCAATAGTGCCGTCGA-1',\n 'WSA_LngSP9258467_TCCCAGGCTTAGCTAA-1',\n 'WSA_LngSP9258467_CCTGTAAGACATGATA-1',\n 'WSA_LngSP9258467_CCCGTAAGTCTAGGCC-1',\n 'WSA_LngSP9258467_TAGCTAGAAGGCATGA-1',\n 'WSA_LngSP9258467_TCCTCTACGAGATGGC-1',\n 'WSA_LngSP9258467_ATTTACAGTTTACTGG-1',\n 'WSA_LngSP9258467_TGATTCTGTCGCCGGT-1',\n 'WSA_LngSP9258467_TCGCGTCCAGAAGGTC-1',\n 'WSA_LngSP9258467_CCTGACCACCGATGGT-1',\n 'WSA_LngSP9258467_GTGATTCGCCGCTCAA-1',\n 'WSA_LngSP9258467_CGTCACGTCCATTGGT-1',\n 'WSA_LngSP9258467_GGCCCTCACCCACTTA-1',\n 'WSA_LngSP9258467_TTGGTCACACTCGTAA-1',\n 'WSA_LngSP9258467_AGCACTTAAGGACGCC-1',\n 'WSA_LngSP9258467_GCAGATTAGGGATATC-1',\n 'WSA_LngSP9258467_CCGCGGAATGCGTCAC-1']"
     },
     "execution_count": 9,
     "metadata": {},
     "output_type": "execute_result"
    }
   ],
   "source": [
    "spot_data_array.shape"
   ]
  },
  {
   "cell_type": "code",
   "execution_count": 8,
   "metadata": {
    "ExecuteTime": {
     "end_time": "2024-06-14T11:54:21.491227100Z",
     "start_time": "2024-06-14T11:54:21.471168200Z"
    }
   },
   "outputs": [
    {
     "data": {
      "text/plain": "(422, 3, 224, 224)"
     },
     "execution_count": 8,
     "metadata": {},
     "output_type": "execute_result"
    }
   ],
   "source": [
    "spot_data_array.shape"
   ]
  },
  {
   "cell_type": "code",
   "execution_count": 9,
   "metadata": {
    "ExecuteTime": {
     "end_time": "2024-06-14T11:54:22.935992600Z",
     "start_time": "2024-06-14T11:54:22.920677100Z"
    }
   },
   "outputs": [
    {
     "data": {
      "text/plain": "['WSA_LngSP9258467_CCAAGAAAGTGGGCGA-1',\n 'WSA_LngSP9258467_CCCAACATACGTCGCG-1',\n 'WSA_LngSP9258467_ATTAAACATGCGGACC-1',\n 'WSA_LngSP9258467_ACCATCGTATATGGTA-1',\n 'WSA_LngSP9258467_GTGCTCAAGTACTGTC-1']"
     },
     "execution_count": 9,
     "metadata": {},
     "output_type": "execute_result"
    }
   ],
   "source": [
    "spot_id_array[:5]"
   ]
  },
  {
   "cell_type": "markdown",
   "metadata": {},
   "source": [
    "To build the graph, we need to have the `array_col` and `array_row` for each spot:"
   ]
  },
  {
   "cell_type": "code",
   "execution_count": 17,
   "metadata": {},
   "outputs": [],
   "source": [
    "import scanpy as sc\n",
    "\n",
    "\n",
    "adata = sc.read(\"../example_data/example_raw_data/sp.X_norm5e4_log1p.h5ad\")\n",
    "spot_array_cols = adata.obs.array_col\n",
    "spot_array_rows = adata.obs.array_row"
   ]
  },
  {
   "cell_type": "code",
   "execution_count": 18,
   "metadata": {},
   "outputs": [
    {
     "data": {
      "text/plain": [
       "spot_id\n",
       "WSA_LngSP8759311_AAACAAGTATCTCCCA-1    102\n",
       "WSA_LngSP8759311_AAACAGAGCGACTCCT-1     94\n",
       "WSA_LngSP8759311_AAACATTTCCCGGATT-1     97\n",
       "WSA_LngSP8759311_AAACCCGAACGAAATC-1    115\n",
       "WSA_LngSP8759311_AAACCGTTCGTCCAGG-1     42\n",
       "Name: array_col, dtype: int64"
      ]
     },
     "execution_count": 18,
     "metadata": {},
     "output_type": "execute_result"
    }
   ],
   "source": [
    "spot_array_cols.head()"
   ]
  },
  {
   "cell_type": "markdown",
   "metadata": {},
   "source": [
    "From the `./example_data/example_raw_data/WSA_LngSP9258467/spot_view.jpg`, we can see that every spot has 6 nearest neighbors, build the graph according to this spatial relation:"
   ]
  },
  {
   "cell_type": "code",
   "execution_count": 19,
   "metadata": {},
   "outputs": [
    {
     "data": {
      "text/plain": [
       "[[27, 29], [33, 39], [28, 26], [44, 46], [51, 33]]"
      ]
     },
     "execution_count": 19,
     "metadata": {},
     "output_type": "execute_result"
    }
   ],
   "source": [
    "spot_array_x_y = []\n",
    "for item in spot_id_array:\n",
    "    spot_array_x_y.append([int(spot_array_cols[item]), int(spot_array_rows[item])])\n",
    "    \n",
    "spot_array_x_y[:5]"
   ]
  },
  {
   "cell_type": "code",
   "execution_count": 10,
   "metadata": {
    "ExecuteTime": {
     "end_time": "2024-08-05T15:56:34.124990400Z",
     "start_time": "2024-08-05T15:56:34.080849Z"
    }
   },
   "outputs": [
    {
     "ename": "NameError",
     "evalue": "name 'spot_array_x_y' is not defined",
     "output_type": "error",
     "traceback": [
      "\u001B[1;31m---------------------------------------------------------------------------\u001B[0m",
      "\u001B[1;31mNameError\u001B[0m                                 Traceback (most recent call last)",
      "Cell \u001B[1;32mIn[10], line 1\u001B[0m\n\u001B[1;32m----> 1\u001B[0m adj \u001B[38;5;241m=\u001B[39m np\u001B[38;5;241m.\u001B[39mzeros((\u001B[38;5;28mlen\u001B[39m(\u001B[43mspot_array_x_y\u001B[49m), \u001B[38;5;28mlen\u001B[39m(spot_array_x_y)))\n\u001B[0;32m      3\u001B[0m \u001B[38;5;28;01mfor\u001B[39;00m i \u001B[38;5;129;01min\u001B[39;00m \u001B[38;5;28mrange\u001B[39m(\u001B[38;5;28mlen\u001B[39m(spot_array_x_y)):\n\u001B[0;32m      4\u001B[0m     \u001B[38;5;28;01mfor\u001B[39;00m j \u001B[38;5;129;01min\u001B[39;00m \u001B[38;5;28mrange\u001B[39m(\u001B[38;5;28mlen\u001B[39m(spot_array_x_y)):\n",
      "\u001B[1;31mNameError\u001B[0m: name 'spot_array_x_y' is not defined"
     ]
    }
   ],
   "source": [
    "adj = np.zeros((len(spot_array_x_y), len(spot_array_x_y)))\n",
    "\n",
    "for i in range(len(spot_array_x_y)):\n",
    "    for j in range(len(spot_array_x_y)):\n",
    "        if i == j:\n",
    "            adj[i][j] = 1.0\n",
    "        else:\n",
    "            x1 = spot_array_x_y[i][0]\n",
    "            y1 = spot_array_x_y[i][1]\n",
    "            x2 = spot_array_x_y[j][0]\n",
    "            y2 = spot_array_x_y[j][1]\n",
    "\n",
    "            if x2 <= x1 - 3 or x2 >= x1 + 3 or y2 <= y1 - 2 or y2 >= y1 + 2:\n",
    "                continue\n",
    "            else:\n",
    "                adj[i][j] = 1.0"
   ]
  },
  {
   "cell_type": "markdown",
   "metadata": {},
   "source": [
    "For easy visualization, we also save the pixel coordinate of each spot:"
   ]
  },
  {
   "cell_type": "code",
   "execution_count": 21,
   "metadata": {},
   "outputs": [
    {
     "data": {
      "text/plain": [
       "array([[12263,  7610],\n",
       "       [12920,  9517],\n",
       "       [12372,  7037],\n",
       "       [14126, 10853],\n",
       "       [14894,  8373]])"
      ]
     },
     "execution_count": 21,
     "metadata": {},
     "output_type": "execute_result"
    }
   ],
   "source": [
    "spots_coord = pd.read_csv(os.path.join(\"../example_data/example_raw_data/WSA_LngSP9258467/spots.csv\"), index_col=0)\n",
    "spots_coord = spots_coord.loc[spot_id_array].values\n",
    "spots_coord[:5]"
   ]
  },
  {
   "cell_type": "markdown",
   "metadata": {},
   "source": [
    "Finally, we can save the processed data as `torch_geometric.data.Data` for `Hist2Cell` trainng:"
   ]
  },
  {
   "cell_type": "code",
   "execution_count": 22,
   "metadata": {},
   "outputs": [
    {
     "data": {
      "text/plain": [
       "Data(x=[422, 3, 224, 224], edge_index=[2, 2732], y=[422, 330], pos=[422, 2], spot_id=[422])"
      ]
     },
     "execution_count": 22,
     "metadata": {},
     "output_type": "execute_result"
    }
   ],
   "source": [
    "from torch_geometric.utils import dense_to_sparse\n",
    "from torch_geometric.data import Data\n",
    "from torch import Tensor\n",
    "\n",
    "\n",
    "x = Tensor(spot_data_array)\n",
    "y = Tensor(spot_label_array)\n",
    "adj = Tensor(adj)\n",
    "edge_index, _ = dense_to_sparse(adj)\n",
    "pos = Tensor(spots_coord)\n",
    "data = Data(x=x, edge_index=edge_index, y=y, pos=pos, spot_id=spot_id_array)\n",
    "data"
   ]
  },
  {
   "cell_type": "code",
   "execution_count": 23,
   "metadata": {},
   "outputs": [],
   "source": [
    "torch.save(data, \"../example_data/example_processed_data/WSA_LngSP9258467.pt\")"
   ]
  }
 ],
 "metadata": {
  "kernelspec": {
   "display_name": "Python 3 (ipykernel)",
   "language": "python",
   "name": "python3"
  },
  "language_info": {
   "codemirror_mode": {
    "name": "ipython",
    "version": 3
   },
   "file_extension": ".py",
   "mimetype": "text/x-python",
   "name": "python",
   "nbconvert_exporter": "python",
   "pygments_lexer": "ipython3",
   "version": "3.11.9"
  }
 },
 "nbformat": 4,
 "nbformat_minor": 4
}
