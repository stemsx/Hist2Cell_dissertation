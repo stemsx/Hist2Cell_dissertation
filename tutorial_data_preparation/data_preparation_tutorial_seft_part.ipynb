{
 "cells": [
  {
   "cell_type": "markdown",
   "metadata": {},
   "source": [
    "To perform the subgraph sampling training in `Hist2Cell`, we need to prepare the dataset into certain data structure.\n",
    "\n",
    "In `./example_data/humanlung_cell2location` and `./example_data/humanlung_cell2location_2x`, we provide the processed data for the humanlung cell2location dataset in our study.\n",
    "In this tutorial, we will go through the data structure of the provided processed data.\n",
    "\n",
    "Then, we will show how to prepare your own raw data into this data structure."
   ]
  },
  {
   "cell_type": "markdown",
   "metadata": {
    "vscode": {
     "languageId": "plaintext"
    }
   },
   "source": [
    "First, let's see the data structure of process data for slide `WSA_LngSP9258467` from donor A50:"
   ]
  },
  {
   "cell_type": "code",
   "execution_count": 1,
   "metadata": {
    "ExecuteTime": {
     "end_time": "2024-08-16T13:27:26.381481800Z",
     "start_time": "2024-08-16T13:27:19.642089200Z"
    }
   },
   "outputs": [
    {
     "data": {
      "text/plain": "Data(x=[422, 3, 224, 224], edge_index=[2, 2732], y=[422, 330], pos=[422, 2])"
     },
     "execution_count": 1,
     "metadata": {},
     "output_type": "execute_result"
    }
   ],
   "source": [
    "import torch\n",
    "\n",
    "processed_data = torch.load(\"../example_data/humanlung_cell2location/WSA_LngSP9258467.pt\")\n",
    "processed_data"
   ]
  },
  {
   "cell_type": "markdown",
   "metadata": {},
   "source": [
    "In the processed  data, the following varibales are:\n",
    "- `x`: the 224*224*3 image patch for each spot in the ST data, each spot is considered as one node in the graphs representing the slide, there are in total 422 spots in this slide;\n",
    "- `edge_index`: graph connectivity in `COO` format with shape `[2, num_edges]`, there are 2732 edges in this slide;\n",
    "- `y`: the label for each spot, contains 250 highly expressed gene labels + 80 fine-grained cell abundance labels, resulting 330 labels for each spot;\n",
    "- `pos`: the x-y pixel coordinate of each spot on the original slide, used in visualization and calculating cell-colocalization metric;"
   ]
  },
  {
   "cell_type": "code",
   "execution_count": 2,
   "metadata": {
    "ExecuteTime": {
     "end_time": "2024-08-16T13:27:27.432758900Z",
     "start_time": "2024-08-16T13:27:27.416912300Z"
    }
   },
   "outputs": [
    {
     "data": {
      "text/plain": "torch.Size([3, 224, 224])"
     },
     "execution_count": 2,
     "metadata": {},
     "output_type": "execute_result"
    }
   ],
   "source": [
    "processed_data['x'][0].shape"
   ]
  },
  {
   "cell_type": "code",
   "execution_count": 3,
   "metadata": {
    "ExecuteTime": {
     "end_time": "2024-08-16T13:27:28.053104200Z",
     "start_time": "2024-08-16T13:27:28.001433700Z"
    }
   },
   "outputs": [
    {
     "data": {
      "text/plain": "tensor([2.3157, 2.3157, 2.3157, 4.5253, 3.3463])"
     },
     "execution_count": 3,
     "metadata": {},
     "output_type": "execute_result"
    }
   ],
   "source": [
    "processed_data['y'][0][:5]"
   ]
  },
  {
   "cell_type": "code",
   "execution_count": 11,
   "metadata": {
    "ExecuteTime": {
     "end_time": "2024-08-16T13:31:45.482755500Z",
     "start_time": "2024-08-16T13:31:45.452738300Z"
    }
   },
   "outputs": [
    {
     "data": {
      "text/plain": "tensor([[  0,   0,   0,  ..., 421, 421, 421],\n        [  0,  54,  96,  ..., 250, 321, 421]])"
     },
     "execution_count": 11,
     "metadata": {},
     "output_type": "execute_result"
    }
   ],
   "source": [
    "processed_data['edge_index']"
   ]
  },
  {
   "cell_type": "markdown",
   "metadata": {},
   "source": [
    "For the `DataLoader`, we use `NeighborLoader` from `torch_geometric` , which supports subgraph sampling from some center nodes, here are 2 important parameters:\n",
    "- `hop`: this parameter define receptive field when sampling the subgraphs with a group of center nodes for training/testing, in our paper, we use 2-hop subgraphs to achieve a banlance between computation cost and performance, generally, bigger receptive field will contain more neighboring information.\n",
    "- `subgraph_bs`: this parameter define the number of subgraphs to be sampled during training/testing, which is the `subgraph batchsize`, we use `subgraph_bs=16` on our RTX 3090 GPU."
   ]
  },
  {
   "cell_type": "code",
   "execution_count": 1,
   "metadata": {
    "ExecuteTime": {
     "end_time": "2024-08-09T17:48:06.002152100Z",
     "start_time": "2024-08-09T17:47:59.140147800Z"
    }
   },
   "outputs": [
    {
     "ename": "NameError",
     "evalue": "name 'processed_data' is not defined",
     "output_type": "error",
     "traceback": [
      "\u001B[1;31m---------------------------------------------------------------------------\u001B[0m",
      "\u001B[1;31mNameError\u001B[0m                                 Traceback (most recent call last)",
      "Cell \u001B[1;32mIn[1], line 10\u001B[0m\n\u001B[0;32m      6\u001B[0m hop \u001B[38;5;241m=\u001B[39m \u001B[38;5;241m2\u001B[39m\n\u001B[0;32m      7\u001B[0m subgraph_bs \u001B[38;5;241m=\u001B[39m \u001B[38;5;241m16\u001B[39m\n\u001B[0;32m      9\u001B[0m dataloader_loader \u001B[38;5;241m=\u001B[39m NeighborLoader(\n\u001B[1;32m---> 10\u001B[0m     \u001B[43mprocessed_data\u001B[49m,\n\u001B[0;32m     11\u001B[0m     num_neighbors\u001B[38;5;241m=\u001B[39m[\u001B[38;5;241m-\u001B[39m\u001B[38;5;241m1\u001B[39m]\u001B[38;5;241m*\u001B[39mhop,\n\u001B[0;32m     12\u001B[0m     batch_size\u001B[38;5;241m=\u001B[39msubgraph_bs,\n\u001B[0;32m     13\u001B[0m     directed\u001B[38;5;241m=\u001B[39m\u001B[38;5;28;01mFalse\u001B[39;00m,\n\u001B[0;32m     14\u001B[0m     input_nodes\u001B[38;5;241m=\u001B[39m\u001B[38;5;28;01mNone\u001B[39;00m,\n\u001B[0;32m     15\u001B[0m     shuffle\u001B[38;5;241m=\u001B[39m\u001B[38;5;28;01mTrue\u001B[39;00m,\n\u001B[0;32m     16\u001B[0m     num_workers\u001B[38;5;241m=\u001B[39m\u001B[38;5;241m2\u001B[39m,\n\u001B[0;32m     17\u001B[0m )\n",
      "\u001B[1;31mNameError\u001B[0m: name 'processed_data' is not defined"
     ]
    }
   ],
   "source": [
    "from torch_geometric.loader import NeighborLoader\n",
    "import torch_geometric\n",
    "torch_geometric.typing.WITH_PYG_LIB = False\n",
    "\n",
    "\n",
    "hop = 2\n",
    "subgraph_bs = 16\n",
    "\n",
    "dataloader_loader = NeighborLoader(\n",
    "    processed_data,\n",
    "    num_neighbors=[-1]*hop,\n",
    "    batch_size=subgraph_bs,\n",
    "    directed=False,\n",
    "    input_nodes=None,\n",
    "    shuffle=True,\n",
    "    num_workers=2,\n",
    ")"
   ]
  },
  {
   "cell_type": "markdown",
   "metadata": {},
   "source": [
    "In `torch_geometric`, the sampled subgraphs are merged into a big graph for parallel training, for more details, please refer to the documentation of torch_geometric`."
   ]
  },
  {
   "cell_type": "code",
   "execution_count": 8,
   "metadata": {
    "ExecuteTime": {
     "end_time": "2024-06-10T14:09:50.925094300Z",
     "start_time": "2024-06-10T14:09:45.997969800Z"
    }
   },
   "outputs": [
    {
     "name": "stdout",
     "output_type": "stream",
     "text": [
      "Data(x=[209, 3, 224, 224], edge_index=[2, 1199], y=[209, 330], pos=[209, 2], n_id=[209], e_id=[1199], input_id=[16], batch_size=16)\n"
     ]
    }
   ],
   "source": [
    "for subgraphs in dataloader_loader:\n",
    "    print(subgraphs)\n",
    "    break"
   ]
  },
  {
   "cell_type": "markdown",
   "metadata": {},
   "source": [
    "Next, we show how to preprocess raw data into this structure for `Hist2Cell` training:\n",
    "\n",
    "We upload the raw data of slide `WSA_LngSP9258467` in `./example_data/example_raw_data/WSA_LngSP9258467` for preprocessing tutorial.\n",
    "\n",
    "We explain the files under this folder one by one:\n",
    "- `patch`: folder contain the image patches for each spot in the ST data, to crop the image patches from a WSI and obtain the coordinate, please refer to the pipeline in [DSMIL repository](https://github.com/binli123/dsmil-wsi);\n",
    "- `cell_ratio.csv`: contains the 80 fine-grained cell type abundances;\n",
    "- `stdata.csv`: contains the spatial gene expression for each spot;\n",
    "- `log1p_stdata.csv`: contains the log1p processed spatial gene expression for each spot;\n",
    "- `spots.csv`: contains the pixel coordinate for each spot;\n",
    "- `high_250_stdata.csv`: contains the top 250 highly expressed spatial gene expression for each spot;\n",
    "- `high_250_stdata_log1p.csv`: contains the log1p processed top 250 highly expressed spatial gene expression for each spot;\n",
    "- `WSA_LngSP9258467.jpg`: the original slide image;\n",
    "- `WSA_LngSP9258467_low_res.jpg`: the low-resolution slide image, for quick visualization and other processing;\n",
    "- `spot_view.jpg`: the original slide image with visualized spots;\n",
    "- `2x_patch`: folder contain the image patches for each spot in 2x super-resolved experiments;\n",
    "- `2x_spots.csv`: contains the pixel coordinate for each image patch in the 2x super-resolved experiments;\n",
    "- `2x_spot_view.jpg`: the original slide image with visualized 2x resolution spots;"
   ]
  },
  {
   "cell_type": "markdown",
   "metadata": {},
   "source": [
    "To process the raw data, we first define a `STDataset` to iterate the spots:"
   ]
  },
  {
   "cell_type": "code",
   "execution_count": null,
   "outputs": [],
   "source": [],
   "metadata": {
    "collapsed": false
   }
  },
  {
   "cell_type": "code",
   "execution_count": 1,
   "metadata": {
    "ExecuteTime": {
     "end_time": "2024-08-16T14:55:42.625023700Z",
     "start_time": "2024-08-16T14:55:37.686999900Z"
    }
   },
   "outputs": [],
   "source": [
    "import os\n",
    "import numpy as np\n",
    "import pandas as pd\n",
    "from torchvision import transforms\n",
    "from PIL import Image\n",
    "import torch\n",
    "\n",
    "\n",
    "class STDataset(torch.utils.data.Dataset):\n",
    "    def __init__(self, root, slide,transform=None):\n",
    "        super(STDataset, self).__init__()\n",
    "        self.root = root\n",
    "        self.slide = slide\n",
    "        self.transform = transform\n",
    "\n",
    "        patch_path = os.path.join(root, slide, 'patches')\n",
    "        patch = os.listdir(patch_path)\n",
    "        patch_list = [x.split('.')[0] for x in patch]\n",
    "\n",
    "        cell_label = pd.read_csv(os.path.join(root, slide, 'visium_ductal_breast_ground_truth-cell2locationPopulations_aligned.csv'), index_col=0)\n",
    "        gene_label = pd.read_csv(os.path.join(root, slide, 'raw_counts_df.csv'), index_col=0)\n",
    "        label_df = pd.merge(gene_label, cell_label, left_index=True, right_index=True)\n",
    "        \n",
    "\n",
    "        label_index_set = set(label_df.index)\n",
    "        patch_index_set = set(patch_list)\n",
    "        and_set = label_index_set & patch_index_set\n",
    "\n",
    "        patch_list = list(and_set)\n",
    "        self.label_df = label_df.loc[patch_list]\n",
    "        self.patch = patch_list\n",
    "        \n",
    "        \n",
    "\n",
    "\n",
    "    def __getitem__(self, index):\n",
    "        patch_id = self.patch[index]\n",
    "        patch_path = os.path.join(self.root, self.slide, 'patches', patch_id)\n",
    "        patch = Image.open(patch_path+'.png').convert('RGB')\n",
    "        data = transforms.Resize((21, 21))(patch)\n",
    "        if self.transform is not None:\n",
    "            data = self.transform(data)\n",
    "        label = self.label_df.loc[patch_id].values\n",
    "        label = torch.Tensor(label)\n",
    "\n",
    "        return patch_id, data, label\n",
    "\n",
    "    def __len__(self):\n",
    "        return len(self.patch)"
   ]
  },
  {
   "cell_type": "code",
   "execution_count": 35,
   "outputs": [],
   "source": [],
   "metadata": {
    "collapsed": false,
    "ExecuteTime": {
     "end_time": "2024-08-16T14:44:38.462698200Z",
     "start_time": "2024-08-16T14:44:38.455713300Z"
    }
   }
  },
  {
   "cell_type": "code",
   "execution_count": 36,
   "metadata": {
    "ExecuteTime": {
     "end_time": "2024-08-16T14:44:38.912156Z",
     "start_time": "2024-08-16T14:44:38.839857200Z"
    }
   },
   "outputs": [],
   "source": [
    "test_transform_pcam = transforms.Compose([\n",
    "        transforms.ToTensor(),\n",
    "        transforms.Normalize(mean=[0.75420076, 0.6217488,  0.6946153], std=[0.11452981, 0.15589917, 0.14246847])\n",
    "    ])\n",
    "\n",
    "test_data = STDataset(root=\"../patch\", slide=\"output\",transform=test_transform_pcam)\n",
    "test_loader = torch.utils.data.DataLoader(test_data, batch_size=512, shuffle=False, num_workers=0)"
   ]
  },
  {
   "cell_type": "markdown",
   "metadata": {},
   "source": [
    "We iterate this `STDataset`, save the spot image patch, the spot labels, and the spot id:"
   ]
  },
  {
   "cell_type": "code",
   "execution_count": 37,
   "metadata": {
    "ExecuteTime": {
     "end_time": "2024-08-16T14:44:43.312848Z",
     "start_time": "2024-08-16T14:44:40.146718800Z"
    }
   },
   "outputs": [],
   "source": [
    "spot_data_array = []\n",
    "spot_label_array = []\n",
    "spot_id_array = []\n",
    "for name, data, label in test_loader:\n",
    "    spot_id_array.append(list(name))\n",
    "    label = label.float()\n",
    "    label = label.squeeze()\n",
    "    spot_label_array.append(label.detach().numpy())\n",
    "    spot_data_array.append(data.detach().numpy())\n",
    "for i in range(len(spot_data_array)):\n",
    "    if len(spot_data_array[i].shape) <= 1:\n",
    "        spot_data_array[i] = spot_data_array[i][np.newaxis, :]\n",
    "for i in range(len(spot_label_array)):\n",
    "    if len(spot_label_array[i].shape) <= 1:\n",
    "        spot_label_array[i] = spot_label_array[i][np.newaxis, :]\n",
    "        \n",
    "spot_data_array = np.concatenate(spot_data_array)\n",
    "spot_label_array = np.concatenate(spot_label_array)\n",
    "spot_ids = list()\n",
    "for ids in spot_id_array:\n",
    "    spot_ids=spot_ids+ids\n",
    "spot_id_array = spot_ids\n"
   ]
  },
  {
   "cell_type": "code",
   "execution_count": 38,
   "outputs": [
    {
     "data": {
      "text/plain": "['AGTGGCGTCTGAAGGT-1',\n 'GGGAACGGTTTCAGAT-1',\n 'GGTGCGGATAAGTGGC-1',\n 'AACCGTTGTGTTTGCT-1',\n 'CCAGAAAGCAACTCAT-1',\n 'AAGCTAGATCGAGTAA-1',\n 'GCTCCATGCAAAGCAA-1',\n 'GCCGAAATTCCTACGT-1',\n 'CTGGACGCAGTCCGGC-1',\n 'ATACTGCCTTACACCG-1',\n 'TCGCCGAAGTTGCGTC-1',\n 'TGAGAGATTTACCACG-1',\n 'GGCAGCAAACCTATGC-1',\n 'TCGCGTAGCAGTGTCC-1',\n 'GTGGGCTTAGACACAC-1',\n 'GAATCGCCGGACACGG-1',\n 'CACTTAATCAGACGGA-1',\n 'TTCGGGCGCTAGTCTT-1',\n 'TTGAACGAATCCTTTG-1',\n 'ATTTGTCTTGGGAGCT-1',\n 'CTGGATTTACACTTGA-1',\n 'ACAGAACTGAGAACAA-1',\n 'CAGCTCACTGAGACAT-1',\n 'ATTAGGCGATGCTTTC-1',\n 'TGTGGTTGCTAAAGCT-1',\n 'CACGTCGGCAACCTCT-1',\n 'TGCCGGATGTACGAGC-1',\n 'CGTCGTCCTTCGCGAA-1',\n 'CCGGCACGACCGTTTC-1',\n 'GCGCAAATATATTCAA-1',\n 'AAGAGGATGTACGCGA-1',\n 'GGCGCAGGACATCTTC-1',\n 'CCACCAACTTTACTGT-1',\n 'GATCGGATAGAACCAT-1',\n 'GCCAACCATTTCCGGA-1',\n 'TGGACGCAATCCAGCC-1',\n 'ATATTTAACCCTCAAG-1',\n 'GTTGGATTGAGAACAC-1',\n 'CCTATGAAGTGGTGCC-1',\n 'ATTCGTGCTATCTCTT-1',\n 'GATCTTGGAGGGCATA-1',\n 'TGAAAGGACCTGACTC-1',\n 'GTACTCCTGGGTATGC-1',\n 'GATTAACCGAAAGCCC-1',\n 'CCCGCCATGCTCCCGT-1',\n 'TCCTAGCAAAGAAGCT-1',\n 'GAAGCGTGAGGAATTT-1',\n 'CGCTAGAGACCGCTGC-1',\n 'CAGCAGTCCAGACTAT-1',\n 'AGTGGTTGCGTATAGG-1',\n 'TCTTCGATACCAATAA-1',\n 'CCGAACCTTCCCGGCC-1',\n 'TTGCCCTGATCACGGG-1',\n 'AGGGCGAGCAGCTGAT-1',\n 'AAACAAGTATCTCCCA-1',\n 'GGGTCGTGGCAAGTGT-1',\n 'AACTCTCAATAGAGCG-1',\n 'ATACCACGGGCAACTT-1',\n 'AGGACGCTCGATGTTG-1',\n 'GCGTCGCCAGGGTGAT-1',\n 'CATATACTACTGATAA-1',\n 'GAATTCACCCGGGTGT-1',\n 'AAATACCTATAAGCAT-1',\n 'ATCTGTAATTGTACCC-1',\n 'TCAGGTTCTTTGAGAA-1',\n 'AGCCGTGGCTAAATGT-1',\n 'GACCGTTACATGCGAC-1',\n 'TGGCAATGGGACGGCG-1',\n 'TCAACACATTGGGTAA-1',\n 'GATTCCCTTGTCGCAG-1',\n 'ACTCTCTGACTTAGGT-1',\n 'CCTGCCCGTTGTCTAG-1',\n 'GAAGAACGGTGCAGGT-1',\n 'TACTGGACAGCTCGGC-1',\n 'GTCTGGGCGGTCGAGA-1',\n 'TGTGCTTTACGTAAGA-1',\n 'GAGCCACGGTAGTAGG-1',\n 'CTATAAGAGCCAATCG-1',\n 'CGATGGACCCTACGCC-1',\n 'GTGCCCGTTCGGATTC-1',\n 'TCTTCGAATAGACGTT-1',\n 'AATATTGGAGTATTGA-1',\n 'ACGACTGGTCATACTC-1',\n 'CCTGTACTCACGCCCA-1',\n 'CGCACATGTCCACTAC-1',\n 'TTGAAGAATTCCCAGG-1',\n 'ACGTTTAGTTGTGATC-1',\n 'CGAGGCTAAATATGGC-1',\n 'GGTTTAGCCTTTCTTG-1',\n 'TGGGCACGTTCTATGG-1',\n 'GTGTGAATAACTTAGG-1',\n 'ACAGGTGGAGGTGAGG-1',\n 'ATTAGATTGATAGCGG-1',\n 'TACCAGCTAGGTTTAA-1',\n 'TTAAACTCGAATTCAT-1',\n 'TGGGCACAAACAGAAC-1',\n 'ACTCAGACCTGCTTCT-1',\n 'TAAAGCGTTAGGAGAA-1',\n 'ATGCATGATCCAGGAT-1',\n 'CAAGAGGGCGGAGTAC-1',\n 'TAATACACAGTAGTAT-1',\n 'TTATGACAAACTGGAT-1',\n 'TATCTAGCCTAAAGGA-1',\n 'CGCAATTAGGGTAATA-1',\n 'CCTCCTGAGCCCACAT-1',\n 'GCGCCGTTCCACGATA-1',\n 'CTGTTACCCAATCTAG-1',\n 'ACGCCGCTAGACGACC-1',\n 'TCATACTTACAGATCC-1',\n 'CTCATGGCTCACAATC-1',\n 'GTGGAGTCGGCGGTTG-1',\n 'GTCAGTTTGGTAGTCG-1',\n 'TGCAAGAATGACGTAA-1',\n 'CGGGCGATGGATCACG-1',\n 'ACTTATTAGGATCGGT-1',\n 'TAGCTGATGTGAAGCG-1',\n 'GAAATTCACATCGCTG-1',\n 'CGCTGGTGACTACCCT-1',\n 'TGTCCTAAGTCACCGC-1',\n 'AGAGCGGGCTAATCAT-1',\n 'TCGGAGTACATGAGTA-1',\n 'ATTTGCGCGAGTAGCT-1',\n 'CACAGGGCCATATAGT-1',\n 'GTATTCTGAGAAACGA-1',\n 'GCGACGATAGTTGTAC-1',\n 'TCCCGTGTGCAATTTG-1',\n 'CCTGACCACCGATGGT-1',\n 'GATTCCTATACGGCGC-1',\n 'AATAGAATCTGTTTCA-1',\n 'CTAAATCCGGTGTACA-1',\n 'GCTAGTAGAGCTTGTA-1',\n 'ATTAATGAACCAGTCG-1',\n 'ATTATACTTTGCTCGT-1',\n 'GGGCCCGTCTTAAACA-1',\n 'CCGGGCGGTCTCGTCA-1',\n 'GGACTCGTGAGTGGTC-1',\n 'CTACTCAAGGTATAGT-1',\n 'CTTTGCATCGCTCTTG-1',\n 'GATCATTCCAAACATT-1',\n 'TCGAATATCCCGCAGG-1',\n 'TTCGGGACTAATCGCG-1',\n 'ACCCATTTGTCCCTCT-1',\n 'TTGACATGAACGTGGA-1',\n 'TCTGTTACCCAGCATA-1',\n 'AAATGGTCAATGTGCC-1',\n 'ATTGCTGCTCCTCCAT-1',\n 'CGACGCATCCGTACCT-1',\n 'GAATGTATGGCAGGTC-1',\n 'GGTTTGAGTGCTGGAA-1',\n 'AATGACGTAGGATGTC-1',\n 'TTGATTATGCAGATGA-1',\n 'AACACGAGACGCGGCC-1',\n 'AGGCCTGAGAATCTCG-1',\n 'GCAGTGTGGCTATAGG-1',\n 'GCCGATTGGCCAAGCT-1',\n 'TCGCACCAGGAGGCAG-1',\n 'CCCGACCATAGTCCGC-1',\n 'ACGGCACTTGCTTGGG-1',\n 'TGATCAGGGAACTGCT-1',\n 'CCATCGCAGTTAAACT-1',\n 'TATATAGGGCTTTACG-1',\n 'GACTGCTGGTGAGAAA-1',\n 'AATAACAACGCTCGGC-1',\n 'AGTCCATTGGCTGATG-1',\n 'ATATTGCTGTCAAAGT-1',\n 'TTAGACACGATCGTTG-1',\n 'GTTAAAGTAGGACTGG-1',\n 'CTCACATTTACTAAAT-1',\n 'TCGAAATTTAGGACCA-1',\n 'CGACCCTTAACGCCGG-1',\n 'TAATAAACAAGGAGAT-1',\n 'CTCGGTTGTCGGCCCT-1',\n 'CGCTTTCATACCGGTG-1',\n 'CATATTATTTGCCCTA-1',\n 'TGTAGGAGAAATTTCC-1',\n 'GCCCGCGCGTTTGACA-1',\n 'GCGAGAGTTGCGTCCA-1',\n 'CTGTGCAGGGTAGGTC-1',\n 'GTGCACGAAAGTGACT-1',\n 'CCGGCGCATATTGGAT-1',\n 'ATTAATACTACGCGGG-1',\n 'CTGCACAACTACATAT-1',\n 'TCTATCATGCAGTTAC-1',\n 'AGAGGCTTCGGAAACC-1',\n 'GGTTAGTTACGGCGCC-1',\n 'GCCGCTTGTGAGAAAC-1',\n 'AATGGTTCTCACAAGC-1',\n 'GCTCTCGGGTACCGAA-1',\n 'AGAAGGTACACTTCAC-1',\n 'AGTGAGCCTCGCCGCC-1',\n 'ACACACTTTCTACACG-1',\n 'AGACCATGGGATACAA-1',\n 'TCCCACTCTCTTCCGG-1',\n 'TTGCTCCCATACCGGA-1',\n 'CCCGTTTCGCAGATGT-1',\n 'CCCGCAGCGCGAACTA-1',\n 'TTAATTGCTTTGGGTG-1',\n 'CCTGAACGATATATTC-1',\n 'TCTAGCAATCTCCGCC-1',\n 'CTCCGGCCTAATATGC-1',\n 'TGTGACTACGCCAGTC-1',\n 'AGTGCTAAACACAGCA-1',\n 'GCCATCGATGCTGCAT-1',\n 'TGCAATCTAACACGGT-1',\n 'GCAAACCCTACATTAT-1',\n 'TAGCGTTGGGTCTTAC-1',\n 'CGCACGTGCGCTATCA-1',\n 'TAGGTGAGCCCTACTC-1',\n 'CATTTGAGTGGTACGT-1',\n 'CTGGTAACGAGCTCTT-1',\n 'CCATCCATACCAAGTC-1',\n 'GTCCTTCTAGTGGGTT-1',\n 'AGTTAAGCGGTCCCGG-1',\n 'CACCCACGAGGCAATT-1',\n 'AATCGCGCAGAGGACT-1',\n 'GTGTCAGTGTACGTGG-1',\n 'ATATCTCCCTCGTTAA-1',\n 'GCCCGATCTGTGGTCG-1',\n 'GAGTAGATACTAGTTG-1',\n 'TGAGTTAAAGACATTC-1',\n 'AGCAACCGAAAGTAAT-1',\n 'TAGAGGTTCTACTTGT-1',\n 'GCTGAGGCGTGAGTAT-1',\n 'CGAAGTTGCTCTGTGT-1',\n 'GATCTTTGCAGGGTAT-1',\n 'AGCTATTTAATCCAAC-1',\n 'CGGCCCAGGTATATCC-1',\n 'AGAAGGTTGCCGAATT-1',\n 'GAAGCTTGCTGACCGC-1',\n 'AGGCTTCCCGAAGAAG-1',\n 'CGAGAGATGTGAACCT-1',\n 'TTGGGAAGACGAGCCG-1',\n 'CCGTAAGTTGGTCCCA-1',\n 'GTCAGAATAGTCTATG-1',\n 'GTAATAAAGGGCTCCC-1',\n 'TAGACGAAACGCCAAT-1',\n 'GATGCTGTATTTCATC-1',\n 'AACACACGCTCGCCGC-1',\n 'CAGCCTCTCCTCAAGA-1',\n 'CGCCTGGCCTACGTAA-1',\n 'ACGATGCATATGTTAT-1',\n 'TCGCTCGATATATTCC-1',\n 'CAGGATATATCGTTGT-1',\n 'GCCTATTTGCTACACA-1',\n 'AACCCTGGTGGAACCA-1',\n 'GAAACCGAATTACCTT-1',\n 'TCCAAGCCTAGACACA-1',\n 'TCTCTAATAGCTGGTA-1',\n 'TGCGACGGCCGAACGT-1',\n 'GGCTAAAGGGCGGGTC-1',\n 'CTGAATCCGAGACCTC-1',\n 'TTACCATTGATTACCC-1',\n 'GCCCGCGCGTAAACGG-1',\n 'GTATCTTTCATAACCA-1',\n 'GTATGTGGGTCTAGTT-1',\n 'ATGTTCGTCGACCCAC-1',\n 'GTGGCAAACAGCGGCA-1',\n 'CCAAACAGAACCCTCG-1',\n 'TTGACGCTCCATGAGC-1',\n 'ATCAGTAGGCAGGGAT-1',\n 'GGATTCAGTACGGTGG-1',\n 'CCACGGTGCCCGGTAG-1',\n 'GCTTGGATCGATTAGG-1',\n 'CCCAATTTCACAACTT-1',\n 'GTTTGGCCGCTCAGCG-1',\n 'GCAAGTGCACAGAGAA-1',\n 'CGGAGCAATTTAATCG-1',\n 'ACTGAATGGCGAAAGT-1',\n 'CCCTTTGACAGGTCTT-1',\n 'TCGCTGCCAATGCTGT-1',\n 'CGGTCAAGTGGGAACC-1',\n 'TTACATCGTGGCCTGG-1',\n 'TTAACGTCGCAAGACC-1',\n 'AACATATCAACTGGTG-1',\n 'TTATATTTGGCAATCC-1',\n 'ATCTGCTGTTATCGCC-1',\n 'TTGATTAGCTGTTTCT-1',\n 'GTTAGGCTACCCGTTT-1',\n 'CAGTGTCCGCAGAATG-1',\n 'GAACGACCGAATGATA-1',\n 'GGGATGGTCGTAACCG-1',\n 'GGATGCTGGCGTTCCT-1',\n 'GTGGACGTGCTGAGAC-1',\n 'TCCAGAGCACCGGTTC-1',\n 'TTCACTCGAGCACCTA-1',\n 'ACGGATGGTGCGGATA-1',\n 'TGCAGGATCGGCAAAG-1',\n 'CAGTAGCCCACGCGGT-1',\n 'ATGTACGATGACGTCG-1',\n 'ACTATTCGTCCGTGGT-1',\n 'CCGCGATTTGGTAGGT-1',\n 'ACACCTTACTACTTGC-1',\n 'AGTGTATTGCGCATTG-1',\n 'GTACGAGATTGCGACA-1',\n 'TAGTCTGTGACGTTGC-1',\n 'GCCATCGAGCTGCGTG-1',\n 'ATAGAGTTATCAACTT-1',\n 'GGGCTCATCGAACCCA-1',\n 'TTAACTTCAGGTAGGA-1',\n 'GGAGAAGTCATTGGCA-1',\n 'TATTCCTCCGCCCACT-1',\n 'TTGGCTCGCATGAGAC-1',\n 'ACGTTAATGTCGAAGA-1',\n 'AAGAGATGAATCGGTA-1',\n 'AGTCGGCCCAAACGAC-1',\n 'AACTGATATTAGGCCT-1',\n 'ATATCTTAGGGCCTTC-1',\n 'ATCAAACGAAGGTTTG-1',\n 'ACGTTCCGCGCTCCGT-1',\n 'CCATTAGCGATAATCC-1',\n 'CCTCTAATCTGCCAAG-1',\n 'GTCTATTGGTTCCGGT-1',\n 'GCACAAACGAGGCGTG-1',\n 'GTGAACTCCCATTCGA-1',\n 'ATACGTCCACTCCTGT-1',\n 'TCTTCTATAACCCGCC-1',\n 'TGGACCAATCTAAGAT-1',\n 'TACCAATAAAGTACCA-1',\n 'CCATGGCCCTTGTACC-1',\n 'GTCATTAGAGCGAACG-1',\n 'AGTCTAAAGTATACTC-1',\n 'TGGTATCGCATCCCAA-1',\n 'TTGCTGAAGGAACCAC-1',\n 'TAACTCCATGGAGGCT-1',\n 'CCTGCGTTCTACGCTT-1',\n 'TTCCAATCAGAGCTAG-1',\n 'TAGGGTGTTTCAAGAG-1',\n 'GTGACCGCACACTACG-1',\n 'TCTATCGGTCGCAACA-1',\n 'ACTGTAGCACTTTGGA-1',\n 'CAGTGTCGGCTGGCCC-1',\n 'GCACACACTGGTAGCC-1',\n 'AAGGGACAGATTCTGT-1',\n 'GACCTTCCACGTCTAC-1',\n 'ATGGAGCAGGCCGTGA-1',\n 'TTGGACCATCTGGCAA-1',\n 'ATAGACGAAGAGAAAG-1',\n 'AAACAGGGTCTATATT-1',\n 'TGCCAGTACGTGGAGA-1',\n 'AACGCGGTCTCCAGCC-1',\n 'CTGGTAACACATAGAA-1',\n 'GCTAGCTTGAATAGCT-1',\n 'TGTACGAACAAATCCG-1',\n 'TTCTAGAAAGTCTTAT-1',\n 'GTTATAATACGGTGAA-1',\n 'GCGAGTTCTGCAAAGA-1',\n 'CGAACCCGCATGCGTC-1',\n 'CGACACGCTCCGACAG-1',\n 'TACTCCTCTAGTTGAC-1',\n 'GGCGCGTTCGAGTTTA-1',\n 'AGACGACGATGCCGCT-1',\n 'CTGAAAGAGATCCGAC-1',\n 'TGTTTCGGTACTTCTC-1',\n 'AAACCGTTCGTCCAGG-1',\n 'AGGGCGTGATCGGCTA-1',\n 'CGAGCGTTGATCAGCC-1',\n 'GGTTCTACTCGTCTGA-1',\n 'ACAGTAATACAACTTG-1',\n 'TAACTATTACGCCAAA-1',\n 'GGTTCGGATTATACTA-1',\n 'TATGTCTCATTGTGCC-1',\n 'GCTACGACTTATTGGG-1',\n 'TCCACTTTATCTAGGT-1',\n 'GTCTTAGTACAGCCGG-1',\n 'CGCAGAAACATTTGCG-1',\n 'GCTTGATGATAATCAG-1',\n 'TATGTCAAGACCGACT-1',\n 'CGGTACTAGAATCAAA-1',\n 'CCAATCGGTAGATCGA-1',\n 'TATGGTCTGAGTAACA-1',\n 'CTCTCACAATCGATGA-1',\n 'TCTTACCGGAACTCGT-1',\n 'CGAAACGCAATTCATG-1',\n 'CAATGGATCTCTACCA-1',\n 'TGTTCGTATTGCGGTG-1',\n 'GCTGCACGGTTTCTTA-1',\n 'TCAACTAACGTATAAC-1',\n 'TTGACCAGGAACAACT-1',\n 'ACTGCCGTCGTAACTC-1',\n 'CTTAACTTCGAAGTAC-1',\n 'AGAATTATGGATTCGA-1',\n 'AACAGGTAGTATGGAT-1',\n 'CATGCCAACTCGCAAA-1',\n 'GTAAGTAACAGTCTGG-1',\n 'GCAGACCCAGCACGTA-1',\n 'AGCTGTAACCTCAATC-1',\n 'TGCATGTGACCCATAG-1',\n 'TAAGGAACTTGTGGGA-1',\n 'GTAGCGGCTATACACT-1',\n 'AGAATTGTTTGACATA-1',\n 'ACCATATCCGCAATAA-1',\n 'TGAGAATGCTTTACCG-1',\n 'CTGCACCTGGAACCGC-1',\n 'CACGGGATTGAGGGTT-1',\n 'AAGGCTGTGCTCATCG-1',\n 'TCTTGGTAACACCAAA-1',\n 'AAGTCAATTGTCGTCA-1',\n 'CTTACACGGTATTCCA-1',\n 'CCTCTCTCCCATCTAG-1',\n 'CGCTATTCAATGTATG-1',\n 'GCGAAGCCATACCCGT-1',\n 'ATAGGCTAGCTTCGCA-1',\n 'AGCCCATACATGTAAG-1',\n 'AGCACTTAAGGACGCC-1',\n 'ATGTTGTAGTCTGTTT-1',\n 'GACCCAATTATGATAC-1',\n 'GCCTCATCTGGAAATA-1',\n 'AGCCCGGTAGCCTGTA-1',\n 'CGAAGCTATAAATTCA-1',\n 'TTAGAGTTTAGAAGGA-1',\n 'GATAGGTAACGTTGAC-1',\n 'TCGCCGACATATTCGC-1',\n 'TATAGAGTCGCTTGAA-1',\n 'GACACTGAGTTCAGTG-1',\n 'GGCGCTTCATTCCCTG-1',\n 'TGCGTAAGAACCTGAT-1',\n 'GTGGTTTCCGCCTTTC-1',\n 'TGTGTCGCGAGTTGCA-1',\n 'AACGTGATGAAGGACA-1',\n 'GGTCGGCCAGGAGCTT-1',\n 'TTACATGCCACAACTA-1',\n 'GCATAGAGCACTCAGG-1',\n 'TGCCAATGGGTACTCT-1',\n 'AAATTAACGGGTAGCT-1',\n 'CTTTAGGAACACTGTT-1',\n 'CCTAGTTAGTCGCATG-1',\n 'ATATAAATGTAGCTGC-1',\n 'CAGACCTGTAAGTGTT-1',\n 'AGCACTACCGGCCTGT-1',\n 'GATGCTACAAGCGCCT-1',\n 'CCTCGGATGCTACCTG-1',\n 'CGAGTTCTGTCCCACC-1',\n 'TGGAAGGATAAAGATG-1',\n 'TACGACTGCCTCTTAG-1',\n 'TAGAATTAAGGGCAAC-1',\n 'AAACGAGACGGTTGAT-1',\n 'CTGCCAAGGTTGGAAG-1',\n 'TGTGGCGGGCTTCTGG-1',\n 'AGTCTCACAAGACTAC-1',\n 'CGCGCCCGACTTAATA-1',\n 'TCGAGCCAGGCAGGCC-1',\n 'AAGGAGCGGTTGGTGC-1',\n 'AGAGCAGTTATGAGAC-1',\n 'TGAGTGGTCCGTGACG-1',\n 'AACGCTGTTGCTGAAA-1',\n 'ATGCCGGTTGATGGGA-1',\n 'TGATCTCCGGCGCCAG-1',\n 'GCTGGCATATTCACCT-1',\n 'CCACGGAGCCATAAGA-1',\n 'CCTCCCGACAATCCCT-1',\n 'GTACACTTACCTGAAG-1',\n 'CACGAAAGTTAGTCCC-1',\n 'TATCACTTCGAGTAAC-1',\n 'CTAAAGGGAAATAGGA-1',\n 'CTTCATAGCTCAAGAA-1',\n 'CCATTCCCTGCCCACA-1',\n 'CCGTTCCGAATCTCGG-1',\n 'TATCACCCAACCGACC-1',\n 'TACTGCAATCAATTAC-1',\n 'TTGACCATGTTCTCCG-1',\n 'ACAACGGTCCCTGCGA-1',\n 'CGATTCGCCTGGCTGC-1',\n 'GGTTGTGTAGCCTGGC-1',\n 'GTGTTACTATGCGTCC-1',\n 'CCACCCAAGGAAAGTG-1',\n 'TACCGGTCGTTTCCAT-1',\n 'TTCGACAGAGCCCGTG-1',\n 'CCCAACCACACTAACA-1',\n 'AGCGGACACTTCGTAG-1',\n 'AGTCAACACCACCATC-1',\n 'ACACGAGACTCCTTCT-1',\n 'ACGTATTACTCCGATC-1',\n 'ATATTCAGTTAAACCT-1',\n 'TTCAGGCGTCAAAGCC-1',\n 'GGAGCGAGGCCTACTT-1',\n 'AGGTACGATATTGCCA-1',\n 'GTTATATTATCTCCCT-1',\n 'GGTAACCGGGAGGATA-1',\n 'GAATGTGGTCCGGATT-1',\n 'TTCTTGGACGATCTGC-1',\n 'GATCCTAAATCGGGAC-1',\n 'AATTAGCGCTGCAGCG-1',\n 'ATCTGGTTAAGACTGT-1',\n 'CGTTGAGCGACCGTCG-1',\n 'CCAGCTGATGGTACTT-1',\n 'GCGCTGCTTTGCATTT-1',\n 'CCAGTAGTCTGATCCA-1',\n 'ATTCAGGACCTATTTC-1',\n 'TCACAAACCGAGGTAC-1',\n 'AGTTTGGCACGGGTTG-1',\n 'ACTCCCTAGAATAGTA-1',\n 'AGCGTGGTATTCTACT-1',\n 'TTCGGTACTGTAGAGG-1',\n 'CAATTAAGGGTGATGA-1',\n 'CGAGTGAAGGTACCAG-1',\n 'CAAGTGTGGTTGCAAA-1',\n 'AGTTACTCTATCGTGG-1',\n 'CCTGTCCCTCACGTTA-1',\n 'CTACGACTAGCTATAA-1',\n 'GGTGAGATGCAGATAA-1',\n 'TATCGATCTATGCATA-1',\n 'TTGGTCACACTCGTAA-1',\n 'GCCACTCAGAGCGCGA-1',\n 'CATATAGGTACAGTCA-1',\n 'AACTAGGCTTGGGTGT-1',\n 'ACCCAACGCCCGTGGC-1',\n 'GCTCAATGTAATACCG-1',\n 'GCTGTTGCTACCGAAC-1',\n 'TGTCCCGACATAGCAC-1',\n 'TGATAGCGGGATTCTA-1',\n 'TGCATGTGGTAATCTA-1',\n 'AGTCAGCCACCGCCTG-1',\n 'AATTCGATTCGAGGAT-1',\n 'TCGCTACTGGCTTTGA-1',\n 'CTCTTCTATTGACTGG-1',\n 'AAGTGCGTTAGAATCT-1',\n 'CAAACGAGTATCGCAG-1',\n 'GACTAAGATCATGCAC-1',\n 'GATATGGATTACGCGG-1',\n 'TCCGTTTAGCCTTGAA-1',\n 'GTCCTACGAATAGTCT-1',\n 'GGCAAATTACTTTACT-1',\n 'GTGGTTACTTCTTTCG-1',\n 'ATGACTATGCGACATT-1',\n 'TAGAGTCTAAGCGAAC-1',\n 'GCAACCACCAGACCGG-1',\n 'AGATTATAGGACGTTT-1',\n 'CTTGTACTTGTTGACT-1',\n 'CACATTTCTTGTCAGA-1',\n 'CTATGTCACTAGCCCA-1',\n 'GGGCGGCAAATGAATT-1',\n 'ATCGTTAGCTAGCGGA-1',\n 'CTTGACCCGAAAGATA-1',\n 'CTAGTTGGGCCCGGTA-1',\n 'TCGTCAAGTACGCGCA-1',\n 'TATACACAGACGCCTT-1',\n 'GATCAACATAAAGGGA-1',\n 'ACACGGGAACTTAGGG-1',\n 'AAGGATCGATCGCTTG-1',\n 'AAGTGCCTTGACTGTA-1',\n 'GAGGAATGGAGAGGTT-1',\n 'TTGTCGTTCAGTTACC-1',\n 'GCCATATTGCACACAG-1',\n 'GATACGATGGGAGTCA-1',\n 'GTTCGGATCGGGAACA-1',\n 'TTAGTTATTCGTGGCA-1',\n 'TACCTCAGTTGTCTGT-1',\n 'TGGGAAATGCCTTTCC-1',\n 'AAATTACCTATCGATG-1',\n 'CCGATCTCAACCTTAT-1',\n 'TCCCGTCAGTCCCGCA-1',\n 'TTGTAAGGCCAGTTGG-1',\n 'TACGCCATATTCTAAT-1',\n 'GGTTAGCTATATGTCT-1',\n 'CCGTTACGTTAGAACA-1',\n 'CTCGCACCTATATAGT-1',\n 'ACTTTCCTATAGCTTC-1',\n 'TATAAGTGAGGATAGC-1',\n 'CGGAGTTTGAGAGACA-1',\n 'CTTCATTGTCAGTGGA-1',\n 'TCGCATCCCTAAGTGT-1',\n 'GCTCCCAGTCGGTCCA-1',\n 'TGTCTACAGTTTCTGT-1',\n 'GGCGTCCTATCCGCTG-1',\n 'CGGGATCAATGTAAGA-1',\n 'GAATATTCGGAGTCCC-1',\n 'TCCCAGGCTTAGCTAA-1',\n 'ACGGACTCTCAAAGCG-1',\n 'GTTGGATTCAGTGGCT-1',\n 'CCGCACGTGACCTCGG-1',\n 'TATGGTTAGTGGGAGA-1',\n 'ACAATCCATTTAAACC-1',\n 'CTGGCTGATTCATCCT-1',\n 'GCGCCTCCCACTCCGA-1',\n 'CTTCTGGGCGTACCTA-1',\n 'GTTACTTTGGGCCTAG-1',\n 'CCTACTGCTTACACTT-1',\n 'ACGGCCAACATGGACT-1',\n 'GGGTCAGGAGCTAGAT-1',\n 'CACCCACACGTCACCC-1',\n 'TGCTCCACAGTTCTTA-1',\n 'TACATAGGCATACACC-1',\n 'TTGGACATGTGGCTTA-1',\n 'TCGGAGAGTATCGGGA-1',\n 'TTCCACACAGATTTGA-1',\n 'TGAGCGGAAAGTGTTC-1',\n 'TACTTTACTGAGCCGG-1',\n 'ATAATAGCTGTTGAAT-1',\n 'GGCCCTCACCCACTTA-1',\n 'TGTAATGACCACAATA-1',\n 'AAACGGTTGCGAACTG-1',\n 'TGGCCAAACTGAAGTA-1',\n 'GGGCGTCCACTGGCTC-1',\n 'GATATTTCCTACATGG-1',\n 'ATAGGGATATCCTTGA-1',\n 'AACCCAGAGACGGAGA-1',\n 'TTCACTTCCTAGAACG-1',\n 'GCGGCTCTGACGTACC-1',\n 'AGGTTTCACACACCTT-1',\n 'AGTGGTGTTACCCGTG-1',\n 'TTGTAAGGACCTAAGT-1',\n 'GCTTACGTAGTTAGTA-1',\n 'GCTACTATAGTAGAGT-1',\n 'AACGATATGTCAACTG-1',\n 'CATGGATTGTCTTCCG-1',\n 'CGTCGGATAGTGTTGA-1',\n 'GTATAGGACTCAGTAG-1',\n 'TCCTGCGTTGATACTC-1',\n 'AAGAGCTCTTTATCGG-1',\n 'GTAAGGATTTGTCGGA-1',\n 'GTCGTATTGGCGTACA-1',\n 'GCATTGTAATTCATAT-1',\n 'TTAGAATAAGGGTCGG-1',\n 'CTGGCATCCGAATGAG-1',\n 'TTGTTGTGTGTCAAGA-1',\n 'GAATTTCTCGCTGCAG-1',\n 'TGATTCTGTCGCCGGT-1',\n 'AGTGGCGGCAATTTGA-1',\n 'CACGTTCGTGCTCTAG-1',\n 'TATCTACAGAGGTAAT-1',\n 'GCAGGAACTTAGATCT-1',\n 'CATAAGAAGCTTGGCT-1',\n 'ATTTCATTATTTCGCG-1',\n 'CTGTAGTGAGGATCGA-1',\n 'CATCGGACGGGTTAAT-1',\n 'AAGTTCGGCCAACAGG-1',\n 'AGTCGTATAAAGCAGA-1',\n 'GTGAAACGTGCTCCAC-1',\n 'ACCGAAAGGGCCCTGC-1',\n 'AGTTCCTATTTATGTT-1',\n 'TGGTTCGTAGCAAAGG-1',\n 'ATTGCCTTTATGTTTG-1',\n 'TAGGCATGTTACGCCA-1',\n 'ATTCCCACATAAACAA-1',\n 'TGCTCTTGAGAGTTTG-1',\n 'CTTCAGTGGTCGCCTA-1',\n 'GAGTATGCCCGCCTTG-1',\n 'CAAGGATCGCATGTTC-1',\n 'GTCGCGTAACCCGTTG-1',\n 'AGATGCAAGACGTGCA-1',\n 'CGGTAGAGGTGCAGGT-1',\n 'GGCACTCCACTGGGCA-1',\n 'CTTTGGCGCTTTATAC-1',\n 'CGCCCAGCGTTTCACG-1',\n 'AGAGAAGGAGTACAAT-1',\n 'GAAATTAGCACGGATA-1',\n 'CGATCTGTTGGAGGAC-1',\n 'TTGTGAGGCATGACGC-1',\n 'ATAATCTTGGAGAACC-1',\n 'GCGATTGTTAACGTTA-1',\n 'TCAGTACTGACCCGCG-1',\n 'GTGGACGCATTTGTCC-1',\n 'ACGTTAGATTTGCCCG-1',\n 'TCGTCTTAGGCGTTAA-1',\n 'CATGGTCTAGATACCG-1',\n 'AGGTAGATCGAGATAT-1',\n 'TCCTAAATTGGGAAGC-1',\n 'CGTGGTACCCAAAGGC-1',\n 'TTCATGGCGCAACAGG-1',\n 'TCGATAGGCTAGTCGC-1',\n 'CGACAATTTGATCTAA-1',\n 'GTTTACGTTCCATCTG-1',\n 'CGGTGCGCGTTGGTCC-1',\n 'TGTGTTCGTATCCAAG-1',\n 'GTCATTGCATTGACCC-1',\n 'ATAGGTTGGGCAGATG-1',\n 'CCCAGTAAACTTGGGA-1',\n 'CCTCCTGTTGTGTCGT-1',\n 'CGTGACCAGTCCTCTG-1',\n 'CGCGCATGTTTGATTG-1',\n 'GGAGCACCAAGAACTA-1',\n 'AGGAGGCCTTCGCGCG-1',\n 'GTTTGGTAGGGTCAAC-1',\n 'TTAGACGAGTCACCTC-1',\n 'GAGTCCGCTTACCGGA-1',\n 'GGAACCGTGTAAATTG-1',\n 'CATGACTTCGCTGAAT-1',\n 'ATCCAATGGTACCGAA-1',\n 'AATATCGAATCAATGC-1',\n 'TGGCAACTCGCGCGCC-1',\n 'ACCCACCTACATGCTC-1',\n 'GTTGTCGTGTTAGTTG-1',\n 'AACGCGACCTTGGGCG-1',\n 'AGGATAAAGTCGGGAT-1',\n 'CATACACGGTTCCCAC-1',\n 'TAACTATCGAAGGTCC-1',\n 'TCCGCTGTCATCCCGG-1',\n 'TTCAAGCCGAGCTGAG-1',\n 'GGTGTAGGTAAGTAAA-1',\n 'CAGATCCTGGTTTGAA-1',\n 'CTTACACTGGGAAATA-1',\n 'TCACGATGTCCGTGGA-1',\n 'AGTATGCTGGAGACCA-1',\n 'AAGCACCCTGCGTATC-1',\n 'ACACAAAGACGGGTGG-1',\n 'CTGCTGAGGCCACGAA-1',\n 'GTCTACTCAATTACAA-1',\n 'GCATCCCTAACTTTGA-1',\n 'ACCCTTCATCTGCGAA-1',\n 'TACCGTAGGTTAACTA-1',\n 'CAATATTCTTGACCTA-1',\n 'CATGATGGAAGTTAGC-1',\n 'CTCAACTAACCCGGAT-1',\n 'TTAGCTAATACGATCT-1',\n 'CGCCCGCTTCCGTACA-1',\n 'AGCTGAAGTAAACCAA-1',\n 'GTCATGGACATGACTA-1',\n 'GATGTTCAATCCACGA-1',\n 'TAAGTCGCCGAGTATC-1',\n 'TATAGGGTACTCATGA-1',\n 'AACGTACTGTGGGTAC-1',\n 'TCGGCGAACCCAAACC-1',\n 'CTGCCTTTAATACCTT-1',\n 'AGAGAACCGTCTAGGA-1',\n 'CGCCGCCCATGCCTGT-1',\n 'CCCAACATACGTCGCG-1',\n 'GAAGGAGTCGAGTGCG-1',\n 'AAACCTCATGAAGTTG-1',\n 'GACCCGTCGCCGGCTA-1',\n 'TCTGTGCCATCATAGT-1',\n 'ACAATAGTCGTACGTT-1',\n 'GTAAGTAGGGTATACC-1',\n 'TTCTGCTAGACTCCAA-1',\n 'TAACCTACCGTCCGAG-1',\n 'TCAGCAAATGCATCTC-1',\n 'CGGTGGGCTCCAGCCT-1',\n 'ATAAGTAGGATTCAGA-1',\n 'TTCGCACTGTACGACA-1',\n 'GCTTAATGTAACTAAC-1',\n 'GAGGCCCGACTCCGCA-1',\n 'TCCTAACCGTCGGGCA-1',\n 'CTACTATCATAGGTTT-1',\n 'AAAGTAGCATTGCTCA-1',\n 'CTGGTTTCGAGCAAGA-1',\n 'ACATAATAAGGCGGTG-1',\n 'CTAGTGAAGGACAGGA-1',\n 'CCTGGCTAGACCCGCC-1',\n 'GAGCGCTGTTAGGTAA-1',\n 'TTCCAATCTGGCTATC-1',\n 'CTTGTGAGTCTTTGAC-1',\n 'TAGTAGCTTATACCAG-1',\n 'GTTGAACCGGTTCCAT-1',\n 'ATTCCTCCGCCAGTGC-1',\n 'GCAAGAATTCCTTGGC-1',\n 'CATAACGGACAGTCGT-1',\n 'TACAGAAACGGTGGGC-1',\n 'ACGCATTCGTGAGTAC-1',\n 'TAATAGAACAGAGTTA-1',\n 'TTCGTACTCCAGAACG-1',\n 'GACACAAGGGAAGAAA-1',\n 'GGTCTGAGAATCTGGA-1',\n 'GATCGTGACTGATATC-1',\n 'GTCGTACCATCTCGGG-1',\n 'TTGCCAAGCAGAACCC-1',\n 'CGTTGAATACCGCGCT-1',\n 'CGCGAGTCTGCCGGGT-1',\n 'CCTATGGTCAAAGCTG-1',\n 'AGATGACTCGCCCACG-1',\n 'TAGATTCCTGGTTATT-1',\n 'TGATTCCCGGTTACCT-1',\n 'CGAGCTGGGCTTTAGG-1',\n 'TTCGCACTCGCGTGCT-1',\n 'TTGACGATTCAGCACG-1',\n 'TTGCGGCATCAGAAAG-1',\n 'GTGGTGGCCAAGTGAA-1',\n 'CTTCTATTAATGCTAG-1',\n 'GCACAAGTGTCGGAAG-1',\n 'GAGCGAGGGAGTACCG-1',\n 'CATGAGATGCACTCTC-1',\n 'GCCAATAGGGCATCTC-1',\n 'GGATGACGCGAGTTTA-1',\n 'ATTATGCCATAGGGAG-1',\n 'GAGCATCAACAACTTG-1',\n 'AATCGCCTCAGCGCCA-1',\n 'TAACTCATCCGCGCGG-1',\n 'AAGCTCGTGCCAAGTC-1',\n 'GGCAAGGCGAAATAGC-1',\n 'GCGAGCGCATGCTCCC-1',\n 'TCACCGCTCGGCACTC-1',\n 'GCCCGACTTCTTCCCG-1',\n 'AACCATGGGATCGCTA-1',\n 'TTGCCATAGCCCGCTC-1',\n 'GTCTATCTGAGTTTCT-1',\n 'GTACTTGGGCACTTCT-1',\n 'CCTGTCACCCGGGCTC-1',\n 'CCTAGGTAAAGGTAGC-1',\n 'CGTTTCACTTCGGGCG-1',\n 'TTCGTAATCCCAGCGG-1',\n 'TGTCCGTGGCGCCTTT-1',\n 'ATTTACTAAGTCCATT-1',\n 'GTAGCTTCCTCTTGTT-1',\n 'GTTGGTCATGCTATCC-1',\n 'GCGTTATATTTGGAAC-1',\n 'AATGACAGCAATGTCT-1',\n 'CTTTACCGAATAGTAG-1',\n 'GGCCTTTGCAACTGGC-1',\n 'GGGAGAACTCACAGTA-1',\n 'ACCATCCGCCAACTAG-1',\n 'AGTTAAGTCAACCGCT-1',\n 'GCCCTGAGGATGGGCT-1',\n 'AACAGGAAATCGAATA-1',\n 'TATATATCGAGAAATG-1',\n 'CCGACGGGCATGAGGT-1',\n 'GCGTTCGGAGACCGGG-1',\n 'ATCTAGCTTGTGAGGG-1',\n 'CTAGTATTCGGAATTA-1',\n 'ACACTGATCAAGGTGT-1',\n 'GGCGCGGAGATCTTTC-1',\n 'CGAACAGTATGGGCGT-1',\n 'CCGAAGTATATTGTTC-1',\n 'GCGTGGTACTGGGTTA-1',\n 'TACGCTATAGAAACCT-1',\n 'CCTCTGTACTATTCTA-1',\n 'GGATTTCACTTCTATA-1',\n 'AGGTGGTGACCTTCGC-1',\n 'CGGGTGTACCCATTTA-1',\n 'GTTCATCGTTTGGCTG-1',\n 'TCACTCGTGCAACGGC-1',\n 'CTTTAGTGCTATTATT-1',\n 'CCTCTATCGATTAGCA-1',\n 'AAGGGACTATGCATTC-1',\n 'CCGAAAGTGGTGAGCA-1',\n 'TGGAACCACTGACACA-1',\n 'AAGTGAGTCGGGTTTA-1',\n 'GGAAACCTTGTTGAAT-1',\n 'GAAGTGATTTATCGTG-1',\n 'TATTTGTTACCCTTTA-1',\n 'CTAACTGGTCCGGTTC-1',\n 'AAGCGCAGGGCTTTGA-1',\n 'GGGCGTCACCACGTAA-1',\n 'GTCTTGTAGCTATTCA-1',\n 'CCGGAGCGTACTTTCT-1',\n 'GCACGCCTACTTAGAT-1',\n 'AGTAGGAAGGAAGTTG-1',\n 'AGCGCGGGTGCCAATG-1',\n 'GCAACGGCTAGTTATG-1',\n 'CATGGTAAGTAGCGTT-1',\n 'ACTCCCGAATTCGTTT-1',\n 'TAACATACACGCGATC-1',\n 'ATCACGTGCTAATTAA-1',\n 'AACAACTGGTAGTTGC-1',\n 'GTAGACGTCGTTACAT-1',\n 'AGTCTTTAAAGTGTCC-1',\n 'ACTATTTCCGGGCCCA-1',\n 'AGATGATGGAGTCTGG-1',\n 'AATTCATAAGGGATCT-1',\n 'GATGTCGGTCAACTGC-1',\n 'CGTTGTAAGATTGATT-1',\n 'GGTTAGGCTTGGAGAA-1',\n 'TCCTTTCTTACGCTTA-1',\n 'CCAGCCTGGACCAATA-1',\n 'TTATCGCCTGCGAAGC-1',\n 'GAGTTGATGGCAATTT-1',\n 'CTCAGGACTCACCTGT-1',\n 'GGGCGTACATTTATAT-1',\n 'ACACCTTAAGTAGGGC-1',\n 'CGGAGCATGGCGATCC-1',\n 'CCAGGGACGTGGCCTC-1',\n 'CCGTAGGAAATCCCTG-1',\n 'CCTCGAAGTGGACGGG-1',\n 'TTCTGCCGCGCCTAGA-1',\n 'TGCGCGATTAACGGAG-1',\n 'TGTAGTGATCTATAAT-1',\n 'AGGGACCGGCTGCGTT-1',\n 'TGGTCTGTTGGGCGTA-1',\n 'GAGGGCGCAGCTCTGC-1',\n 'CGGGAGCTTCAGTGTA-1',\n 'ATGTAGCGCGCGTAGG-1',\n 'TCCGCTTATCCCATTA-1',\n 'CATTATGCTTGTTGTG-1',\n 'TACATCCCTATCCCTG-1',\n 'CCCTCATTCTGGAATT-1',\n 'GTCCAATATTTAGCCT-1',\n 'CAAGATATTATAACGT-1',\n 'CCAAGAAAGTGGGCGA-1',\n 'ATTCGACGCCGGGCCT-1',\n 'TAATCGATCCGTACGT-1',\n 'ATACAGGCCCTCCAAT-1',\n 'TGTACCTACACGAGGG-1',\n 'GAACCTCGACCTACAC-1',\n 'ACATCGGTCAGCCGCG-1',\n 'AGTTTGGCCAGACCTA-1',\n 'ACTCAATAAAGGCACG-1',\n 'CGTCTGGAAGGGCCCG-1',\n 'TATCTTGCAATACAAC-1',\n 'CATTACGTCGGCCCGT-1',\n 'GTACTGGAGTTAGACC-1',\n 'GCGCGGTCTAGTAACT-1',\n 'AATGTGCCCGAGGTGT-1',\n 'TTGTGTTTCCCGAAAG-1',\n 'AGTACGGGCACCTGGC-1',\n 'TGCGAATATGGGATTT-1',\n 'AGGTTGAGGCACGCTT-1',\n 'CCTACATTCACAGACG-1',\n 'CTGTTCATCTCACGGG-1',\n 'TGGAATATCCTTGACC-1',\n 'GTGGCGGTCCCAGCGT-1',\n 'CGTTAATGTCCCGACG-1',\n 'CACTCGAGCTGAACAA-1',\n 'ATTCATATACTGTCCA-1',\n 'ATGTGGACATCTTGAT-1',\n 'GGATTCCGCTATACCC-1',\n 'GAAGCTCGGACCCGTC-1',\n 'TGTTTAATACTTCATC-1',\n 'TTGCTGATCATGTTCG-1',\n 'GATGGCGCACACATTA-1',\n 'GATCCTCGACACTGGC-1',\n 'CAGGCGCCATGCTAGG-1',\n 'TGCAACCCATCTGCGG-1',\n 'CCGGAATGGTTTCAGT-1',\n 'ACCACAAGTTTCTATC-1',\n 'GTCACTCTCCAAATCT-1',\n 'ACTACGCGTTAGAATT-1',\n 'CGGTTATCCAACAGTG-1',\n 'TCCTCTACGAGATGGC-1',\n 'CCAGCTTCCGCCCGCA-1',\n 'ACCACGTGCAGCTATA-1',\n 'ACGAGATATTTGCTTA-1',\n 'AGCAGAAGGAGAAAGA-1',\n 'ACATCGATCGTTTACC-1',\n 'AGAGCGTACAAGCTCG-1',\n 'CACCTCGATGGTGGAC-1',\n 'TAGGTCGCCGGAACTG-1',\n 'TCCCAAAGACGAAGGA-1',\n 'GCTCGGAATTTAAAGC-1',\n 'CTGGCGACATAAGTCC-1',\n 'AGGCATTGTCGTAGGG-1',\n 'CACCTAATAGAGTCGT-1',\n 'CCGAGAAGTCGCATAA-1',\n 'GTAATCTGATTCTTCG-1',\n 'TAACAATATTTGTTGC-1',\n 'GAACACACATCAACCA-1',\n 'GAATTATAGTGAAAGG-1',\n 'GAGGTACATCCATCTT-1',\n 'TACGCAGTTCTTTCCT-1',\n 'AAAGTCACTGATGTAA-1',\n 'GCCGACCCACGACTGC-1',\n 'GCCCTAGCCGTCGCGA-1',\n 'ATGCTCAGTGTTGCAT-1',\n 'TCCTTCAGTGGTCGAA-1',\n 'ATCCAGGATTCGTGAA-1',\n 'AACATTGTGACTCGAG-1',\n 'CTTCGGCCAATTGTTT-1',\n 'AGCACCAGTACTCACG-1',\n 'CTCATGGTAATTTGCG-1',\n 'AAAGGGCAGCTTGAAT-1',\n 'AATCGTGAGCCGAGCA-1',\n 'ATCCAGAGCAACAACC-1',\n 'AGAAGTGATTCGTGAT-1',\n 'CTAACGAAACTTGCTG-1',\n 'AACCTCGCTTTAGCCC-1',\n 'GTCGTGTCTGGTCATC-1',\n 'TTCCGGTATCTGTGTC-1',\n 'AGCCAAGCTTTGTGTC-1',\n 'TCGAAGAACCGAGCAC-1',\n 'GGGACAGAGTTACTCC-1',\n 'TCTGCCAGAAACTGCA-1',\n 'TGCCACCTGGCGAAAC-1',\n 'GGGCCTAAATGGGCTA-1',\n 'TACATTTCTAACGTGC-1',\n 'GACCGTCAGGTCGTGA-1',\n 'CTGTTCACTGCCTGTG-1',\n 'CCTATATTTGTCCTGG-1',\n 'GGTTACCACCCTCGGG-1',\n 'CTGTCAAATGGCTCGG-1',\n 'ACGATCATCTTGTAAA-1',\n 'CAGATACTAACATAGT-1',\n 'CTCTTGTCCCGCTTGG-1',\n 'AGGACGACCCATTAGA-1',\n 'GGTGGACTGCTCTGGC-1',\n 'ATACTTGTTCTCGAGC-1',\n 'TCACCCTCTTAAGATT-1',\n 'CATGAACCGACATTTG-1',\n 'GCGGCAAAGTATTGCC-1',\n 'CTTTGGCTTTAGTAAA-1',\n 'GAGCGGAATGCGGTGT-1',\n 'AGTAATGTCTTGCCGC-1',\n 'ATCAGACGGCACGCCG-1',\n 'AAGTGTTTGGAGACGG-1',\n 'TGCAGAGTACCGAGCA-1',\n 'GATAACTCGCACTGTG-1',\n 'GACACGAGTTAGAGGA-1',\n 'GAATGTTGGGTAATCT-1',\n 'GGGTCACCGTGACGGT-1',\n 'AATGGTCCACCGTTCA-1',\n 'CATATGTCAGGCTACG-1',\n 'GTGTACCTTGGCTACG-1',\n 'GACGAGGCTAATAAAC-1',\n 'AACGATAATGCCGTAG-1',\n 'GGTACAAACATGCTAT-1',\n 'CATGTAAGAGACATTT-1',\n 'CCGCCTGCGAATTGGT-1',\n 'AAGTAGTGACGCGAGG-1',\n 'GGCGAAATCTAACTTG-1',\n 'TAGGTTCGAGTTCGTC-1',\n 'TCAGCAGTAGGCCCTG-1',\n 'CACAGCTAGGGAGTGA-1',\n 'AGTTAAACACTTGCGA-1',\n 'AACAATACATTGTCGA-1',\n 'AACCAAGACTTCTCTG-1',\n ...]"
     },
     "execution_count": 38,
     "metadata": {},
     "output_type": "execute_result"
    }
   ],
   "source": [
    "spot_id_array"
   ],
   "metadata": {
    "collapsed": false,
    "ExecuteTime": {
     "end_time": "2024-08-16T14:44:44.083435300Z",
     "start_time": "2024-08-16T14:44:44.055322700Z"
    }
   }
  },
  {
   "cell_type": "code",
   "execution_count": 39,
   "metadata": {
    "ExecuteTime": {
     "end_time": "2024-08-16T14:44:44.728255200Z",
     "start_time": "2024-08-16T14:44:44.710399300Z"
    }
   },
   "outputs": [
    {
     "data": {
      "text/plain": "(2518, 3, 21, 21)"
     },
     "execution_count": 39,
     "metadata": {},
     "output_type": "execute_result"
    }
   ],
   "source": [
    "spot_data_array.shape"
   ]
  },
  {
   "cell_type": "code",
   "execution_count": 40,
   "metadata": {
    "ExecuteTime": {
     "end_time": "2024-08-16T14:44:45.726532500Z",
     "start_time": "2024-08-16T14:44:45.707944600Z"
    }
   },
   "outputs": [
    {
     "data": {
      "text/plain": "['AGTGGCGTCTGAAGGT-1',\n 'GGGAACGGTTTCAGAT-1',\n 'GGTGCGGATAAGTGGC-1',\n 'AACCGTTGTGTTTGCT-1',\n 'CCAGAAAGCAACTCAT-1']"
     },
     "execution_count": 40,
     "metadata": {},
     "output_type": "execute_result"
    }
   ],
   "source": [
    "spot_id_array[:5]"
   ]
  },
  {
   "cell_type": "markdown",
   "metadata": {},
   "source": [
    "To build the graph, we need to have the `array_col` and `array_row` for each spot:"
   ]
  },
  {
   "cell_type": "code",
   "execution_count": 41,
   "metadata": {
    "ExecuteTime": {
     "end_time": "2024-08-16T14:44:46.802440300Z",
     "start_time": "2024-08-16T14:44:46.795454300Z"
    }
   },
   "outputs": [],
   "source": [
    "# import scanpy as sc\n",
    "# \n",
    "# \n",
    "# adata = sc.read(\"../example_data/example_raw_data/sp.X_norm5e4_log1p.h5ad\")\n",
    "# spot_array_cols = adata.obs.array_col\n",
    "# spot_array_rows = adata.obs.array_row"
   ]
  },
  {
   "cell_type": "code",
   "execution_count": 42,
   "outputs": [
    {
     "name": "stderr",
     "output_type": "stream",
     "text": [
      "C:\\Users\\qq135\\Hist2Cell\\venv\\Lib\\site-packages\\anndata\\_core\\anndata.py:1820: UserWarning: Variable names are not unique. To make them unique, call `.var_names_make_unique`.\n",
      "  utils.warn_names_duplicates(\"var\")\n",
      "C:\\Users\\qq135\\Hist2Cell\\venv\\Lib\\site-packages\\anndata\\_core\\anndata.py:1820: UserWarning: Variable names are not unique. To make them unique, call `.var_names_make_unique`.\n",
      "  utils.warn_names_duplicates(\"var\")\n"
     ]
    }
   ],
   "source": [
    "# read ST data\n",
    "import scanpy as sc\n",
    "\n",
    "# adata = sc.read_visium(path = '../patch/V10T03-282-A1', \n",
    "#                        count_file='V10T03-282-A1__filtered_feature_bc_matrix.h5', \n",
    "#                        library_id='A1_spot',                        \n",
    "#                        load_images=True)\n",
    "adata = sc.read_visium(path = '../patch', \n",
    "                       count_file='Visium_FFPE_Human_Breast_Cancer_filtered_feature_bc_matrix.h5', \n",
    "                       library_id='A1_spot',                        \n",
    "                       load_images=True)\n",
    "adata.var_names_make_unique()\n",
    "adata.var['SYMBOL'] = adata.var_names\n",
    "\n",
    "spot_array_cols = adata.obs.array_col\n",
    "spot_array_rows = adata.obs.array_row\n"
   ],
   "metadata": {
    "collapsed": false,
    "ExecuteTime": {
     "end_time": "2024-08-16T14:44:48.587960200Z",
     "start_time": "2024-08-16T14:44:47.794275Z"
    }
   }
  },
  {
   "cell_type": "markdown",
   "metadata": {},
   "source": [
    "From the `./example_data/example_raw_data/WSA_LngSP9258467/spot_view.jpg`, we can see that every spot has 6 nearest neighbors, build the graph according to this spatial relation:"
   ]
  },
  {
   "cell_type": "code",
   "execution_count": 43,
   "metadata": {
    "ExecuteTime": {
     "end_time": "2024-08-16T14:44:49.464991Z",
     "start_time": "2024-08-16T14:44:49.442954900Z"
    }
   },
   "outputs": [],
   "source": [
    "import random\n",
    "spot_array_x_y = []\n",
    "for item in spot_id_array:\n",
    "    \n",
    "    spot_array_x_y.append([int(spot_array_cols[item]), int(spot_array_rows[item])])\n"
   ]
  },
  {
   "cell_type": "code",
   "execution_count": 44,
   "outputs": [
    {
     "data": {
      "text/plain": "[115, 41]"
     },
     "execution_count": 44,
     "metadata": {},
     "output_type": "execute_result"
    }
   ],
   "source": [
    "max(spot_array_x_y)"
   ],
   "metadata": {
    "collapsed": false,
    "ExecuteTime": {
     "end_time": "2024-08-16T14:44:49.961116600Z",
     "start_time": "2024-08-16T14:44:49.901787800Z"
    }
   }
  },
  {
   "cell_type": "code",
   "execution_count": 45,
   "metadata": {
    "ExecuteTime": {
     "end_time": "2024-08-16T14:44:53.980760500Z",
     "start_time": "2024-08-16T14:44:50.342681100Z"
    }
   },
   "outputs": [],
   "source": [
    "adj = np.zeros((len(spot_array_x_y), len(spot_array_x_y)))\n",
    "\n",
    "for i in range(len(spot_array_x_y)):\n",
    "    for j in range(len(spot_array_x_y)):\n",
    "        if i == j:\n",
    "            adj[i][j] = 1.0\n",
    "        else:\n",
    "            x1 = spot_array_x_y[i][0]\n",
    "            y1 = spot_array_x_y[i][1]\n",
    "            x2 = spot_array_x_y[j][0]\n",
    "            y2 = spot_array_x_y[j][1]\n",
    "\n",
    "            if x2 <= x1 - 3 or x2 >= x1 + 3 or y2 <= y1 - 2 or y2 >= y1 + 2:\n",
    "                continue\n",
    "            else:\n",
    "                adj[i][j] = 1.0"
   ]
  },
  {
   "cell_type": "markdown",
   "source": [],
   "metadata": {
    "collapsed": false
   }
  },
  {
   "cell_type": "code",
   "execution_count": 46,
   "outputs": [
    {
     "name": "stdout",
     "output_type": "stream",
     "text": [
      "[0, 152, 702, 1003, 1618, 2073, 2291]\n"
     ]
    }
   ],
   "source": [
    "num = 0\n",
    "name = []\n",
    "for x in range(len(adj[0])):\n",
    "    if adj[0][x] == 1:\n",
    "     num+=1\n",
    "     name.append(x)\n",
    "print(name)"
   ],
   "metadata": {
    "collapsed": false,
    "ExecuteTime": {
     "end_time": "2024-08-16T14:44:53.995547100Z",
     "start_time": "2024-08-16T14:44:53.984718100Z"
    }
   }
  },
  {
   "cell_type": "markdown",
   "metadata": {},
   "source": [
    "For easy visualization, we also save the pixel coordinate of each spot:"
   ]
  },
  {
   "cell_type": "code",
   "execution_count": 47,
   "metadata": {
    "ExecuteTime": {
     "end_time": "2024-08-16T14:44:54.008266100Z",
     "start_time": "2024-08-16T14:44:53.990559900Z"
    }
   },
   "outputs": [
    {
     "data": {
      "text/plain": "array([[1405.50785648, 1283.03954284],\n       [1441.7893676 ,  712.29785988],\n       [ 559.30353588,  861.06662636],\n       [ 485.9391148 , 1051.36242364],\n       [1221.18612328,  754.7719984 ]])"
     },
     "execution_count": 47,
     "metadata": {},
     "output_type": "execute_result"
    }
   ],
   "source": [
    "spots_coord = pd.read_csv(os.path.join(\"../patch/output/tissue_positions_list_ordered.csv\"), index_col=0)\n",
    "spots_coord = spots_coord.loc[spot_id_array].values * 0.07285444\n",
    "spots_coord[:5]"
   ]
  },
  {
   "cell_type": "code",
   "execution_count": 48,
   "outputs": [
    {
     "data": {
      "text/plain": "(2518, 2)"
     },
     "execution_count": 48,
     "metadata": {},
     "output_type": "execute_result"
    }
   ],
   "source": [
    "spots_coord.shape"
   ],
   "metadata": {
    "collapsed": false,
    "ExecuteTime": {
     "end_time": "2024-08-16T14:44:55.079784800Z",
     "start_time": "2024-08-16T14:44:55.059031500Z"
    }
   }
  },
  {
   "cell_type": "markdown",
   "metadata": {},
   "source": [
    "Finally, we can save the processed data as `torch_geometric.data.Data` for `Hist2Cell` trainng:"
   ]
  },
  {
   "cell_type": "code",
   "execution_count": 49,
   "metadata": {
    "ExecuteTime": {
     "end_time": "2024-08-16T14:44:57.747291400Z",
     "start_time": "2024-08-16T14:44:57.722919300Z"
    }
   },
   "outputs": [
    {
     "data": {
      "text/plain": "Data(x=[2518, 3, 21, 21], edge_index=[2, 16608], y=[2518, 289], pos=[2518, 2])"
     },
     "execution_count": 49,
     "metadata": {},
     "output_type": "execute_result"
    }
   ],
   "source": [
    "from torch_geometric.utils import dense_to_sparse\n",
    "from torch_geometric.data import Data\n",
    "from torch import Tensor\n",
    "\n",
    "\n",
    "x = Tensor(spot_data_array)\n",
    "y = Tensor(spot_label_array)\n",
    "adj = Tensor(adj)\n",
    "edge_index, _ = dense_to_sparse(adj)\n",
    "pos = Tensor(spots_coord)\n",
    "data = Data(x=x, edge_index=edge_index, y=y, pos=pos)\n",
    "data"
   ]
  },
  {
   "cell_type": "code",
   "execution_count": 50,
   "outputs": [
    {
     "data": {
      "text/plain": "tensor([[   0,    0,    0,  ..., 2517, 2517, 2517],\n        [   0,  152,  702,  ..., 1190, 2041, 2517]])"
     },
     "execution_count": 50,
     "metadata": {},
     "output_type": "execute_result"
    }
   ],
   "source": [
    "edge_index"
   ],
   "metadata": {
    "collapsed": false,
    "ExecuteTime": {
     "end_time": "2024-08-16T14:44:59.054786600Z",
     "start_time": "2024-08-16T14:44:59.040660Z"
    }
   }
  },
  {
   "cell_type": "code",
   "execution_count": 51,
   "metadata": {
    "ExecuteTime": {
     "end_time": "2024-08-16T14:45:02.469918100Z",
     "start_time": "2024-08-16T14:45:02.445266600Z"
    }
   },
   "outputs": [],
   "source": [
    "torch.save(data, \"../patch/output/tissue_hires_image.pt\")"
   ]
  },
  {
   "cell_type": "code",
   "execution_count": null,
   "outputs": [],
   "source": [],
   "metadata": {
    "collapsed": false
   }
  }
 ],
 "metadata": {
  "kernelspec": {
   "display_name": "Python 3 (ipykernel)",
   "language": "python",
   "name": "python3"
  },
  "language_info": {
   "codemirror_mode": {
    "name": "ipython",
    "version": 3
   },
   "file_extension": ".py",
   "mimetype": "text/x-python",
   "name": "python",
   "nbconvert_exporter": "python",
   "pygments_lexer": "ipython3",
   "version": "3.11.9"
  }
 },
 "nbformat": 4,
 "nbformat_minor": 4
}
