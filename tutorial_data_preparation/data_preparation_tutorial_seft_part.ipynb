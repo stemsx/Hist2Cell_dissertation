{
 "cells": [
  {
   "cell_type": "markdown",
   "metadata": {},
   "source": [
    "To perform the subgraph sampling training in `Hist2Cell`, we need to prepare the dataset into certain data structure.\n",
    "\n",
    "In `./example_data/humanlung_cell2location` and `./example_data/humanlung_cell2location_2x`, we provide the processed data for the humanlung cell2location dataset in our study.\n",
    "In this tutorial, we will go through the data structure of the provided processed data.\n",
    "\n",
    "Then, we will show how to prepare your own raw data into this data structure."
   ]
  },
  {
   "cell_type": "markdown",
   "metadata": {
    "vscode": {
     "languageId": "plaintext"
    }
   },
   "source": [
    "First, let's see the data structure of process data for slide `WSA_LngSP9258467` from donor A50:"
   ]
  },
  {
   "cell_type": "code",
   "execution_count": 1,
   "metadata": {
    "ExecuteTime": {
     "end_time": "2024-08-16T13:27:26.381481800Z",
     "start_time": "2024-08-16T13:27:19.642089200Z"
    }
   },
   "outputs": [
    {
     "data": {
      "text/plain": "Data(x=[422, 3, 224, 224], edge_index=[2, 2732], y=[422, 330], pos=[422, 2])"
     },
     "execution_count": 1,
     "metadata": {},
     "output_type": "execute_result"
    }
   ],
   "source": [
    "import torch\n",
    "\n",
    "processed_data = torch.load(\"../example_data/humanlung_cell2location/WSA_LngSP9258467.pt\")\n",
    "processed_data"
   ]
  },
  {
   "cell_type": "markdown",
   "metadata": {},
   "source": [
    "In the processed  data, the following varibales are:\n",
    "- `x`: the 224*224*3 image patch for each spot in the ST data, each spot is considered as one node in the graphs representing the slide, there are in total 422 spots in this slide;\n",
    "- `edge_index`: graph connectivity in `COO` format with shape `[2, num_edges]`, there are 2732 edges in this slide;\n",
    "- `y`: the label for each spot, contains 250 highly expressed gene labels + 80 fine-grained cell abundance labels, resulting 330 labels for each spot;\n",
    "- `pos`: the x-y pixel coordinate of each spot on the original slide, used in visualization and calculating cell-colocalization metric;"
   ]
  },
  {
   "cell_type": "code",
   "execution_count": 2,
   "metadata": {
    "ExecuteTime": {
     "end_time": "2024-08-16T13:27:27.432758900Z",
     "start_time": "2024-08-16T13:27:27.416912300Z"
    }
   },
   "outputs": [
    {
     "data": {
      "text/plain": "torch.Size([3, 224, 224])"
     },
     "execution_count": 2,
     "metadata": {},
     "output_type": "execute_result"
    }
   ],
   "source": [
    "processed_data['x'][0].shape"
   ]
  },
  {
   "cell_type": "code",
   "execution_count": 3,
   "metadata": {
    "ExecuteTime": {
     "end_time": "2024-08-16T13:27:28.053104200Z",
     "start_time": "2024-08-16T13:27:28.001433700Z"
    }
   },
   "outputs": [
    {
     "data": {
      "text/plain": "tensor([2.3157, 2.3157, 2.3157, 4.5253, 3.3463])"
     },
     "execution_count": 3,
     "metadata": {},
     "output_type": "execute_result"
    }
   ],
   "source": [
    "processed_data['y'][0][:5]"
   ]
  },
  {
   "cell_type": "code",
   "execution_count": 11,
   "metadata": {
    "ExecuteTime": {
     "end_time": "2024-08-16T13:31:45.482755500Z",
     "start_time": "2024-08-16T13:31:45.452738300Z"
    }
   },
   "outputs": [
    {
     "data": {
      "text/plain": "tensor([[  0,   0,   0,  ..., 421, 421, 421],\n        [  0,  54,  96,  ..., 250, 321, 421]])"
     },
     "execution_count": 11,
     "metadata": {},
     "output_type": "execute_result"
    }
   ],
   "source": [
    "processed_data['edge_index']"
   ]
  },
  {
   "cell_type": "markdown",
   "metadata": {},
   "source": [
    "For the `DataLoader`, we use `NeighborLoader` from `torch_geometric` , which supports subgraph sampling from some center nodes, here are 2 important parameters:\n",
    "- `hop`: this parameter define receptive field when sampling the subgraphs with a group of center nodes for training/testing, in our paper, we use 2-hop subgraphs to achieve a banlance between computation cost and performance, generally, bigger receptive field will contain more neighboring information.\n",
    "- `subgraph_bs`: this parameter define the number of subgraphs to be sampled during training/testing, which is the `subgraph batchsize`, we use `subgraph_bs=16` on our RTX 3090 GPU."
   ]
  },
  {
   "cell_type": "code",
   "execution_count": 1,
   "metadata": {
    "ExecuteTime": {
     "end_time": "2024-08-09T17:48:06.002152100Z",
     "start_time": "2024-08-09T17:47:59.140147800Z"
    }
   },
   "outputs": [
    {
     "ename": "NameError",
     "evalue": "name 'processed_data' is not defined",
     "output_type": "error",
     "traceback": [
      "\u001B[1;31m---------------------------------------------------------------------------\u001B[0m",
      "\u001B[1;31mNameError\u001B[0m                                 Traceback (most recent call last)",
      "Cell \u001B[1;32mIn[1], line 10\u001B[0m\n\u001B[0;32m      6\u001B[0m hop \u001B[38;5;241m=\u001B[39m \u001B[38;5;241m2\u001B[39m\n\u001B[0;32m      7\u001B[0m subgraph_bs \u001B[38;5;241m=\u001B[39m \u001B[38;5;241m16\u001B[39m\n\u001B[0;32m      9\u001B[0m dataloader_loader \u001B[38;5;241m=\u001B[39m NeighborLoader(\n\u001B[1;32m---> 10\u001B[0m     \u001B[43mprocessed_data\u001B[49m,\n\u001B[0;32m     11\u001B[0m     num_neighbors\u001B[38;5;241m=\u001B[39m[\u001B[38;5;241m-\u001B[39m\u001B[38;5;241m1\u001B[39m]\u001B[38;5;241m*\u001B[39mhop,\n\u001B[0;32m     12\u001B[0m     batch_size\u001B[38;5;241m=\u001B[39msubgraph_bs,\n\u001B[0;32m     13\u001B[0m     directed\u001B[38;5;241m=\u001B[39m\u001B[38;5;28;01mFalse\u001B[39;00m,\n\u001B[0;32m     14\u001B[0m     input_nodes\u001B[38;5;241m=\u001B[39m\u001B[38;5;28;01mNone\u001B[39;00m,\n\u001B[0;32m     15\u001B[0m     shuffle\u001B[38;5;241m=\u001B[39m\u001B[38;5;28;01mTrue\u001B[39;00m,\n\u001B[0;32m     16\u001B[0m     num_workers\u001B[38;5;241m=\u001B[39m\u001B[38;5;241m2\u001B[39m,\n\u001B[0;32m     17\u001B[0m )\n",
      "\u001B[1;31mNameError\u001B[0m: name 'processed_data' is not defined"
     ]
    }
   ],
   "source": [
    "from torch_geometric.loader import NeighborLoader\n",
    "import torch_geometric\n",
    "torch_geometric.typing.WITH_PYG_LIB = False\n",
    "\n",
    "\n",
    "hop = 2\n",
    "subgraph_bs = 16\n",
    "\n",
    "dataloader_loader = NeighborLoader(\n",
    "    processed_data,\n",
    "    num_neighbors=[-1]*hop,\n",
    "    batch_size=subgraph_bs,\n",
    "    directed=False,\n",
    "    input_nodes=None,\n",
    "    shuffle=True,\n",
    "    num_workers=2,\n",
    ")"
   ]
  },
  {
   "cell_type": "markdown",
   "metadata": {},
   "source": [
    "In `torch_geometric`, the sampled subgraphs are merged into a big graph for parallel training, for more details, please refer to the documentation of torch_geometric`."
   ]
  },
  {
   "cell_type": "code",
   "execution_count": 8,
   "metadata": {
    "ExecuteTime": {
     "end_time": "2024-06-10T14:09:50.925094300Z",
     "start_time": "2024-06-10T14:09:45.997969800Z"
    }
   },
   "outputs": [
    {
     "name": "stdout",
     "output_type": "stream",
     "text": [
      "Data(x=[209, 3, 224, 224], edge_index=[2, 1199], y=[209, 330], pos=[209, 2], n_id=[209], e_id=[1199], input_id=[16], batch_size=16)\n"
     ]
    }
   ],
   "source": [
    "for subgraphs in dataloader_loader:\n",
    "    print(subgraphs)\n",
    "    break"
   ]
  },
  {
   "cell_type": "markdown",
   "metadata": {},
   "source": [
    "Next, we show how to preprocess raw data into this structure for `Hist2Cell` training:\n",
    "\n",
    "We upload the raw data of slide `WSA_LngSP9258467` in `./example_data/example_raw_data/WSA_LngSP9258467` for preprocessing tutorial.\n",
    "\n",
    "We explain the files under this folder one by one:\n",
    "- `patch`: folder contain the image patches for each spot in the ST data, to crop the image patches from a WSI and obtain the coordinate, please refer to the pipeline in [DSMIL repository](https://github.com/binli123/dsmil-wsi);\n",
    "- `cell_ratio.csv`: contains the 80 fine-grained cell type abundances;\n",
    "- `stdata.csv`: contains the spatial gene expression for each spot;\n",
    "- `log1p_stdata.csv`: contains the log1p processed spatial gene expression for each spot;\n",
    "- `spots.csv`: contains the pixel coordinate for each spot;\n",
    "- `high_250_stdata.csv`: contains the top 250 highly expressed spatial gene expression for each spot;\n",
    "- `high_250_stdata_log1p.csv`: contains the log1p processed top 250 highly expressed spatial gene expression for each spot;\n",
    "- `WSA_LngSP9258467.jpg`: the original slide image;\n",
    "- `WSA_LngSP9258467_low_res.jpg`: the low-resolution slide image, for quick visualization and other processing;\n",
    "- `spot_view.jpg`: the original slide image with visualized spots;\n",
    "- `2x_patch`: folder contain the image patches for each spot in 2x super-resolved experiments;\n",
    "- `2x_spots.csv`: contains the pixel coordinate for each image patch in the 2x super-resolved experiments;\n",
    "- `2x_spot_view.jpg`: the original slide image with visualized 2x resolution spots;"
   ]
  },
  {
   "cell_type": "markdown",
   "metadata": {},
   "source": [
    "To process the raw data, we first define a `STDataset` to iterate the spots:"
   ]
  },
  {
   "cell_type": "code",
   "execution_count": null,
   "outputs": [],
   "source": [],
   "metadata": {
    "collapsed": false
   }
  },
  {
   "cell_type": "code",
   "execution_count": 14,
   "metadata": {
    "ExecuteTime": {
     "end_time": "2024-08-25T07:01:09.545844300Z",
     "start_time": "2024-08-25T07:01:09.519710Z"
    }
   },
   "outputs": [],
   "source": [
    "import os\n",
    "import numpy as np\n",
    "import pandas as pd\n",
    "from torchvision import transforms\n",
    "from PIL import Image\n",
    "import torch\n",
    "\n",
    "\n",
    "class STDataset(torch.utils.data.Dataset):\n",
    "    def __init__(self, root, slide,transform=None):\n",
    "        super(STDataset, self).__init__()\n",
    "        self.root = root\n",
    "        self.slide = slide\n",
    "        self.transform = transform\n",
    "\n",
    "        patch_path = os.path.join(root, slide, 'patches')\n",
    "        patch = os.listdir(patch_path)\n",
    "        patch_list = [x.split('.')[0] for x in patch]\n",
    "\n",
    "        cell_label = pd.read_csv(os.path.join(root, slide, 'visium_ductal_breast_ground_truth-cell2locationPopulations_aligned.csv'), index_col=0)\n",
    "        gene_label = pd.read_csv(os.path.join(root, slide, 'raw_counts_df.csv'), index_col=0)\n",
    "        label_df = pd.merge(gene_label, cell_label, left_index=True, right_index=True)\n",
    "        \n",
    "\n",
    "        label_index_set = set(label_df.index)\n",
    "        patch_index_set = set(patch_list)\n",
    "        and_set = label_index_set & patch_index_set\n",
    "\n",
    "        patch_list = list(and_set)\n",
    "        self.label_df = label_df.loc[patch_list]\n",
    "        self.patch = patch_list\n",
    "        \n",
    "        \n",
    "\n",
    "\n",
    "    def __getitem__(self, index):\n",
    "        patch_id = self.patch[index]\n",
    "        patch_path = os.path.join(self.root, self.slide, 'patches', patch_id)\n",
    "        patch = Image.open(patch_path+'.png').convert('RGB')\n",
    "        data = transforms.Resize((20, 20))(patch)\n",
    "        if self.transform is not None:\n",
    "            data = self.transform(data)\n",
    "        label = self.label_df.loc[patch_id].values\n",
    "        label = torch.Tensor(label)\n",
    "\n",
    "        return patch_id, data, label\n",
    "\n",
    "    def __len__(self):\n",
    "        return len(self.patch)"
   ]
  },
  {
   "cell_type": "code",
   "execution_count": 14,
   "outputs": [],
   "source": [],
   "metadata": {
    "collapsed": false,
    "ExecuteTime": {
     "end_time": "2024-08-25T07:01:10.287484200Z",
     "start_time": "2024-08-25T07:01:10.281500Z"
    }
   }
  },
  {
   "cell_type": "code",
   "execution_count": 15,
   "metadata": {
    "ExecuteTime": {
     "end_time": "2024-08-25T07:01:11.063837800Z",
     "start_time": "2024-08-25T07:01:10.981675800Z"
    }
   },
   "outputs": [],
   "source": [
    "test_transform_pcam = transforms.Compose([\n",
    "        transforms.ToTensor(),\n",
    "        transforms.Normalize(mean=[0.75420076, 0.6217488,  0.6946153], std=[0.11452981, 0.15589917, 0.14246847])\n",
    "    ])\n",
    "\n",
    "test_data = STDataset(root=\"../patch\", slide=\"output\",transform=test_transform_pcam)\n",
    "test_loader = torch.utils.data.DataLoader(test_data, batch_size=512, shuffle=False, num_workers=0)"
   ]
  },
  {
   "cell_type": "markdown",
   "metadata": {},
   "source": [
    "We iterate this `STDataset`, save the spot image patch, the spot labels, and the spot id:"
   ]
  },
  {
   "cell_type": "code",
   "execution_count": 16,
   "metadata": {
    "ExecuteTime": {
     "end_time": "2024-08-25T07:01:15.196144600Z",
     "start_time": "2024-08-25T07:01:11.812000600Z"
    }
   },
   "outputs": [],
   "source": [
    "spot_data_array = []\n",
    "spot_label_array = []\n",
    "spot_id_array = []\n",
    "for name, data, label in test_loader:\n",
    "    spot_id_array.append(list(name))\n",
    "    label = label.float()\n",
    "    label = label.squeeze()\n",
    "    spot_label_array.append(label.detach().numpy())\n",
    "    spot_data_array.append(data.detach().numpy())\n",
    "for i in range(len(spot_data_array)):\n",
    "    if len(spot_data_array[i].shape) <= 1:\n",
    "        spot_data_array[i] = spot_data_array[i][np.newaxis, :]\n",
    "for i in range(len(spot_label_array)):\n",
    "    if len(spot_label_array[i].shape) <= 1:\n",
    "        spot_label_array[i] = spot_label_array[i][np.newaxis, :]\n",
    "        \n",
    "spot_data_array = np.concatenate(spot_data_array)\n",
    "spot_label_array = np.concatenate(spot_label_array)\n",
    "spot_ids = list()\n",
    "for ids in spot_id_array:\n",
    "    spot_ids=spot_ids+ids\n",
    "spot_id_array = spot_ids\n"
   ]
  },
  {
   "cell_type": "code",
   "execution_count": 17,
   "outputs": [
    {
     "data": {
      "text/plain": "['TCCACATCGTATATTG-1',\n 'TCAACAAAGATAATTC-1',\n 'GAGCGCAAATACTCCG-1',\n 'AGAGATCTCTAAAGCG-1',\n 'GAGCGCTGTTAGGTAA-1',\n 'CCATATGGAAACTATA-1',\n 'CCTAGTTAGTCGCATG-1',\n 'CCGTACCCAAGCGCCA-1',\n 'TTATCCGGGATCTATA-1',\n 'GGCTGAAATAGCAAAG-1',\n 'TCCTCGGGCTGGGCTT-1',\n 'ATTCAGTAGCAGGGTC-1',\n 'GTCTACTCAATTACAA-1',\n 'TTCGACGGGAAGGGCG-1',\n 'ATAGGGATATCCTTGA-1',\n 'CTTTACCGAATAGTAG-1',\n 'GACAAACATATGCAGG-1',\n 'TGGGCAATAGTTGGGT-1',\n 'CACCTTGCGAAACTCG-1',\n 'GTACACTTACCTGAAG-1',\n 'AACAGGAAATCGAATA-1',\n 'ATGTGGACATCTTGAT-1',\n 'CAGTAATCCCTCCCAG-1',\n 'AACGTGCGAAAGTCTC-1',\n 'TCGGCGTACTGCACAA-1',\n 'TCGGGAACGTGCCTAG-1',\n 'TACTGCAATCAATTAC-1',\n 'CTAGGCGCCCTATCAG-1',\n 'CCAGCCTGGACCAATA-1',\n 'ATATTCAGTTAAACCT-1',\n 'GCATGAGGGACGCGGC-1',\n 'GAGGCCCGACTCCGCA-1',\n 'TGTTTCGGTACTTCTC-1',\n 'ACCAATATGCAAGTTA-1',\n 'ACAGAACTGAGAACAA-1',\n 'TAGACGAAACGCCAAT-1',\n 'TAGCTAAGTCCGGGAG-1',\n 'TTAGACGAGTCACCTC-1',\n 'GGAGAAGTCATTGGCA-1',\n 'TGCCTTGGCCAGGCAA-1',\n 'TTGTAAGGCCAGTTGG-1',\n 'CATAGTACATTGAGAG-1',\n 'TTCGTTCAACGAAGTT-1',\n 'ATCTTGACTTGTCCAA-1',\n 'TCTTACCGGAACTCGT-1',\n 'CATTTGAGTGGTACGT-1',\n 'TCGGGTGAAACTGCTA-1',\n 'CGTTAATGTCCCGACG-1',\n 'GGCCTTTGCAACTGGC-1',\n 'CGATGGACCCTACGCC-1',\n 'ATAATTAGCTAAGTAG-1',\n 'CATGGTCTAGATACCG-1',\n 'GTGACCGCACACTACG-1',\n 'CGAGACCCTAGAGTGT-1',\n 'CGCAGGCGATCCAAAC-1',\n 'CAGAGTGATTTAACGT-1',\n 'TGGTTCGTAGCAAAGG-1',\n 'GGTGTAGGTAAGTAAA-1',\n 'TATTCGTGCCAGAATA-1',\n 'GAATATTCGGAGTCCC-1',\n 'ACCTAAGTACCTTTCA-1',\n 'GGGAACGGGAGGTTAG-1',\n 'CGAGGGACTGCGGTCG-1',\n 'GGCTCCTCCACCTGTT-1',\n 'AGTCGGTTGCGTGAGA-1',\n 'CAAACTCGCGACGCCG-1',\n 'AACGATAGAAGGGCCG-1',\n 'TTGCTCCCATACCGGA-1',\n 'AGTGAACAAACTTCTC-1',\n 'GGATTTCACTTCTATA-1',\n 'GAAGTGCTGGATAGCT-1',\n 'CCGAACCTTCCCGGCC-1',\n 'TAACAATATTTGTTGC-1',\n 'TAGCTGATGTGAAGCG-1',\n 'TTCATGGCGCAACAGG-1',\n 'TGGTAGAATATATGGG-1',\n 'TGTGTTCGTATCCAAG-1',\n 'GCACTGCCTACCTTTA-1',\n 'AGCTAGAAGCAGAAGT-1',\n 'ATAGAGTTATCAACTT-1',\n 'GCCATATTGCACACAG-1',\n 'TTCTTAGTGAACGGTG-1',\n 'TACCAGCTAGGTTTAA-1',\n 'ACATCCTGGTAACTGT-1',\n 'TGAGTGGTCCGTGACG-1',\n 'ACATCGGTCAGCCGCG-1',\n 'TATTATGTTTGCCTGC-1',\n 'CCTAACTAAGGCTCTA-1',\n 'GTCAAGCGGACTCGGG-1',\n 'GGCGTAGGGAAAGCTG-1',\n 'AGTGGTTGCGTATAGG-1',\n 'CCGTGTTAAATTCCAT-1',\n 'CGATACCTCGCGGACA-1',\n 'TATCCTATCAACTGGT-1',\n 'GCCATTAGCCTCAAAC-1',\n 'AGTCGGCCCAAACGAC-1',\n 'ATGTAAGGCTGCTCTT-1',\n 'ATTCACTGATGTTGGA-1',\n 'ACCACCAATGTAACAA-1',\n 'TGATAGCGGGATTCTA-1',\n 'GACCGACGTGAAAGCA-1',\n 'AGGAGGCCTTCGCGCG-1',\n 'GTGGACCAACCCGATT-1',\n 'TCACGATGTCCGTGGA-1',\n 'ATTCATCGTTGAGGCA-1',\n 'CATAAGCTCTCCGTCT-1',\n 'TCGCGTCCAGAAGGTC-1',\n 'AACACGAGACGCGGCC-1',\n 'TTCCAGACGAGATTTA-1',\n 'GCTACAGTACGGACCG-1',\n 'CACCTTGGCGCCTTTG-1',\n 'TTGCGTGAACGCTTAG-1',\n 'TTCTGCTAGACTCCAA-1',\n 'CACAATGAGCTGCTAT-1',\n 'ATAATCTTGGAGAACC-1',\n 'CGTCACGTCCATTGGT-1',\n 'TTCCTCGGACTAACCA-1',\n 'ACGGACTCTCAAAGCG-1',\n 'ATTCCTCCGCCAGTGC-1',\n 'GAGGATAAACAGTGCT-1',\n 'ACTTTGACTGCATCCT-1',\n 'GCGCCGTTCCACGATA-1',\n 'GCTGGCGGCGCATGCT-1',\n 'CGCTTTCATACCGGTG-1',\n 'CGTCGGGTCTAAGCGC-1',\n 'TTGATGTGTAGTCCCG-1',\n 'CCAAGACTTCTGCGAA-1',\n 'ATCCAATGGTACCGAA-1',\n 'GGATCTTGACTCAACC-1',\n 'TGGGCACAAACAGAAC-1',\n 'AGTCGTATAAAGCAGA-1',\n 'CGCATTAGCTAATAGG-1',\n 'CTAGATGTGAGTGTAA-1',\n 'GCGCTTAAATAATTGG-1',\n 'TAGGTCCAAGTAAGGA-1',\n 'TGACCAAATCTTAAAC-1',\n 'TGCGCGATTAACGGAG-1',\n 'ATGTAGCGCGCGTAGG-1',\n 'CTCTTGTCCCGCTTGG-1',\n 'GGTGGACTGCTCTGGC-1',\n 'CCAATCGGTAGATCGA-1',\n 'GTGAACTCCCATTCGA-1',\n 'GAACAGATTACTAAAT-1',\n 'TACATCCCTATCCCTG-1',\n 'CAGATACTAACATAGT-1',\n 'GAAACTCTAATGAAGG-1',\n 'GTGACGAGGGTGACCC-1',\n 'TTACTGGGATATTTCA-1',\n 'GACTCACCCACGTGAG-1',\n 'ACTGTAGCACTTTGGA-1',\n 'AAATTACACGACTCTG-1',\n 'GTTTGACCAAATCCTA-1',\n 'ATTACTAGCCTCTTGC-1',\n 'GCGATTGTTAACGTTA-1',\n 'CCATCCATACCAAGTC-1',\n 'GGCAAGCCCATAGTGG-1',\n 'TTCAATACTCTGAATC-1',\n 'AAACTGCTGGCTCCAA-1',\n 'AAATGCTCGTTACGTT-1',\n 'CACCACGCCACACAGA-1',\n 'CTGCCAAGGTTGGAAG-1',\n 'CCATAAACAACCCGAC-1',\n 'AAAGTTGACTCCCGTA-1',\n 'CGTGGTACCCAAAGGC-1',\n 'GGCAAAGGCGCCAATA-1',\n 'TATCACTTCGAGTAAC-1',\n 'CGTGTCCCATTCGCGA-1',\n 'TTGTGTTTCCCGAAAG-1',\n 'TTAGTAGGGCGGCGGG-1',\n 'GACTGCTGGTGAGAAA-1',\n 'GTAAGCGGGCAGTCAG-1',\n 'CCTAGGCGTAGCGATC-1',\n 'ACCCACCTACATGCTC-1',\n 'TAGGGTGTTTCAAGAG-1',\n 'GCGTTATATTTGGAAC-1',\n 'CGACTTTGTATAGCCT-1',\n 'GGTTCTACTCGTCTGA-1',\n 'ATTAGATTCCTCAGCA-1',\n 'CAAATCTCTCACAAGG-1',\n 'CCTACGGCTCAGTCGA-1',\n 'CCTGCCCGTTGTCTAG-1',\n 'GAGAGGTGCATTCTGG-1',\n 'TTGGGAAGACGAGCCG-1',\n 'GTTCGGATCGGGAACA-1',\n 'ACGTTCGCAATCAATT-1',\n 'GCGGAGAAACTTCGCA-1',\n 'GGGAGGATGCCCGAAA-1',\n 'TTGCTGATCATGTTCG-1',\n 'CCACCCAAGGAAAGTG-1',\n 'CATCATTACCCTGAGG-1',\n 'TGGTATCGGTCTGTAT-1',\n 'ATACGCCGGCGAAACC-1',\n 'CTTTAACTTTCAAAGG-1',\n 'AAACCGGGTAGGTACC-1',\n 'TGAATACCGACGCGTA-1',\n 'CTCTTCTGGAAGTTAG-1',\n 'CCGGTAATGGCTAGTC-1',\n 'TGGCTATGTGACATAC-1',\n 'GGCCGAGACTCTGGTG-1',\n 'ATGCATGATCCAGGAT-1',\n 'ATTACATGTCAGTCTT-1',\n 'CACCGATACACCGAGC-1',\n 'CGTAACTTCGACACTT-1',\n 'AGGGTCAGAGCACTCG-1',\n 'AATATCGAATCAATGC-1',\n 'TGGCCGTATATTGACC-1',\n 'CTCGGTACCACTGCTC-1',\n 'ATACGGTGAAGATGCA-1',\n 'TCCTGCCAACTGGAGA-1',\n 'TGCATATGTCTGTCAC-1',\n 'CACCGTTAGGGATCAC-1',\n 'GGGCTGCCTAGGGCGA-1',\n 'GGTAAATGTGCGTTAC-1',\n 'GGTGATAAGGAGCAGT-1',\n 'TGATCAGGGAACTGCT-1',\n 'ACTCAAGTGCAAGGCT-1',\n 'CAGTTCCGCGGGTCGA-1',\n 'AGATATAATACGACTA-1',\n 'CTAAGGGAATGATTGG-1',\n 'TCTCGACGTATCGCCG-1',\n 'CTGCGTTACGATATAA-1',\n 'CCGCTATCAGCACCAG-1',\n 'GGCGCATGAATTGATG-1',\n 'GTTTGGGTTTCGCCCG-1',\n 'CGAGAGCTTTCACTAC-1',\n 'GTTAATGTCTATCTTA-1',\n 'CCTCCTGAGCCCACAT-1',\n 'GGGCCCTACGAAAGGG-1',\n 'CCATTCCCTGCCCACA-1',\n 'GGCGTCCTATCCGCTG-1',\n 'TAGAATTAAGGGCAAC-1',\n 'TCTACCGTCCACAAGC-1',\n 'CATGGCAGGAAGATCG-1',\n 'TCATACTTACAGATCC-1',\n 'GTCCGGCTGAATTGCG-1',\n 'GGCAGCAAACCTATGC-1',\n 'TACGTACTAGTGCTGA-1',\n 'GTGGACGCATTTGTCC-1',\n 'CCGTAAGTTGGTCCCA-1',\n 'CTTAGTGTAGTAGCAT-1',\n 'TAGGTCGCCGGAACTG-1',\n 'CAAGATATTATAACGT-1',\n 'GCGCAAATATATTCAA-1',\n 'ACCTAATCGACTTCCT-1',\n 'TCCGTTTAGCCTTGAA-1',\n 'CCGAGAAGTCGCATAA-1',\n 'TTACCATTGATTACCC-1',\n 'CAGGCCGTTTGGGTGT-1',\n 'TACGCCTCCATTCCGA-1',\n 'ATTCATATACTGTCCA-1',\n 'AACGATATGTCAACTG-1',\n 'GCTCTCGGGTACCGAA-1',\n 'GAAACAGCCATGCAGT-1',\n 'AAGGTGATAAACCAGC-1',\n 'GGATGACGCGAGTTTA-1',\n 'CAGACCTGTAAGTGTT-1',\n 'TTAAGATAGGATTGAC-1',\n 'GTATCTCAGTCTTGAC-1',\n 'ATATTTAACCCTCAAG-1',\n 'CTACCCTAAGGTCATA-1',\n 'GCCAATAGGGCATCTC-1',\n 'AAGGATCGATCGCTTG-1',\n 'TGCAATCTAACACGGT-1',\n 'CACAGGGCCGTTGTCA-1',\n 'GAGCGGAATGCGGTGT-1',\n 'CAATCCCTATACCAGC-1',\n 'CACTTAATCAGACGGA-1',\n 'GCGGACCGCGTTGTGG-1',\n 'GGTTAGGCTTGGAGAA-1',\n 'ACTTGTGGATGGAACG-1',\n 'CTTGTTTATGTAGCCA-1',\n 'TTCTTGGAGTAATGAG-1',\n 'GTCCTACGAATAGTCT-1',\n 'GACTCGCGGGAATGAC-1',\n 'TGACGAATATTTCCCT-1',\n 'CCAATGTCACAGCAAG-1',\n 'AATCTATGCCGGAGCC-1',\n 'ACTGCCGTCGTAACTC-1',\n 'CAGGCAGTCTTACCAG-1',\n 'TTCTTGGACGATCTGC-1',\n 'CTTCGTAGATAGGTGA-1',\n 'ATATTGCTGTCAAAGT-1',\n 'TCTTGGTAACACCAAA-1',\n 'GACTACAAAGCGGTGG-1',\n 'CGCAATTACTTTCGGT-1',\n 'CCTAAAGGCTGACGCT-1',\n 'CACTAAAGTTGCCTAT-1',\n 'TTATCCTCAAGGAATA-1',\n 'CGGCAAACATCGTGCG-1',\n 'CGGGCGATGGATCACG-1',\n 'GGGATGGTCGTAACCG-1',\n 'CTAGCATAGTATAATG-1',\n 'GTCCAATATTTAGCCT-1',\n 'CCGGCGTGAGACTCTG-1',\n 'AGCACTTAAGGACGCC-1',\n 'GTTTCTGCAGTCTCCC-1',\n 'CTAAAGAATGCCTACT-1',\n 'TGAGATCAAATACTCA-1',\n 'AAGTTCAGTCTGCGTA-1',\n 'TAAAGCGTTAGGAGAA-1',\n 'TCTAGGTGGCGACGCT-1',\n 'TTCTTGTAACCTAATG-1',\n 'ATGCTCTGGCGCGGTA-1',\n 'GATCCTCGACACTGGC-1',\n 'GGTCTTGAGCGCTCTT-1',\n 'TCCGTTAAGCTAATAT-1',\n 'TAACTATCGAAGGTCC-1',\n 'GAGCATCATCCCTGGG-1',\n 'ACTCAGACCTGCTTCT-1',\n 'CTCTAATGCATTGATC-1',\n 'GCCTAGCGATCTGACC-1',\n 'GTGCGGGTCTCCAAAT-1',\n 'CTGGTAACGAGCTCTT-1',\n 'ACATCAGCTGGGACGC-1',\n 'TATTTGTTACCCTTTA-1',\n 'AATTAAAGGTCGGCGT-1',\n 'ATAAACGGACCCGTAA-1',\n 'ATAGACAACGGGACCT-1',\n 'ATATCTCCCTCGTTAA-1',\n 'CATGATGCACAATTCT-1',\n 'AGCTTGATCTTAACTT-1',\n 'TCGGACGCCCAGCCCA-1',\n 'CCGTTCCGAATCTCGG-1',\n 'CGAGGCTAAATATGGC-1',\n 'CTCGATATTTGCGAGC-1',\n 'GCTTACGTAGTTAGTA-1',\n 'ACAGCATAGAGCCAGT-1',\n 'TCCTAGCAAAGAAGCT-1',\n 'TGCTGGTTGGACAATT-1',\n 'AACAACTGGTAGTTGC-1',\n 'TGCGACGGCCGAACGT-1',\n 'AGTTACTCTATCGTGG-1',\n 'TCATCGATGGTCCCAA-1',\n 'TGACCCACGTTAGACA-1',\n 'ACATCGTATGCAATGG-1',\n 'ACACTGATCAAGGTGT-1',\n 'TGCAAGAATGACGTAA-1',\n 'ACGTGCGCCTCGTGCA-1',\n 'CGGTAGAGGTGCAGGT-1',\n 'TAGTCTGTGACGTTGC-1',\n 'TCCCGGGTGTGCTGCT-1',\n 'CCGCCTGCGAATTGGT-1',\n 'TCCCAGCTTTAGTCTG-1',\n 'GATGTAACGAACCACC-1',\n 'TCCGCGGCAGCATCTG-1',\n 'CGCTGTGTGGATGTTG-1',\n 'AGCAGAAGGAGAAAGA-1',\n 'ACGCGCTACACAGGGT-1',\n 'GTTCGCCATAAGTGCC-1',\n 'TTATATTTGGCAATCC-1',\n 'ACCCGGAAACTCCCAG-1',\n 'GGCTAAAGGGCGGGTC-1',\n 'TTGAATATGGACTTTC-1',\n 'CGTTAAACTAGTTAGG-1',\n 'AGTATAATACTAGGCA-1',\n 'ATTCGTGCTATCTCTT-1',\n 'CTTCTGGGCGTACCTA-1',\n 'GAAGTCAGTTGCACTA-1',\n 'CGAGTACTAAAGAGGA-1',\n 'TACTCTCCGAACAAAT-1',\n 'CGCATGGTGCGATGCT-1',\n 'GCGATTCTGGAAGCAG-1',\n 'GAGACTTCGCGACCGA-1',\n 'CACGCACAGCGCAGCT-1',\n 'CCTAGGTAAAGGTAGC-1',\n 'CCATGGCCCTTGTACC-1',\n 'ACGAGTACGGATGCCC-1',\n 'GCCGAAATTCCTACGT-1',\n 'GGGAGAACTCACAGTA-1',\n 'CCTGTCCCTCACGTTA-1',\n 'TTGACCGTGTTAATGA-1',\n 'GGCGGTAGGATCATTG-1',\n 'GTTAGGCTACCCGTTT-1',\n 'ATTAAACATGCGGACC-1',\n 'GACACTGAGTTCAGTG-1',\n 'AAGAGGCATGGATCGC-1',\n 'CCTCACCTTAGCATCG-1',\n 'CGGTACTAGAATCAAA-1',\n 'ACGTACAGATTTCTCT-1',\n 'GCGTCGCCAGGGTGAT-1',\n 'AGGTTGAGGCACGCTT-1',\n 'GCCGACCCACGACTGC-1',\n 'GTGGGCTTAGACACAC-1',\n 'GGACCTCTAGGCCGCC-1',\n 'ACACGAGACTCCTTCT-1',\n 'GGGCGTACATTTATAT-1',\n 'ACATAATAAGGCGGTG-1',\n 'CAATTTCGTATAAGGG-1',\n 'CTGGAAATGGATGCTT-1',\n 'AATCGGGACACTACGA-1',\n 'GAACCTTTAACGATCC-1',\n 'TGTTTAATACTTCATC-1',\n 'CCACACTGAGATATTA-1',\n 'CATTTCTAGCAGACTA-1',\n 'GAACGTTAGGAAGACG-1',\n 'AGAGCAGTTATGAGAC-1',\n 'ACCTGCGTGTCATGTT-1',\n 'AGGCCCATTGTACAGG-1',\n 'GCGAAGCCATACCCGT-1',\n 'TTAATGTAGACCAGGT-1',\n 'AGGATCACGCGATCTG-1',\n 'TCGCTAAACCGCTATC-1',\n 'AGTCAAGATGACACTT-1',\n 'AGCACTACCTCACCAG-1',\n 'CTCGGTCCGTAGCCTG-1',\n 'GTACTCCTGGGTATGC-1',\n 'ACTATTTCCGGGCCCA-1',\n 'GCCTCCGACAATTCAC-1',\n 'CTTTAATATTGGTCGA-1',\n 'GCTGGCATATTCACCT-1',\n 'CTCGCACCTATATAGT-1',\n 'TGAGTTAAAGACATTC-1',\n 'AGTCACTAGCTCTCGA-1',\n 'CATATTATTTGCCCTA-1',\n 'AAGTGTTTGGAGACGG-1',\n 'GGGATTTACCGCACCT-1',\n 'TATTCCACTCAGCTCG-1',\n 'GCAACCACCAGACCGG-1',\n 'GCCCAGTTGGTATGCC-1',\n 'GGATGCTGGCGTTCCT-1',\n 'GTTGGTCATGCTATCC-1',\n 'GTACGTTTGCCCGTCA-1',\n 'ATCAGCCTCATGCTGC-1',\n 'TGGCAGCAGTAATAGT-1',\n 'TCGTATTACCCATTGC-1',\n 'CCGCGGGTACGAAGAA-1',\n 'CCCAACATACGTCGCG-1',\n 'CTTTGGCGCTTTATAC-1',\n 'GAGATGGGAGTCGACA-1',\n 'AGTATTTGGCACGACC-1',\n 'AGTCTAAAGTATACTC-1',\n 'TCGGCTTGTATCGACG-1',\n 'AACGCATGATCTGGGT-1',\n 'CCAGTCAAATCTCTTA-1',\n 'ACCGAAAGGGCCCTGC-1',\n 'GTCTTGTAGCTATTCA-1',\n 'AACGGCCATCTCCGGT-1',\n 'GGGAGTTAATGAGGCG-1',\n 'CATGAGATGCACTCTC-1',\n 'GGCCGGCGTCTGCTAT-1',\n 'AAGGCGCGTAAAGCTT-1',\n 'ACTACGCGTTAGAATT-1',\n 'CACAGGGCCATATAGT-1',\n 'GGCTCTGCTCCAACGC-1',\n 'CGACGCATCCGTACCT-1',\n 'GAATTATAGTGAAAGG-1',\n 'GCACAAGTGTCGGAAG-1',\n 'CGCTCGACATAATGAT-1',\n 'AAATCTAGCCCTGCTA-1',\n 'GAAATATCACCATCAG-1',\n 'AGTGCACGCTTAAGAA-1',\n 'ACAAGGACAAGAGGTT-1',\n 'GCGAAACTTAACTGGA-1',\n 'CCTCCGACAATTCAAG-1',\n 'GCGAGTTCTGCAAAGA-1',\n 'CCACGGAGCCATAAGA-1',\n 'CATCTATCCCGTGTCT-1',\n 'TCCTCTCCAGTTGTCC-1',\n 'CATACTTAGGCAATAC-1',\n 'ATGACGCCGGCTCTAA-1',\n 'GCAAACCTTGGCCATA-1',\n 'ATTGATGAGTCCTAAC-1',\n 'AATGACAGCAATGTCT-1',\n 'ATACGTACTTAGCCAC-1',\n 'ACGGATGGTGCGGATA-1',\n 'CCGTGCCCATGACGGC-1',\n 'TGGGCGATACAATAAG-1',\n 'GACTGCAAATCGAGCT-1',\n 'TGGACCAATCTAAGAT-1',\n 'GTCCCAACGTAAAGTA-1',\n 'CCACGGTGCCCGGTAG-1',\n 'GCGTGGTACTGGGTTA-1',\n 'AGTCGACGGTCTCAAG-1',\n 'ACTTCGCCATACGCAC-1',\n 'CTCACATTTACTAAAT-1',\n 'TATAAATCCACAAGCT-1',\n 'TCATCCCAGAGGGTGG-1',\n 'CGAACGGCCGGACAAC-1',\n 'ACTCGTAACCCGTCCT-1',\n 'TCAACACATTGGGTAA-1',\n 'TTCCAATCAGAGCTAG-1',\n 'ACGTTTAGTTGTGATC-1',\n 'GAGGGTAGTAACAAAG-1',\n 'AGCTAAGTACGCAGGC-1',\n 'CATAGTAGCATAGTAG-1',\n 'CAGATCCTGGTTTGAA-1',\n 'GACGCCGTAAAGGCTA-1',\n 'GTTCGTCTAAAGAACT-1',\n 'CGTTTGTGTAGAGGGT-1',\n 'ATCGACTCTTTCCGTT-1',\n 'GTTTGGTAGGGTCAAC-1',\n 'GTACAGAGGCAAGGGT-1',\n 'GAAACCATGGTGCGCT-1',\n 'ACTTCCATGCGGGACA-1',\n 'TACCGTAGGTTAACTA-1',\n 'TTAAGCCGACAACTTC-1',\n 'ATCCTGAATCGCTGCG-1',\n 'GAACGACCGAATGATA-1',\n 'ACGGGAGTGTCGGCCC-1',\n 'AATTGAACGCTCTGGT-1',\n 'GGGCGTCCACTGGCTC-1',\n 'AATGACTGTCAGCCGG-1',\n 'GCTACTATAGTAGAGT-1',\n 'GATTCGACGGTTCACG-1',\n 'CCTCTCTCCCATCTAG-1',\n 'TCGCTGCCAATGCTGT-1',\n 'CCAACGATGCACTGAT-1',\n 'GGAAACCTTGTTGAAT-1',\n 'TTAACCAACCCTCCCT-1',\n 'GTATGAAATTTCACTC-1',\n 'GTAGAGGGAGACAAGT-1',\n 'CTGGACGCAGTCCGGC-1',\n 'AAGTCAATTGTCGTCA-1',\n 'TGTCCCGACATAGCAC-1',\n 'TGTGGCAAAGCGTATG-1',\n 'AGAATAAATCTTCAGG-1',\n 'GAATAGTGCTCGATTA-1',\n 'ATACAGGCCCTCCAAT-1',\n 'GTTACAATTGGTGACG-1',\n 'AGTTCCTATTTATGTT-1',\n 'TGCAGATCGTCCTAGG-1',\n 'GACCGACTGAAGCGTC-1',\n 'GGGCTCATCGAACCCA-1',\n 'GACGTGTAGGGATTAT-1',\n 'TTGGAAGAATACAGTC-1',\n 'CTGGAAGACACGGTGG-1',\n 'CGGCCACGCACAAAGT-1',\n 'ATAAATATTAGCAGCT-1',\n 'AGGCTATGGTTAGCTT-1',\n 'TTGGGCGGCGGTTGCC-1',\n 'GTCGTACCATCTCGGG-1',\n 'ACTTGTAGTCCCTTCA-1',\n 'GTGAGTGGTACAACGC-1',\n 'TCAGACGCTATAGAAG-1',\n 'ACTCAATAAAGGCACG-1',\n 'GCTCAATGTAATACCG-1',\n 'GGCATACAGGTAGCGG-1',\n 'TCAAGAAATACTAGCT-1',\n 'CTACTATCTTTCAGAG-1',\n 'GCGCGGTCTAGTAACT-1',\n 'AATCTCTACTGTGGTT-1',\n 'TAAAGCTGCAATAGGG-1',\n 'TCACAGCAAACTCGAA-1',\n 'GCGGTGAACTGCGCTC-1',\n 'CAGCAGTCCAGACTAT-1',\n 'AGGGTGCTCTCGAGGG-1',\n 'ATCTCCCTGCAATCTA-1',\n 'GTAGTTCGAAGGCGAA-1',\n 'CACCTCGATGGTGGAC-1',\n 'TGTGTCGCGAGTTGCA-1',\n 'CATGGTAAGTAGCGTT-1',\n 'GTGATCACTAACGCCT-1',\n 'GGTAGACCGTTGGGCG-1',\n 'TACCGGTCGTTTCCAT-1',\n 'CTCTCTAACTGCCTAG-1',\n 'CGTGCTTCTACCTAAA-1',\n 'ATAGAGTACTGGGACA-1',\n 'GCGCTGCTTTGCATTT-1',\n 'TCTTGATGCGTAGCGA-1',\n 'GTGAGCGTGCTGCACT-1',\n 'GGTATTGCCGAGTTTA-1',\n 'ACAGTAATACAACTTG-1',\n 'AGGATAAAGTCGGGAT-1',\n 'TACGAACACGACTTCA-1',\n 'TTGGACCTATAACAGT-1',\n 'CTCTTCTATTGACTGG-1',\n 'AAGTTCACTCCAAGCT-1',\n 'AGAATTGTTTGACATA-1',\n 'GTTTGGCCGCTCAGCG-1',\n 'GTCAGTTTGGTAGTCG-1',\n 'TGTGGTTGCTAAAGCT-1',\n 'CCCTCATTCTGGAATT-1',\n 'ATAAGTAGGATTCAGA-1',\n 'CAGCAGTCTGTGCTGC-1',\n 'GGTCGTAAGCTCGCAC-1',\n 'CGGTTATCCAACAGTG-1',\n 'AACTCCAGAGCGTGTT-1',\n 'GTGGCAAACAGCGGCA-1',\n 'GCATCGGCCGTGTAGG-1',\n 'CTCTGGACGCCTGGTG-1',\n 'ACCCGTGTCATCAGTA-1',\n 'TTAATTTCAGACGCGG-1',\n 'CTCAGTCACGACAAAT-1',\n 'CGGGATCAATGTAAGA-1',\n 'CAAACGGTCGCACTTT-1',\n 'ATGGCAGCCGAGAAAC-1',\n 'CTTTCTGTGCGGGCTT-1',\n 'TGCCACCTGGCGAAAC-1',\n 'AGGAAGCTGTCCGCCG-1',\n 'CAGCAGCCCGTTCCTT-1',\n 'CGGGCAGCTAAACCGC-1',\n 'CTAGATTTACGACGGC-1',\n 'GATTAACCGAAAGCCC-1',\n 'GCGCTATGCCGAGGCA-1',\n 'TCATGCAGGTTCTCAT-1',\n 'AACCGCTAAGGGATGC-1',\n 'CCAATTGAATGTTAAT-1',\n 'CGTGACCAGTCCTCTG-1',\n 'TCGTATAGTGCAATTA-1',\n 'CGCCTCCCTCCTCTAT-1',\n 'CGTTGTAAGATTGATT-1',\n 'TATACACGCAAAGTAT-1',\n 'GTTTGGTGATCGGTGC-1',\n 'TCGCTGGGCGGATTGT-1',\n 'GACAGGCACACACTAT-1',\n 'GAGACTGATGGGTAGA-1',\n 'GTCGTACCTACGATTG-1',\n 'TACCGTGCCTCGGACC-1',\n 'GATCGACACTATCTGA-1',\n 'CTCTATTTGGCTGCAG-1',\n 'AGTCAACACCACCATC-1',\n 'ATGTTCGTCGACCCAC-1',\n 'TATAGATGGTCGCAGT-1',\n 'ACAAATCGCACCGAAT-1',\n 'GATATGCGGTAGCCAA-1',\n 'AGATAACTTCAGGGCC-1',\n 'AACCCTGGTGGAACCA-1',\n 'TGTTATTGTATGTGGC-1',\n 'TTACTATCGGCTTCTC-1',\n 'ACACAAAGACGGGTGG-1',\n 'CACCATCGGAGGAGAC-1',\n 'AGGTATAATTGATAGT-1',\n 'GTTAGCCCATGACATC-1',\n 'TTACATCGTGGCCTGG-1',\n 'ATCCTGCGTGGAATGG-1',\n 'CGTCGCATGTGAGCCA-1',\n 'TGACGATGCACTAGAA-1',\n 'TATGCTCCCTACTTAC-1',\n 'AACAGGTAGTATGGAT-1',\n 'TGGTCTGTTGGGCGTA-1',\n 'GCATTGTAATTCATAT-1',\n 'AAATAACCATACGGGA-1',\n 'TTGCCATAGCCCGCTC-1',\n 'GGCGCGGAGATCTTTC-1',\n 'GCACACACTGGTAGCC-1',\n 'TCGGGCCGTCGTGGTA-1',\n 'ACATGGCGCCAAAGTA-1',\n 'GCCAGGAGTAACCGAT-1',\n 'TACGCTATAGAAACCT-1',\n 'CCTGAACGATATATTC-1',\n 'AATCTGCGTTGGGACG-1',\n 'CCCAAACATGCTGCTC-1',\n 'GAAAGCCCTTTGGACC-1',\n 'GCGAAGAATCTGACGG-1',\n 'GAGCTAAGGGCATATC-1',\n 'TCACAAACCGAGGTAC-1',\n 'AACGCGACCTTGGGCG-1',\n 'CCGTTACGTTAGAACA-1',\n 'CGCTCTCCGTAGATTA-1',\n 'CCCGTTTCGCAGATGT-1',\n 'ATAACGGAGTCCAACG-1',\n 'CTCTGTTTGAGGATTC-1',\n 'CCTCGCCAGCAAATTA-1',\n 'TAATACACAGTAGTAT-1',\n 'ACGCGAAGTCAGACGA-1',\n 'TTCGTAATCCCAGCGG-1',\n 'AACCATGGGATCGCTA-1',\n 'GATCATTCCAAACATT-1',\n 'ATCCAGGATTCGTGAA-1',\n 'TACGACGCTTGCTGCG-1',\n 'GTATCAGCTTGGGTTC-1',\n 'GACAGCCAGACCTGAC-1',\n 'CAGCTCGACAAGTTAA-1',\n 'CTTGCAACCGCCTCCT-1',\n 'CTCCCTCCTTTCGATC-1',\n 'AAACCTAAGCAGCCGG-1',\n 'AGGTGGTGACCTTCGC-1',\n 'AGTGCTTGCACGAATA-1',\n 'TTGGTTGCGGTGCGCG-1',\n 'TAGATTCCTGGTTATT-1',\n 'GGTTACCACCCTCGGG-1',\n 'TCACAGGGAATCGCAA-1',\n 'CTAGTTGGGCCCGGTA-1',\n 'GCCCTAGCCGTCGCGA-1',\n 'AGCATCATTTCGAAAG-1',\n 'ATGAGGAGTGTTAATC-1',\n 'ATATAAAGCGCTCGTG-1',\n 'GCTGCACGGTTTCTTA-1',\n 'AGTGGCTCCGTCGGCC-1',\n 'AGAGCGTACAAGCTCG-1',\n 'CCGATCTCAACCTTAT-1',\n 'TAGCGTCCCTCGATTG-1',\n 'CTGAATCCGAGACCTC-1',\n 'AGCATATCAATATGCT-1',\n 'TAGAGTCTAAGCGAAC-1',\n 'CACTCGGTTAGGAGGA-1',\n 'GGGTTTAGGATAGGAT-1',\n 'AAATGGTCAATGTGCC-1',\n 'TTAAGCGCCTGACCCA-1',\n 'ACTTATTTATGTGCCA-1',\n 'GACGACGATCCGCGTT-1',\n 'GTAAGTAGGGTATACC-1',\n 'GACATCCGTCGAACTG-1',\n 'GTAGCTCCGGGAGGCT-1',\n 'TACGGGATGCTAGCAG-1',\n 'AAGTTCGGCCAACAGG-1',\n 'CCCAACCACACTAACA-1',\n 'CGTCAAGGCTATAAAT-1',\n 'ACACACCAGGACCAGT-1',\n 'AAAGTGTGATTTATCT-1',\n 'CCTGGCTAGACCCGCC-1',\n 'TGACATGTAACGTGAC-1',\n 'GTAGCGGCTATACACT-1',\n 'TTACCCTAGGGATTGG-1',\n 'TAATATTGAAATTCGC-1',\n 'TTGGACCATCTGGCAA-1',\n 'GTTATATTATCTCCCT-1',\n 'CGTCTGGAAGGGCCCG-1',\n 'GCTTGGATCGATTAGG-1',\n 'CAATGCGAGAAGTATC-1',\n 'TGCCGGATGTACGAGC-1',\n 'TTGTTTCATTAGTCTA-1',\n 'CGCCATCCGATTATGA-1',\n 'GATGCGTCCTGCATTC-1',\n 'GGTACCATTAAGACGG-1',\n 'CTTCAGTGGTCGCCTA-1',\n 'TCCTTTAAATCCGCTT-1',\n 'GAAATACTAAACGTTT-1',\n 'CATAGTCCACAAGAAC-1',\n 'TAAGCAGGCGACACGC-1',\n 'TACAGAAACGGTGGGC-1',\n 'GCTAGGCACCACGGAG-1',\n 'ACGTTCGTTCAGGAAA-1',\n 'AGCTCTTCCCAGTGCA-1',\n 'TACTCCTCTAGTTGAC-1',\n 'CCGGGCTGCTCCATAC-1',\n 'TCAGCAGTAGGCCCTG-1',\n 'AGGACAGTCGAATCCC-1',\n 'TAAGGCTGAATCCCTC-1',\n 'GAAACATAGGAAACAG-1',\n 'TCAGGTTCTTTGAGAA-1',\n 'GGAAAGTGCCCATGCC-1',\n 'CAACGACCCGTTTACA-1',\n 'GCCCACCAAGGCTGTC-1',\n 'CCAATAGTGCCGTCGA-1',\n 'CTTGTTGCTGAGTCAA-1',\n 'GTCTTAGTACAGCCGG-1',\n 'ACTCCAATATCATCAT-1',\n 'TCTCCACAAGTTGAAT-1',\n 'TCTGTCATACAAGAGC-1',\n 'GACAACGCAGCTTACG-1',\n 'TGAATGTCAGCCGGCC-1',\n 'GCGGGAACCAGGCCCT-1',\n 'GCAGCCTATATCACAT-1',\n 'AAGAGCTCTTTATCGG-1',\n 'TCGCTCGGCACCAGCG-1',\n 'AAGTAGAAGACCGGGT-1',\n 'GGTGAGATGCAGATAA-1',\n 'CGGGCCTTCTTTGTAA-1',\n 'TGCAGGATCGGCAAAG-1',\n 'CCAGCTCGAACGCATT-1',\n 'CTTGGCCAAGCTGGGA-1',\n 'TCACCCTCTTAAGATT-1',\n 'ATTGACGTAACTCGGT-1',\n 'CGCAGAAACATTTGCG-1',\n 'AAATCGTGTACCACAA-1',\n 'TTGTGGCCCTGACAGT-1',\n 'ACTTGGGACCCGGTGG-1',\n 'TACGATGTTGATCATC-1',\n 'TGCGAGAATATTACCC-1',\n 'CACATATTAGCAGGAT-1',\n 'CTAGGTCTGAAGGAAT-1',\n 'TCCACCTCTAGCCTTT-1',\n 'AATGATGATACGCTAT-1',\n 'GGAACCTTGACTCTGC-1',\n 'AGACGAAGTGCCGGTC-1',\n 'GGTGCTGGTACACATT-1',\n 'CGCTATTCAATGTATG-1',\n 'AACGATAATGCCGTAG-1',\n 'TGGCAACTCGCGCGCC-1',\n 'ACTTGACTCCCTCTTT-1',\n 'CAGGATATATCGTTGT-1',\n 'AGATACTCAAGATCGA-1',\n 'GCGAGAGTTGCGTCCA-1',\n 'CAATTAAGGGTGATGA-1',\n 'TTCACTCGAGCACCTA-1',\n 'GGTCGGCCAGGAGCTT-1',\n 'AAGCTCTTTCATGGTG-1',\n 'TCAGTGTATACGTCAT-1',\n 'AGCCAAGCTTTGTGTC-1',\n 'GTACTCCCTTATCGCT-1',\n 'ACTCGTCAGTAATCCC-1',\n 'ACTAGTTGCGATCGTC-1',\n 'GAATGTATGGCAGGTC-1',\n 'TATGATCTTCTCTTTA-1',\n 'TCCTGCGTTGATACTC-1',\n 'GGTCTCTGAATGGACT-1',\n 'GCGGCAAAGTATTGCC-1',\n 'AATCATGTAAAGACTC-1',\n 'CAAGTGTGGTTGCAAA-1',\n 'TGAGTGCCTCTTAAAT-1',\n 'CACCGCCGACCAGCGA-1',\n 'CAGGAAGACTTTATAT-1',\n 'CATGCGTTAGACAGAA-1',\n 'AATGCACCAAGCAATG-1',\n 'AGTAATGTCTTGCCGC-1',\n 'CGCGACCGCGACAGAT-1',\n 'ACGATACATAGAACTA-1',\n 'CACCCGGTTTGTGACT-1',\n 'CTATTTGGTTACGGAT-1',\n 'CTTCTATTAATGCTAG-1',\n 'CCACAGTACCCATCCT-1',\n 'CGTTTCACTTCGGGCG-1',\n 'ACAACAGCATGAGCTA-1',\n 'GTCGGATGTAGCGCGC-1',\n 'TCACGCATTGTAGATC-1',\n 'TGGACGCAATCCAGCC-1',\n 'ATACCAGGCTAATAGA-1',\n 'TATAAGTGAGGATAGC-1',\n 'CAATGGATCTCTACCA-1',\n 'CACATTTCTTGTCAGA-1',\n 'CTCCGGCCTAATATGC-1',\n 'GACAACGACCATTGAA-1',\n 'GCAGACCCAGCACGTA-1',\n 'TAAGGGCCTGTCCGAT-1',\n 'AGTGATAACCTGCGCG-1',\n 'AGTGCGTAGCTCGTAA-1',\n 'ATGCACTACCGCATTG-1',\n 'CTGGCGACATAAGTCC-1',\n 'TAACTCCATGGAGGCT-1',\n 'GACTGCACCAGCCCAG-1',\n 'GGCCGTTTGGGTTTCA-1',\n 'CAGAGGCGATGCATGA-1',\n 'GAAAGAACAGCGTTAT-1',\n 'TAGTGCCCTCCAGAGT-1',\n 'GACCGTGCTGACGGTG-1',\n 'TCTCATGAGATAGGGT-1',\n 'ACCTCCGTTATTCACC-1',\n 'AACAATACATTGTCGA-1',\n 'AGCTAACAAGCAATGT-1',\n 'GTGGTTTCCGCCTTTC-1',\n 'AGCGACATCCCATTCA-1',\n 'ACGTTAATGTCGAAGA-1',\n 'GTCATGCACCTCCGTT-1',\n 'TGTACCTACACGAGGG-1',\n 'CGGTGCAGATAGAACG-1',\n 'TAGGCATGTTACGCCA-1',\n 'AGCCCATACATGTAAG-1',\n 'AAACTCGGTTCGCAAT-1',\n 'ACCCGGTTACACTTCC-1',\n 'AGGGTTCCCTTTGGTT-1',\n 'CTGACTGCGCAGCTCG-1',\n 'GTGGAACCTACATGCG-1',\n 'AAAGTAGCATTGCTCA-1',\n 'CGCCAAGAAGCCGAGT-1',\n 'ACTTATACTTACCCGG-1',\n 'CGCGAGTCTGCCGGGT-1',\n 'CATACACGGTTCCCAC-1',\n 'TCCCTTAGATTACTCG-1',\n 'AACGGACGTACGTATA-1',\n 'TGCGGACTTGACTCCG-1',\n 'GAAATGGCGGTGTTAG-1',\n 'CTGTATGGTGTAGAAA-1',\n 'GCATTTCCAAGGCTCC-1',\n 'GGACTCGACAGCGCAT-1',\n 'AGAGTAAACTTCACTA-1',\n 'CGTGGCCGAATATCTA-1',\n 'CTAAATCCTATTCCGG-1',\n 'GAGGTACGCGTGTCCC-1',\n 'GCCTATTTGCTACACA-1',\n 'TGGGCACGTTCTATGG-1',\n 'CTTGTGAGTCTTTGAC-1',\n 'CTGTCAAATGGCTCGG-1',\n 'TTATTAGGGAAGCATC-1',\n 'AGTCCCGCCTTTAATT-1',\n 'TGGTTCAACGGGTAAT-1',\n 'AAGCGTCCCTCATCGA-1',\n 'CATCATCTACCCGGAC-1',\n 'TTCTGCGAGCGCCCTT-1',\n 'AGTGATTCAAGCAGGA-1',\n 'AAGGAGCGGTTGGTGC-1',\n 'TTAGCAACATGGATGT-1',\n 'CTTACACTGGGAAATA-1',\n 'CCCTCCTCGCTCGTAT-1',\n 'AGCCCGCAACAAGCAG-1',\n 'GGACCAACAGGATAAC-1',\n 'CAGATCATTTAAAGTC-1',\n 'TAGGTTCGAGTTCGTC-1',\n 'AGCAACCGAAAGTAAT-1',\n 'CGACAGTTCGCGTTAT-1',\n 'GTAATAAAGGGCTCCC-1',\n 'AGTGAGACTTCCAGTA-1',\n 'TCCCTGGCGTATTAAC-1',\n 'TTGCACGGAGCAGCAC-1',\n 'AAAGGCTACGGACCAT-1',\n 'CAGCGATTCCCTTCAA-1',\n 'ACTCTCTGACTTAGGT-1',\n 'CGGCCCAACCTGTAGT-1',\n 'CATAGCGTTGCCCACC-1',\n 'TAAGGAACTTGTGGGA-1',\n 'CTAACTGGTCCGGTTC-1',\n 'CCGATTCGAGGGACCC-1',\n 'AGTGTGGTCTATTGTG-1',\n 'CAAGCACCAAATGCCT-1',\n 'TGCCTGATCAAACGAT-1',\n 'GCTCCATGCAAAGCAA-1',\n 'TTATCCAATCGAACTC-1',\n 'GGAGGGCTTGGTTGGC-1',\n 'GAATTTCTCGCTGCAG-1',\n 'TCGCTACTGGCTTTGA-1',\n 'AATAGAATCTGTTTCA-1',\n 'CGTTTAAGCGGAGCAC-1',\n 'GCTACGACTTATTGGG-1',\n 'GAGGTCCCAAAGATCT-1',\n 'ACCGATGGTAGCATCG-1',\n 'TTCAACGACCCGACCG-1',\n 'CACTCAGCTCTTGAGG-1',\n 'GAAGCTTGCTGACCGC-1',\n 'TTCCTCGAGGGTGTCT-1',\n 'CTGCACCTGGAACCGC-1',\n 'ACAATCCATTTAAACC-1',\n 'CAGTGTCGGCTGGCCC-1',\n 'CAACTGCTCATCCGAT-1',\n 'ATGACGCGTTCTATCC-1',\n 'AACCTTTACGACGTCT-1',\n 'TACGTTTACCGGCAAT-1',\n 'AGACGACGATGCCGCT-1',\n 'TCGGAATGCGCTCTGA-1',\n 'GTGCGTGTATATGAGC-1',\n 'GTCGCGTAACCCGTTG-1',\n 'AACAGCTGTGTGGCAA-1',\n 'GAGTTGATGGCAATTT-1',\n 'TCGCTCGATATATTCC-1',\n 'ATGCCGGTTGATGGGA-1',\n 'AGGGCTGCAGTTACAG-1',\n 'CAACTCCTTGATCCCG-1',\n 'TATGTAAAGTGCTTAA-1',\n 'GAGCGAGGGAGTACCG-1',\n 'ATAATAGCTGTTGAAT-1',\n 'GCCCGCGCGTTTGACA-1',\n 'GCCCGTAATACCTTCT-1',\n 'GTTTCATATCGTCGCT-1',\n 'GCCAAGAATACTTCTG-1',\n 'TGCATGGATCGGATCT-1',\n 'TGCAACCCATCTGCGG-1',\n 'CGGAACGTAAACATAG-1',\n 'GATTCCTATACGGCGC-1',\n 'TCGTTAGGAGTCCCTA-1',\n 'TTACATGCCACAACTA-1',\n 'CGGGTGTACCCATTTA-1',\n 'AAACGGTTGCGAACTG-1',\n 'GGTATAGTGACACATA-1',\n 'GCGAGCGCATGCTCCC-1',\n 'TTATTAGAGCGTGTTC-1',\n 'CAAGCAACGTCGGAGT-1',\n 'CTAAAGGGAAATAGGA-1',\n 'TGTCCGTGGCGCCTTT-1',\n 'AGTACTCTTATGCCCA-1',\n 'ATAAGGTGGAGAACAT-1',\n 'GCTTTCAGAGGAGGTG-1',\n 'TTCTTGAGCCGCGCTA-1',\n 'CCATTTCTACCTATTA-1',\n 'CATGCCAACTCGCAAA-1',\n 'AGGCCTGAGAATCTCG-1',\n 'CTGGCTGATTCATCCT-1',\n 'GTCGTGTCTGGTCATC-1',\n 'AGAACGTGGTACATTC-1',\n 'TGATTCGTCTATCACT-1',\n 'ACATTAGTTTATATCC-1',\n 'CCTGTCGCCCGTAAAT-1',\n 'AATAACAACGCTCGGC-1',\n 'AGTCGTGGGCATTACG-1',\n 'ATTATCGGAATGTACG-1',\n 'GGAGTGCCGCCCTGGA-1',\n 'CAGTGAATAAATGACT-1',\n 'TAATAGTGACGACCAG-1',\n 'GTATAGGACTCAGTAG-1',\n 'CTGGTAACACATAGAA-1',\n 'GAAATCGCGCGCAACT-1',\n 'TGTGGCGGGCTTCTGG-1',\n 'TCTTCGATACCAATAA-1',\n 'ACGCTAGTGATACACT-1',\n 'CCATACCTTTACTTGT-1',\n 'GGGTGACACCTTAACT-1',\n 'CTATGCCCGAATGCAA-1',\n 'ATCAATCTGGGCTGCA-1',\n 'CACATGATTCAGCAAC-1',\n 'AGGGAAACGAGGTACT-1',\n 'CATACGGCGTCTGGGC-1',\n 'CCTTCTTGATCCAGTG-1',\n 'GTGCGAAATCGAACAC-1',\n 'TCACGGTCATCGCACA-1',\n 'ATAGGCGGCTATAGAA-1',\n 'AGGGTGGATAGTGCAT-1',\n 'TCAATACGCCGTCATG-1',\n 'ATCGCACGCCGGGAGA-1',\n 'CTGTGCAGGGTAGGTC-1',\n 'GCCATCGAGCTGCGTG-1',\n 'ATCGTTAGCTAGCGGA-1',\n 'TCTGGGTAGCGCTCAT-1',\n 'CGATCCTCGCAACATA-1',\n 'ATGGTCGCGTGGTTTC-1',\n 'TCTCTAATAGCTGGTA-1',\n 'AAAGACTGGGCGCTTT-1',\n 'AGATGATGGAGTCTGG-1',\n 'TTGGTCACACTCGTAA-1',\n 'TAGTCCGCAGAGAATG-1',\n 'GGTTTACAATCTCAAT-1',\n 'AGCGACAGGAACGGTC-1',\n 'ACAATGAATACGGAGA-1',\n ...]"
     },
     "execution_count": 17,
     "metadata": {},
     "output_type": "execute_result"
    }
   ],
   "source": [
    "spot_id_array"
   ],
   "metadata": {
    "collapsed": false,
    "ExecuteTime": {
     "end_time": "2024-08-25T07:01:16.291248700Z",
     "start_time": "2024-08-25T07:01:16.275252500Z"
    }
   }
  },
  {
   "cell_type": "code",
   "execution_count": 18,
   "metadata": {
    "ExecuteTime": {
     "end_time": "2024-08-25T07:01:16.676487300Z",
     "start_time": "2024-08-25T07:01:16.652468900Z"
    }
   },
   "outputs": [
    {
     "data": {
      "text/plain": "(2518, 3, 20, 20)"
     },
     "execution_count": 18,
     "metadata": {},
     "output_type": "execute_result"
    }
   ],
   "source": [
    "spot_data_array.shape"
   ]
  },
  {
   "cell_type": "code",
   "execution_count": 19,
   "metadata": {
    "ExecuteTime": {
     "end_time": "2024-08-25T07:01:17.272137600Z",
     "start_time": "2024-08-25T07:01:17.256175400Z"
    }
   },
   "outputs": [
    {
     "data": {
      "text/plain": "['TCCACATCGTATATTG-1',\n 'TCAACAAAGATAATTC-1',\n 'GAGCGCAAATACTCCG-1',\n 'AGAGATCTCTAAAGCG-1',\n 'GAGCGCTGTTAGGTAA-1']"
     },
     "execution_count": 19,
     "metadata": {},
     "output_type": "execute_result"
    }
   ],
   "source": [
    "spot_id_array[:5]"
   ]
  },
  {
   "cell_type": "markdown",
   "metadata": {},
   "source": [
    "To build the graph, we need to have the `array_col` and `array_row` for each spot:"
   ]
  },
  {
   "cell_type": "code",
   "execution_count": 20,
   "metadata": {
    "ExecuteTime": {
     "end_time": "2024-08-25T07:01:18.380511400Z",
     "start_time": "2024-08-25T07:01:18.343623100Z"
    }
   },
   "outputs": [],
   "source": [
    "# import scanpy as sc\n",
    "# \n",
    "# \n",
    "# adata = sc.read(\"../example_data/example_raw_data/sp.X_norm5e4_log1p.h5ad\")\n",
    "# spot_array_cols = adata.obs.array_col\n",
    "# spot_array_rows = adata.obs.array_row"
   ]
  },
  {
   "cell_type": "code",
   "execution_count": 21,
   "outputs": [
    {
     "name": "stderr",
     "output_type": "stream",
     "text": [
      "C:\\Users\\qq135\\Hist2Cell\\venv\\Lib\\site-packages\\anndata\\_core\\anndata.py:1820: UserWarning: Variable names are not unique. To make them unique, call `.var_names_make_unique`.\n",
      "  utils.warn_names_duplicates(\"var\")\n",
      "C:\\Users\\qq135\\Hist2Cell\\venv\\Lib\\site-packages\\anndata\\_core\\anndata.py:1820: UserWarning: Variable names are not unique. To make them unique, call `.var_names_make_unique`.\n",
      "  utils.warn_names_duplicates(\"var\")\n"
     ]
    }
   ],
   "source": [
    "# read ST data\n",
    "import scanpy as sc\n",
    "\n",
    "# adata = sc.read_visium(path = '../patch/V10T03-282-A1', \n",
    "#                        count_file='V10T03-282-A1__filtered_feature_bc_matrix.h5', \n",
    "#                        library_id='A1_spot',                        \n",
    "#                        load_images=True)\n",
    "adata = sc.read_visium(path = '../patch', \n",
    "                       count_file='Visium_FFPE_Human_Breast_Cancer_filtered_feature_bc_matrix.h5', \n",
    "                       library_id='A1_spot',                        \n",
    "                       load_images=True)\n",
    "adata.var_names_make_unique()\n",
    "adata.var['SYMBOL'] = adata.var_names\n",
    "\n",
    "spot_array_cols = adata.obs.array_col\n",
    "spot_array_rows = adata.obs.array_row\n"
   ],
   "metadata": {
    "collapsed": false,
    "ExecuteTime": {
     "end_time": "2024-08-25T07:01:19.764652600Z",
     "start_time": "2024-08-25T07:01:18.840659200Z"
    }
   }
  },
  {
   "cell_type": "markdown",
   "metadata": {},
   "source": [
    "From the `./example_data/example_raw_data/WSA_LngSP9258467/spot_view.jpg`, we can see that every spot has 6 nearest neighbors, build the graph according to this spatial relation:"
   ]
  },
  {
   "cell_type": "code",
   "execution_count": 22,
   "metadata": {
    "ExecuteTime": {
     "end_time": "2024-08-25T07:01:20.836524200Z",
     "start_time": "2024-08-25T07:01:20.811606800Z"
    }
   },
   "outputs": [],
   "source": [
    "import random\n",
    "spot_array_x_y = []\n",
    "for item in spot_id_array:\n",
    "    \n",
    "    spot_array_x_y.append([int(spot_array_cols[item]), int(spot_array_rows[item])])\n"
   ]
  },
  {
   "cell_type": "code",
   "execution_count": 23,
   "outputs": [
    {
     "data": {
      "text/plain": "[115, 41]"
     },
     "execution_count": 23,
     "metadata": {},
     "output_type": "execute_result"
    }
   ],
   "source": [
    "max(spot_array_x_y)"
   ],
   "metadata": {
    "collapsed": false,
    "ExecuteTime": {
     "end_time": "2024-08-25T07:01:21.182415200Z",
     "start_time": "2024-08-25T07:01:21.167782400Z"
    }
   }
  },
  {
   "cell_type": "code",
   "execution_count": 24,
   "metadata": {
    "ExecuteTime": {
     "end_time": "2024-08-25T07:01:24.648446500Z",
     "start_time": "2024-08-25T07:01:21.752089600Z"
    }
   },
   "outputs": [],
   "source": [
    "adj = np.zeros((len(spot_array_x_y), len(spot_array_x_y)))\n",
    "\n",
    "for i in range(len(spot_array_x_y)):\n",
    "    for j in range(len(spot_array_x_y)):\n",
    "        if i == j:\n",
    "            adj[i][j] = 1.0\n",
    "        else:\n",
    "            x1 = spot_array_x_y[i][0]\n",
    "            y1 = spot_array_x_y[i][1]\n",
    "            x2 = spot_array_x_y[j][0]\n",
    "            y2 = spot_array_x_y[j][1]\n",
    "\n",
    "            if x2 <= x1 - 3 or x2 >= x1 + 3 or y2 <= y1 - 2 or y2 >= y1 + 2:\n",
    "                continue\n",
    "            else:\n",
    "                adj[i][j] = 1.0"
   ]
  },
  {
   "cell_type": "markdown",
   "source": [],
   "metadata": {
    "collapsed": false
   }
  },
  {
   "cell_type": "code",
   "execution_count": 25,
   "outputs": [
    {
     "name": "stdout",
     "output_type": "stream",
     "text": [
      "[0, 1302, 1782, 2081, 2203]\n"
     ]
    }
   ],
   "source": [
    "num = 0\n",
    "name = []\n",
    "for x in range(len(adj[0])):\n",
    "    if adj[0][x] == 1:\n",
    "     num+=1\n",
    "     name.append(x)\n",
    "print(name)"
   ],
   "metadata": {
    "collapsed": false,
    "ExecuteTime": {
     "end_time": "2024-08-25T07:01:25.270591700Z",
     "start_time": "2024-08-25T07:01:25.233225900Z"
    }
   }
  },
  {
   "cell_type": "markdown",
   "metadata": {},
   "source": [
    "For easy visualization, we also save the pixel coordinate of each spot:"
   ]
  },
  {
   "cell_type": "code",
   "execution_count": 26,
   "metadata": {
    "ExecuteTime": {
     "end_time": "2024-08-25T07:01:26.464978500Z",
     "start_time": "2024-08-25T07:01:26.447447200Z"
    }
   },
   "outputs": [
    {
     "data": {
      "text/plain": "array([[1534.02308864, 1082.10699732],\n       [1239.47258772,  680.8247418 ],\n       [1203.48249436, 1505.09987596],\n       [1000.36431564,  564.76761888],\n       [1386.49284764,  617.22281568]])"
     },
     "execution_count": 26,
     "metadata": {},
     "output_type": "execute_result"
    }
   ],
   "source": [
    "spots_coord = pd.read_csv(os.path.join(\"../patch/output/tissue_positions_list_ordered.csv\"), index_col=0)\n",
    "spots_coord = spots_coord.loc[spot_id_array].values * 0.07285444\n",
    "spots_coord[:5]"
   ]
  },
  {
   "cell_type": "code",
   "execution_count": 27,
   "outputs": [
    {
     "data": {
      "text/plain": "(2518, 2)"
     },
     "execution_count": 27,
     "metadata": {},
     "output_type": "execute_result"
    }
   ],
   "source": [
    "spots_coord.shape"
   ],
   "metadata": {
    "collapsed": false,
    "ExecuteTime": {
     "end_time": "2024-08-25T07:01:27.291950900Z",
     "start_time": "2024-08-25T07:01:27.272912300Z"
    }
   }
  },
  {
   "cell_type": "markdown",
   "metadata": {},
   "source": [
    "Finally, we can save the processed data as `torch_geometric.data.Data` for `Hist2Cell` trainng:"
   ]
  },
  {
   "cell_type": "code",
   "execution_count": 28,
   "metadata": {
    "ExecuteTime": {
     "end_time": "2024-08-25T07:01:28.252959500Z",
     "start_time": "2024-08-25T07:01:28.222164700Z"
    }
   },
   "outputs": [
    {
     "data": {
      "text/plain": "Data(x=[2518, 3, 20, 20], edge_index=[2, 16608], y=[2518, 289], pos=[2518, 2])"
     },
     "execution_count": 28,
     "metadata": {},
     "output_type": "execute_result"
    }
   ],
   "source": [
    "from torch_geometric.utils import dense_to_sparse\n",
    "from torch_geometric.data import Data\n",
    "from torch import Tensor\n",
    "\n",
    "\n",
    "x = Tensor(spot_data_array)\n",
    "y = Tensor(spot_label_array)\n",
    "adj = Tensor(adj)\n",
    "edge_index, _ = dense_to_sparse(adj)\n",
    "pos = Tensor(spots_coord)\n",
    "data = Data(x=x, edge_index=edge_index, y=y, pos=pos)\n",
    "data"
   ]
  },
  {
   "cell_type": "code",
   "execution_count": 29,
   "outputs": [
    {
     "data": {
      "text/plain": "tensor([[   0,    0,    0,  ..., 2517, 2517, 2517],\n        [   0, 1302, 1782,  ..., 2307, 2336, 2517]])"
     },
     "execution_count": 29,
     "metadata": {},
     "output_type": "execute_result"
    }
   ],
   "source": [
    "edge_index"
   ],
   "metadata": {
    "collapsed": false,
    "ExecuteTime": {
     "end_time": "2024-08-25T07:01:29.691656800Z",
     "start_time": "2024-08-25T07:01:29.676190200Z"
    }
   }
  },
  {
   "cell_type": "code",
   "execution_count": 30,
   "metadata": {
    "ExecuteTime": {
     "end_time": "2024-08-25T07:01:31.668539900Z",
     "start_time": "2024-08-25T07:01:31.648894100Z"
    }
   },
   "outputs": [],
   "source": [
    "torch.save(data, \"../patch/output/tissue_hires_image.pt\")"
   ]
  },
  {
   "cell_type": "code",
   "execution_count": null,
   "outputs": [],
   "source": [],
   "metadata": {
    "collapsed": false
   }
  }
 ],
 "metadata": {
  "kernelspec": {
   "display_name": "Python 3 (ipykernel)",
   "language": "python",
   "name": "python3"
  },
  "language_info": {
   "codemirror_mode": {
    "name": "ipython",
    "version": 3
   },
   "file_extension": ".py",
   "mimetype": "text/x-python",
   "name": "python",
   "nbconvert_exporter": "python",
   "pygments_lexer": "ipython3",
   "version": "3.11.9"
  }
 },
 "nbformat": 4,
 "nbformat_minor": 4
}
